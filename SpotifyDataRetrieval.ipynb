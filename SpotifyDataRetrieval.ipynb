{
 "cells": [
  {
   "cell_type": "markdown",
   "metadata": {},
   "source": [
    "# Collecting Data from the Spotify Web API using Spotipy\n",
    "\n",
    "## About the Spotipy Library:\n",
    "\n",
    "From the [official Spotipy docs](https://spotipy.readthedocs.io/en/latest/): \n",
    ">\"Spotipy is a lightweight Python library for the Spotify Web API. With Spotipy you get full access to all of the music data provided by the Spotify platform.\"\n",
    "\n",
    "\n",
    "## About using the Spotify Web API:\n",
    "\n",
    "Spotify offers a number of [API endpoints](https://beta.developer.spotify.com/documentation/web-api/reference/) to access the Spotify data. In this notebook, I used the following:\n",
    "\n",
    "- [search endpoint](https://beta.developer.spotify.com/documentation/web-api/reference/search/search/) to get the track IDs \n",
    "- [audio features endpoint](https://beta.developer.spotify.com/documentation/web-api/reference/tracks/get-several-audio-features/) to get the corresponding audio features.\n",
    "\n",
    "The data was collected on several days during the months of April, May and August 2018.\n",
    "\n",
    "\n",
    "## Goal of this notebook:\n",
    "\n",
    "The goal is to show how to collect audio features data for tracks from the [official Spotify Web API](https://beta.developer.spotify.com/documentation/web-api/) in order to use it for further analysis/ machine learning which will be part of another notebook."
   ]
  },
  {
   "cell_type": "markdown",
   "metadata": {},
   "source": [
    "# 1. Setting Up\n",
    "\n",
    "The below code is sufficient to set up Spotipy for querying the API endpoint. A more detailed explanation of the whole procedure is available in the [official docs](https://spotipy.readthedocs.io/en/latest/#installation)."
   ]
  },
  {
   "cell_type": "code",
   "execution_count": 4,
   "metadata": {},
   "outputs": [],
   "source": [
    "import spotipy\n",
    "from spotipy.oauth2 import SpotifyClientCredentials\n",
    "\n",
    "cid =\"xx\" \n",
    "secret = \"xx\"\n",
    "\n",
    "client_credentials_manager = SpotifyClientCredentials(client_id=cid, client_secret=secret)\n",
    "sp = spotipy.Spotify(client_credentials_manager=client_credentials_manager)"
   ]
  },
  {
   "cell_type": "markdown",
   "metadata": {},
   "source": [
    "# 2. Get the Track ID Data\n",
    "\n",
    "The data collection is divided into 2 parts: the track IDs and the audio features. In this step, I'm going to collect 10.000 track IDs from the Spotify API.\n",
    "\n",
    "The [search endpoint](https://beta.developer.spotify.com/documentation/web-api/reference/search/search/) used in this step had a few limitations:\n",
    "\n",
    "- limit: a maximum of 50 results can be returned per query\n",
    "- offset: this is the index of the first result to return, so if you want to get the results with the index 50-100 you will need to set the offset to 50 etc.\n",
    "\n",
    "Spotify cut down the maximum offset to 10.000 (as of May 2018?), I was lucky enough to do my first collection attempt while it was still 100.000\n",
    "\n",
    "My solution: using a nested for loop, I increased the offset by 50 in the outer loop until the maxium limit/ offset was reached. The inner for loop did the actual querying and appending the returned results to appropriate lists which I used afterwards to create my dataframe."
   ]
  },
  {
   "cell_type": "code",
   "execution_count": 14,
   "metadata": {},
   "outputs": [
    {
     "name": "stdout",
     "output_type": "stream",
     "text": [
      "Time to run this code (in seconds): 25.634927900000037\n"
     ]
    }
   ],
   "source": [
    "# timeit library to measure the time needed to run this code\n",
    "import timeit\n",
    "start = timeit.default_timer()\n",
    "\n",
    "# create empty lists where the results are going to be stored\n",
    "artist_name = []\n",
    "track_name = []\n",
    "popularity = []\n",
    "track_id = []\n",
    "\n",
    "for i in range(0,5000,50):\n",
    "    track_results = sp.search(q='year:2018', type='track', limit=50,offset=i)\n",
    "    for i, t in enumerate(track_results['tracks']['items']):\n",
    "        artist_name.append(t['artists'][0]['name'])\n",
    "        track_name.append(t['name'])\n",
    "        track_id.append(t['id'])\n",
    "        popularity.append(t['popularity'])\n",
    "      \n",
    "\n",
    "stop = timeit.default_timer()\n",
    "print ('Time to run this code (in seconds):', stop - start)"
   ]
  },
  {
   "cell_type": "code",
   "execution_count": 34,
   "metadata": {},
   "outputs": [
    {
     "name": "stdout",
     "output_type": "stream",
     "text": [
      "Time to run this code (in seconds): 0.12312669999994341\n"
     ]
    }
   ],
   "source": [
    "import timeit\n",
    "start = timeit.default_timer()\n",
    "track_results = sp.search(q=\"year:2018\", type=\"track\", limit=50, offset=0)\n",
    "stop = timeit.default_timer()\n",
    "print('Time to run this code (in seconds):', stop - start )"
   ]
  },
  {
   "cell_type": "code",
   "execution_count": 46,
   "metadata": {},
   "outputs": [
    {
     "name": "stdout",
     "output_type": "stream",
     "text": [
      "href\n",
      "items\n",
      "limit\n",
      "next\n",
      "offset\n",
      "previous\n",
      "total\n",
      "\n",
      "[{'album': {'album_type': 'single', 'artists': [{'external_urls': {'spotify': 'https://open.spotify.com/artist/7uaIm6Pw7xplS8Dy06V6pT'}, 'href': 'https://api.spotify.com/v1/artists/7uaIm6Pw7xplS8Dy06V6pT', 'id': '7uaIm6Pw7xplS8Dy06V6pT', 'name': 'Trevor Daniel', 'type': 'artist', 'uri': 'spotify:artist:7uaIm6Pw7xplS8Dy06V6pT'}], 'available_markets': ['AD', 'AE', 'AR', 'AT', 'AU', 'BE', 'BG', 'BH', 'BO', 'BR', 'CA', 'CH', 'CL', 'CO', 'CR', 'CY', 'CZ', 'DE', 'DK', 'DO', 'DZ', 'EC', 'EE', 'EG', 'ES', 'FI', 'FR', 'GB', 'GR', 'GT', 'HK', 'HN', 'HU', 'ID', 'IE', 'IL', 'IN', 'IS', 'IT', 'JO', 'JP', 'KW', 'LB', 'LI', 'LT', 'LU', 'LV', 'MA', 'MC', 'MT', 'MX', 'MY', 'NI', 'NL', 'NO', 'NZ', 'OM', 'PA', 'PE', 'PH', 'PL', 'PS', 'PT', 'PY', 'QA', 'RO', 'SA', 'SE', 'SG', 'SK', 'SV', 'TH', 'TN', 'TR', 'TW', 'US', 'UY', 'VN', 'ZA'], 'external_urls': {'spotify': 'https://open.spotify.com/album/1Czfd5tEby3DbdYNdqzrCa'}, 'href': 'https://api.spotify.com/v1/albums/1Czfd5tEby3DbdYNdqzrCa', 'id': '1Czfd5tEby3DbdYNdqzrCa', 'images': [{'height': 640, 'url': 'https://i.scdn.co/image/ab67616d0000b2736376adb8412509a697896090', 'width': 640}, {'height': 300, 'url': 'https://i.scdn.co/image/ab67616d00001e026376adb8412509a697896090', 'width': 300}, {'height': 64, 'url': 'https://i.scdn.co/image/ab67616d000048516376adb8412509a697896090', 'width': 64}], 'name': 'Falling', 'release_date': '2018-10-05', 'release_date_precision': 'day', 'total_tracks': 1, 'type': 'album', 'uri': 'spotify:album:1Czfd5tEby3DbdYNdqzrCa'}, 'artists': [{'external_urls': {'spotify': 'https://open.spotify.com/artist/7uaIm6Pw7xplS8Dy06V6pT'}, 'href': 'https://api.spotify.com/v1/artists/7uaIm6Pw7xplS8Dy06V6pT', 'id': '7uaIm6Pw7xplS8Dy06V6pT', 'name': 'Trevor Daniel', 'type': 'artist', 'uri': 'spotify:artist:7uaIm6Pw7xplS8Dy06V6pT'}], 'available_markets': ['AD', 'AE', 'AR', 'AT', 'AU', 'BE', 'BG', 'BH', 'BO', 'BR', 'CA', 'CH', 'CL', 'CO', 'CR', 'CY', 'CZ', 'DE', 'DK', 'DO', 'DZ', 'EC', 'EE', 'EG', 'ES', 'FI', 'FR', 'GB', 'GR', 'GT', 'HK', 'HN', 'HU', 'ID', 'IE', 'IL', 'IN', 'IS', 'IT', 'JO', 'JP', 'KW', 'LB', 'LI', 'LT', 'LU', 'LV', 'MA', 'MC', 'MT', 'MX', 'MY', 'NI', 'NL', 'NO', 'NZ', 'OM', 'PA', 'PE', 'PH', 'PL', 'PS', 'PT', 'PY', 'QA', 'RO', 'SA', 'SE', 'SG', 'SK', 'SV', 'TH', 'TN', 'TR', 'TW', 'US', 'UY', 'VN', 'ZA'], 'disc_number': 1, 'duration_ms': 159381, 'explicit': False, 'external_ids': {'isrc': 'USUYG1221109'}, 'external_urls': {'spotify': 'https://open.spotify.com/track/4TnjEaWOeW0eKTKIEvJyCa'}, 'href': 'https://api.spotify.com/v1/tracks/4TnjEaWOeW0eKTKIEvJyCa', 'id': '4TnjEaWOeW0eKTKIEvJyCa', 'is_local': False, 'name': 'Falling', 'popularity': 97, 'preview_url': 'https://p.scdn.co/mp3-preview/dac6a7bd1f1333d17afe8c12b71ee11e3c233efd?cid=37bf09c4a866456ebea69781382fb291', 'track_number': 1, 'type': 'track', 'uri': 'spotify:track:4TnjEaWOeW0eKTKIEvJyCa'}, {'album': {'album_type': 'album', 'artists': [{'external_urls': {'spotify': 'https://open.spotify.com/artist/4MCBfE4596Uoi2O4DtmEMz'}, 'href': 'https://api.spotify.com/v1/artists/4MCBfE4596Uoi2O4DtmEMz', 'id': '4MCBfE4596Uoi2O4DtmEMz', 'name': 'Juice WRLD', 'type': 'artist', 'uri': 'spotify:artist:4MCBfE4596Uoi2O4DtmEMz'}], 'available_markets': ['AD', 'AE', 'AR', 'AT', 'AU', 'BE', 'BG', 'BH', 'BO', 'BR', 'CA', 'CH', 'CL', 'CO', 'CR', 'CY', 'CZ', 'DE', 'DK', 'DO', 'DZ', 'EC', 'EE', 'EG', 'ES', 'FI', 'FR', 'GB', 'GR', 'GT', 'HK', 'HN', 'HU', 'ID', 'IE', 'IL', 'IN', 'IS', 'IT', 'JO', 'JP', 'KW', 'LB', 'LI', 'LT', 'LU', 'LV', 'MA', 'MC', 'MT', 'MX', 'MY', 'NI', 'NL', 'NO', 'NZ', 'OM', 'PA', 'PE', 'PH', 'PL', 'PS', 'PT', 'PY', 'QA', 'RO', 'SA', 'SE', 'SG', 'SK', 'SV', 'TH', 'TN', 'TR', 'TW', 'US', 'UY', 'VN', 'ZA'], 'external_urls': {'spotify': 'https://open.spotify.com/album/6tkjU4Umpo79wwkgPMV3nZ'}, 'href': 'https://api.spotify.com/v1/albums/6tkjU4Umpo79wwkgPMV3nZ', 'id': '6tkjU4Umpo79wwkgPMV3nZ', 'images': [{'height': 640, 'url': 'https://i.scdn.co/image/94223e3a9f348e089dacd86dfecc444688d27bf1', 'width': 640}, {'height': 300, 'url': 'https://i.scdn.co/image/30d4742ff28b4323a2a0a5addf7d40dc2f54d97f', 'width': 300}, {'height': 64, 'url': 'https://i.scdn.co/image/b2c1b242db73e04d1f352a083c8bfe1d4682deb4', 'width': 64}], 'name': 'Goodbye & Good Riddance', 'release_date': '2018-12-10', 'release_date_precision': 'day', 'total_tracks': 17, 'type': 'album', 'uri': 'spotify:album:6tkjU4Umpo79wwkgPMV3nZ'}, 'artists': [{'external_urls': {'spotify': 'https://open.spotify.com/artist/4MCBfE4596Uoi2O4DtmEMz'}, 'href': 'https://api.spotify.com/v1/artists/4MCBfE4596Uoi2O4DtmEMz', 'id': '4MCBfE4596Uoi2O4DtmEMz', 'name': 'Juice WRLD', 'type': 'artist', 'uri': 'spotify:artist:4MCBfE4596Uoi2O4DtmEMz'}], 'available_markets': ['AD', 'AE', 'AR', 'AT', 'AU', 'BE', 'BG', 'BH', 'BO', 'BR', 'CA', 'CH', 'CL', 'CO', 'CR', 'CY', 'CZ', 'DE', 'DK', 'DO', 'DZ', 'EC', 'EE', 'EG', 'ES', 'FI', 'FR', 'GB', 'GR', 'GT', 'HK', 'HN', 'HU', 'ID', 'IE', 'IL', 'IN', 'IS', 'IT', 'JO', 'JP', 'KW', 'LB', 'LI', 'LT', 'LU', 'LV', 'MA', 'MC', 'MT', 'MX', 'MY', 'NI', 'NL', 'NO', 'NZ', 'OM', 'PA', 'PE', 'PH', 'PL', 'PS', 'PT', 'PY', 'QA', 'RO', 'SA', 'SE', 'SG', 'SK', 'SV', 'TH', 'TN', 'TR', 'TW', 'US', 'UY', 'VN', 'ZA'], 'disc_number': 1, 'duration_ms': 239835, 'explicit': True, 'external_ids': {'isrc': 'USUG11800685'}, 'external_urls': {'spotify': 'https://open.spotify.com/track/285pBltuF7vW8TeWk8hdRR'}, 'href': 'https://api.spotify.com/v1/tracks/285pBltuF7vW8TeWk8hdRR', 'id': '285pBltuF7vW8TeWk8hdRR', 'is_local': False, 'name': 'Lucid Dreams', 'popularity': 91, 'preview_url': None, 'track_number': 3, 'type': 'track', 'uri': 'spotify:track:285pBltuF7vW8TeWk8hdRR'}, {'album': {'album_type': 'album', 'artists': [{'external_urls': {'spotify': 'https://open.spotify.com/artist/4MCBfE4596Uoi2O4DtmEMz'}, 'href': 'https://api.spotify.com/v1/artists/4MCBfE4596Uoi2O4DtmEMz', 'id': '4MCBfE4596Uoi2O4DtmEMz', 'name': 'Juice WRLD', 'type': 'artist', 'uri': 'spotify:artist:4MCBfE4596Uoi2O4DtmEMz'}], 'available_markets': ['AD', 'AE', 'AR', 'AT', 'AU', 'BE', 'BG', 'BH', 'BO', 'BR', 'CA', 'CH', 'CL', 'CO', 'CR', 'CY', 'CZ', 'DE', 'DK', 'DO', 'DZ', 'EC', 'EE', 'EG', 'ES', 'FI', 'FR', 'GB', 'GR', 'GT', 'HK', 'HN', 'HU', 'ID', 'IE', 'IL', 'IN', 'IS', 'IT', 'JO', 'JP', 'KW', 'LB', 'LI', 'LT', 'LU', 'LV', 'MA', 'MC', 'MT', 'MX', 'MY', 'NI', 'NL', 'NO', 'NZ', 'OM', 'PA', 'PE', 'PH', 'PL', 'PS', 'PT', 'PY', 'QA', 'RO', 'SA', 'SE', 'SG', 'SK', 'SV', 'TH', 'TN', 'TR', 'TW', 'US', 'UY', 'VN', 'ZA'], 'external_urls': {'spotify': 'https://open.spotify.com/album/6tkjU4Umpo79wwkgPMV3nZ'}, 'href': 'https://api.spotify.com/v1/albums/6tkjU4Umpo79wwkgPMV3nZ', 'id': '6tkjU4Umpo79wwkgPMV3nZ', 'images': [{'height': 640, 'url': 'https://i.scdn.co/image/94223e3a9f348e089dacd86dfecc444688d27bf1', 'width': 640}, {'height': 300, 'url': 'https://i.scdn.co/image/30d4742ff28b4323a2a0a5addf7d40dc2f54d97f', 'width': 300}, {'height': 64, 'url': 'https://i.scdn.co/image/b2c1b242db73e04d1f352a083c8bfe1d4682deb4', 'width': 64}], 'name': 'Goodbye & Good Riddance', 'release_date': '2018-12-10', 'release_date_precision': 'day', 'total_tracks': 17, 'type': 'album', 'uri': 'spotify:album:6tkjU4Umpo79wwkgPMV3nZ'}, 'artists': [{'external_urls': {'spotify': 'https://open.spotify.com/artist/4MCBfE4596Uoi2O4DtmEMz'}, 'href': 'https://api.spotify.com/v1/artists/4MCBfE4596Uoi2O4DtmEMz', 'id': '4MCBfE4596Uoi2O4DtmEMz', 'name': 'Juice WRLD', 'type': 'artist', 'uri': 'spotify:artist:4MCBfE4596Uoi2O4DtmEMz'}], 'available_markets': ['AD', 'AE', 'AR', 'AT', 'AU', 'BE', 'BG', 'BH', 'BO', 'BR', 'CA', 'CH', 'CL', 'CO', 'CR', 'CY', 'CZ', 'DE', 'DK', 'DO', 'DZ', 'EC', 'EE', 'EG', 'ES', 'FI', 'FR', 'GB', 'GR', 'GT', 'HK', 'HN', 'HU', 'ID', 'IE', 'IL', 'IN', 'IS', 'IT', 'JO', 'JP', 'KW', 'LB', 'LI', 'LT', 'LU', 'LV', 'MA', 'MC', 'MT', 'MX', 'MY', 'NI', 'NL', 'NO', 'NZ', 'OM', 'PA', 'PE', 'PH', 'PL', 'PS', 'PT', 'PY', 'QA', 'RO', 'SA', 'SE', 'SG', 'SK', 'SV', 'TH', 'TN', 'TR', 'TW', 'US', 'UY', 'VN', 'ZA'], 'disc_number': 1, 'duration_ms': 165819, 'explicit': True, 'external_ids': {'isrc': 'USUG11800651'}, 'external_urls': {'spotify': 'https://open.spotify.com/track/4VXIryQMWpIdGgYR4TrjT1'}, 'href': 'https://api.spotify.com/v1/tracks/4VXIryQMWpIdGgYR4TrjT1', 'id': '4VXIryQMWpIdGgYR4TrjT1', 'is_local': False, 'name': 'All Girls Are The Same', 'popularity': 85, 'preview_url': None, 'track_number': 2, 'type': 'track', 'uri': 'spotify:track:4VXIryQMWpIdGgYR4TrjT1'}, {'album': {'album_type': 'compilation', 'artists': [{'external_urls': {'spotify': 'https://open.spotify.com/artist/0LyfQWJT6nXafLPZqxe9Of'}, 'href': 'https://api.spotify.com/v1/artists/0LyfQWJT6nXafLPZqxe9Of', 'id': '0LyfQWJT6nXafLPZqxe9Of', 'name': 'Various Artists', 'type': 'artist', 'uri': 'spotify:artist:0LyfQWJT6nXafLPZqxe9Of'}], 'available_markets': ['AD', 'AE', 'AR', 'AT', 'AU', 'BE', 'BG', 'BH', 'BO', 'BR', 'CA', 'CH', 'CL', 'CO', 'CR', 'CY', 'CZ', 'DE', 'DK', 'DO', 'DZ', 'EC', 'EE', 'EG', 'ES', 'FI', 'FR', 'GB', 'GR', 'GT', 'HK', 'HN', 'HU', 'ID', 'IE', 'IL', 'IN', 'IS', 'IT', 'JO', 'JP', 'KW', 'LB', 'LI', 'LT', 'LU', 'LV', 'MA', 'MC', 'MT', 'MX', 'MY', 'NI', 'NL', 'NO', 'NZ', 'OM', 'PA', 'PE', 'PH', 'PL', 'PS', 'PT', 'PY', 'QA', 'RO', 'SA', 'SE', 'SG', 'SK', 'SV', 'TH', 'TN', 'TR', 'TW', 'US', 'UY', 'VN', 'ZA'], 'external_urls': {'spotify': 'https://open.spotify.com/album/35s58BRTGAEWztPo9WqCIs'}, 'href': 'https://api.spotify.com/v1/albums/35s58BRTGAEWztPo9WqCIs', 'id': '35s58BRTGAEWztPo9WqCIs', 'images': [{'height': 640, 'url': 'https://i.scdn.co/image/ab67616d0000b273e2e352d89826aef6dbd5ff8f', 'width': 640}, {'height': 300, 'url': 'https://i.scdn.co/image/ab67616d00001e02e2e352d89826aef6dbd5ff8f', 'width': 300}, {'height': 64, 'url': 'https://i.scdn.co/image/ab67616d00004851e2e352d89826aef6dbd5ff8f', 'width': 64}], 'name': 'Spider-Man: Into the Spider-Verse (Soundtrack From & Inspired by the Motion Picture)', 'release_date': '2018-12-14', 'release_date_precision': 'day', 'total_tracks': 13, 'type': 'album', 'uri': 'spotify:album:35s58BRTGAEWztPo9WqCIs'}, 'artists': [{'external_urls': {'spotify': 'https://open.spotify.com/artist/246dkjvS1zLTtiykXe5h60'}, 'href': 'https://api.spotify.com/v1/artists/246dkjvS1zLTtiykXe5h60', 'id': '246dkjvS1zLTtiykXe5h60', 'name': 'Post Malone', 'type': 'artist', 'uri': 'spotify:artist:246dkjvS1zLTtiykXe5h60'}, {'external_urls': {'spotify': 'https://open.spotify.com/artist/1zNqQNIdeOUZHb8zbZRFMX'}, 'href': 'https://api.spotify.com/v1/artists/1zNqQNIdeOUZHb8zbZRFMX', 'id': '1zNqQNIdeOUZHb8zbZRFMX', 'name': 'Swae Lee', 'type': 'artist', 'uri': 'spotify:artist:1zNqQNIdeOUZHb8zbZRFMX'}], 'available_markets': ['AD', 'AE', 'AR', 'AT', 'AU', 'BE', 'BG', 'BH', 'BO', 'BR', 'CA', 'CH', 'CL', 'CO', 'CR', 'CY', 'CZ', 'DE', 'DK', 'DO', 'DZ', 'EC', 'EE', 'EG', 'ES', 'FI', 'FR', 'GB', 'GR', 'GT', 'HK', 'HN', 'HU', 'ID', 'IE', 'IL', 'IN', 'IS', 'IT', 'JO', 'JP', 'KW', 'LB', 'LI', 'LT', 'LU', 'LV', 'MA', 'MC', 'MT', 'MX', 'MY', 'NI', 'NL', 'NO', 'NZ', 'OM', 'PA', 'PE', 'PH', 'PL', 'PS', 'PT', 'PY', 'QA', 'RO', 'SA', 'SE', 'SG', 'SK', 'SV', 'TH', 'TN', 'TR', 'TW', 'US', 'UY', 'VN', 'ZA'], 'disc_number': 1, 'duration_ms': 158040, 'explicit': False, 'external_ids': {'isrc': 'USUM71814888'}, 'external_urls': {'spotify': 'https://open.spotify.com/track/3KkXRkHbMCARz0aVfEt68P'}, 'href': 'https://api.spotify.com/v1/tracks/3KkXRkHbMCARz0aVfEt68P', 'id': '3KkXRkHbMCARz0aVfEt68P', 'is_local': False, 'name': 'Sunflower - Spider-Man: Into the Spider-Verse', 'popularity': 87, 'preview_url': None, 'track_number': 2, 'type': 'track', 'uri': 'spotify:track:3KkXRkHbMCARz0aVfEt68P'}, {'album': {'album_type': 'single', 'artists': [{'external_urls': {'spotify': 'https://open.spotify.com/artist/6qqNVTkY8uBg9cP3Jd7DAH'}, 'href': 'https://api.spotify.com/v1/artists/6qqNVTkY8uBg9cP3Jd7DAH', 'id': '6qqNVTkY8uBg9cP3Jd7DAH', 'name': 'Billie Eilish', 'type': 'artist', 'uri': 'spotify:artist:6qqNVTkY8uBg9cP3Jd7DAH'}, {'external_urls': {'spotify': 'https://open.spotify.com/artist/6LuN9FCkKOj5PcnpouEgny'}, 'href': 'https://api.spotify.com/v1/artists/6LuN9FCkKOj5PcnpouEgny', 'id': '6LuN9FCkKOj5PcnpouEgny', 'name': 'Khalid', 'type': 'artist', 'uri': 'spotify:artist:6LuN9FCkKOj5PcnpouEgny'}], 'available_markets': ['AD', 'AE', 'AR', 'AT', 'AU', 'BE', 'BG', 'BH', 'BO', 'BR', 'CA', 'CH', 'CL', 'CO', 'CR', 'CY', 'CZ', 'DE', 'DK', 'DO', 'DZ', 'EC', 'EE', 'EG', 'ES', 'FI', 'FR', 'GB', 'GR', 'GT', 'HK', 'HN', 'HU', 'ID', 'IE', 'IL', 'IN', 'IS', 'IT', 'JO', 'JP', 'KW', 'LB', 'LI', 'LT', 'LU', 'LV', 'MA', 'MC', 'MT', 'MX', 'MY', 'NI', 'NL', 'NO', 'NZ', 'OM', 'PA', 'PE', 'PH', 'PL', 'PS', 'PT', 'PY', 'QA', 'RO', 'SA', 'SE', 'SG', 'SK', 'SV', 'TH', 'TN', 'TR', 'TW', 'US', 'UY', 'VN', 'ZA'], 'external_urls': {'spotify': 'https://open.spotify.com/album/2sBB17RXTamvj7Ncps15AK'}, 'href': 'https://api.spotify.com/v1/albums/2sBB17RXTamvj7Ncps15AK', 'id': '2sBB17RXTamvj7Ncps15AK', 'images': [{'height': 640, 'url': 'https://i.scdn.co/image/de625b781c9b6b02c078d0d122257d26ea62f469', 'width': 640}, {'height': 300, 'url': 'https://i.scdn.co/image/4a33b40eb39fb27eb3524728aff1a27cb60ab2e8', 'width': 300}, {'height': 64, 'url': 'https://i.scdn.co/image/9d95ac9d573809e324fff0bedba2fe207770be69', 'width': 64}], 'name': 'lovely (with Khalid)', 'release_date': '2018-04-19', 'release_date_precision': 'day', 'total_tracks': 1, 'type': 'album', 'uri': 'spotify:album:2sBB17RXTamvj7Ncps15AK'}, 'artists': [{'external_urls': {'spotify': 'https://open.spotify.com/artist/6qqNVTkY8uBg9cP3Jd7DAH'}, 'href': 'https://api.spotify.com/v1/artists/6qqNVTkY8uBg9cP3Jd7DAH', 'id': '6qqNVTkY8uBg9cP3Jd7DAH', 'name': 'Billie Eilish', 'type': 'artist', 'uri': 'spotify:artist:6qqNVTkY8uBg9cP3Jd7DAH'}, {'external_urls': {'spotify': 'https://open.spotify.com/artist/6LuN9FCkKOj5PcnpouEgny'}, 'href': 'https://api.spotify.com/v1/artists/6LuN9FCkKOj5PcnpouEgny', 'id': '6LuN9FCkKOj5PcnpouEgny', 'name': 'Khalid', 'type': 'artist', 'uri': 'spotify:artist:6LuN9FCkKOj5PcnpouEgny'}], 'available_markets': ['AD', 'AE', 'AR', 'AT', 'AU', 'BE', 'BG', 'BH', 'BO', 'BR', 'CA', 'CH', 'CL', 'CO', 'CR', 'CY', 'CZ', 'DE', 'DK', 'DO', 'DZ', 'EC', 'EE', 'EG', 'ES', 'FI', 'FR', 'GB', 'GR', 'GT', 'HK', 'HN', 'HU', 'ID', 'IE', 'IL', 'IN', 'IS', 'IT', 'JO', 'JP', 'KW', 'LB', 'LI', 'LT', 'LU', 'LV', 'MA', 'MC', 'MT', 'MX', 'MY', 'NI', 'NL', 'NO', 'NZ', 'OM', 'PA', 'PE', 'PH', 'PL', 'PS', 'PT', 'PY', 'QA', 'RO', 'SA', 'SE', 'SG', 'SK', 'SV', 'TH', 'TN', 'TR', 'TW', 'US', 'UY', 'VN', 'ZA'], 'disc_number': 1, 'duration_ms': 200185, 'explicit': False, 'external_ids': {'isrc': 'USUM71804190'}, 'external_urls': {'spotify': 'https://open.spotify.com/track/0u2P5u6lvoDfwTYjAADbn4'}, 'href': 'https://api.spotify.com/v1/tracks/0u2P5u6lvoDfwTYjAADbn4', 'id': '0u2P5u6lvoDfwTYjAADbn4', 'is_local': False, 'name': 'lovely (with Khalid)', 'popularity': 89, 'preview_url': None, 'track_number': 1, 'type': 'track', 'uri': 'spotify:track:0u2P5u6lvoDfwTYjAADbn4'}, {'album': {'album_type': 'single', 'artists': [{'external_urls': {'spotify': 'https://open.spotify.com/artist/4MCBfE4596Uoi2O4DtmEMz'}, 'href': 'https://api.spotify.com/v1/artists/4MCBfE4596Uoi2O4DtmEMz', 'id': '4MCBfE4596Uoi2O4DtmEMz', 'name': 'Juice WRLD', 'type': 'artist', 'uri': 'spotify:artist:4MCBfE4596Uoi2O4DtmEMz'}], 'available_markets': ['AD', 'AE', 'AR', 'AT', 'AU', 'BE', 'BG', 'BH', 'BO', 'BR', 'CA', 'CH', 'CL', 'CO', 'CR', 'CY', 'CZ', 'DE', 'DK', 'DO', 'DZ', 'EC', 'EE', 'EG', 'ES', 'FI', 'FR', 'GB', 'GR', 'GT', 'HK', 'HN', 'HU', 'ID', 'IE', 'IL', 'IN', 'IS', 'IT', 'JO', 'JP', 'KW', 'LB', 'LI', 'LT', 'LU', 'LV', 'MA', 'MC', 'MT', 'MX', 'MY', 'NI', 'NL', 'NO', 'NZ', 'OM', 'PA', 'PE', 'PH', 'PL', 'PS', 'PT', 'PY', 'QA', 'RO', 'SA', 'SE', 'SG', 'SK', 'SV', 'TH', 'TN', 'TR', 'TW', 'US', 'UY', 'VN', 'ZA'], 'external_urls': {'spotify': 'https://open.spotify.com/album/7zfsq2Hboh0SZMcWo2ASkD'}, 'href': 'https://api.spotify.com/v1/albums/7zfsq2Hboh0SZMcWo2ASkD', 'id': '7zfsq2Hboh0SZMcWo2ASkD', 'images': [{'height': 640, 'url': 'https://i.scdn.co/image/cf72447c396f4fbace3d5890796b80b3ed8d7b63', 'width': 640}, {'height': 300, 'url': 'https://i.scdn.co/image/fbbbf1c61b5780e866f3d70509dc29b8e3274852', 'width': 300}, {'height': 64, 'url': 'https://i.scdn.co/image/accb1aa00a517473569858e4a6e705d71d22b9a4', 'width': 64}], 'name': 'Legends', 'release_date': '2018-06-22', 'release_date_precision': 'day', 'total_tracks': 1, 'type': 'album', 'uri': 'spotify:album:7zfsq2Hboh0SZMcWo2ASkD'}, 'artists': [{'external_urls': {'spotify': 'https://open.spotify.com/artist/4MCBfE4596Uoi2O4DtmEMz'}, 'href': 'https://api.spotify.com/v1/artists/4MCBfE4596Uoi2O4DtmEMz', 'id': '4MCBfE4596Uoi2O4DtmEMz', 'name': 'Juice WRLD', 'type': 'artist', 'uri': 'spotify:artist:4MCBfE4596Uoi2O4DtmEMz'}], 'available_markets': ['AD', 'AE', 'AR', 'AT', 'AU', 'BE', 'BG', 'BH', 'BO', 'BR', 'CA', 'CH', 'CL', 'CO', 'CR', 'CY', 'CZ', 'DE', 'DK', 'DO', 'DZ', 'EC', 'EE', 'EG', 'ES', 'FI', 'FR', 'GB', 'GR', 'GT', 'HK', 'HN', 'HU', 'ID', 'IE', 'IL', 'IN', 'IS', 'IT', 'JO', 'JP', 'KW', 'LB', 'LI', 'LT', 'LU', 'LV', 'MA', 'MC', 'MT', 'MX', 'MY', 'NI', 'NL', 'NO', 'NZ', 'OM', 'PA', 'PE', 'PH', 'PL', 'PS', 'PT', 'PY', 'QA', 'RO', 'SA', 'SE', 'SG', 'SK', 'SV', 'TH', 'TN', 'TR', 'TW', 'US', 'UY', 'VN', 'ZA'], 'disc_number': 1, 'duration_ms': 191840, 'explicit': True, 'external_ids': {'isrc': 'USUG11801263'}, 'external_urls': {'spotify': 'https://open.spotify.com/track/1Knctxx9vGZxpZfF66BIEa'}, 'href': 'https://api.spotify.com/v1/tracks/1Knctxx9vGZxpZfF66BIEa', 'id': '1Knctxx9vGZxpZfF66BIEa', 'is_local': False, 'name': 'Legends', 'popularity': 85, 'preview_url': None, 'track_number': 1, 'type': 'track', 'uri': 'spotify:track:1Knctxx9vGZxpZfF66BIEa'}, {'album': {'album_type': 'album', 'artists': [{'external_urls': {'spotify': 'https://open.spotify.com/artist/1cNDP5yjU5vjeR8qMf4grg'}, 'href': 'https://api.spotify.com/v1/artists/1cNDP5yjU5vjeR8qMf4grg', 'id': '1cNDP5yjU5vjeR8qMf4grg', 'name': 'YNW Melly', 'type': 'artist', 'uri': 'spotify:artist:1cNDP5yjU5vjeR8qMf4grg'}], 'available_markets': ['AD', 'AE', 'AR', 'AT', 'AU', 'BE', 'BG', 'BH', 'BO', 'BR', 'CA', 'CH', 'CL', 'CO', 'CR', 'CY', 'CZ', 'DE', 'DK', 'DO', 'DZ', 'EC', 'EE', 'EG', 'ES', 'FI', 'FR', 'GB', 'GR', 'GT', 'HK', 'HN', 'HU', 'ID', 'IE', 'IL', 'IS', 'IT', 'JO', 'JP', 'KW', 'LB', 'LI', 'LT', 'LU', 'LV', 'MA', 'MC', 'MT', 'MX', 'MY', 'NI', 'NL', 'NO', 'NZ', 'OM', 'PA', 'PE', 'PH', 'PL', 'PS', 'PT', 'PY', 'QA', 'RO', 'SA', 'SE', 'SG', 'SK', 'SV', 'TH', 'TN', 'TR', 'TW', 'US', 'UY', 'VN', 'ZA'], 'external_urls': {'spotify': 'https://open.spotify.com/album/7naY6j4wcgUxfHB98G79CW'}, 'href': 'https://api.spotify.com/v1/albums/7naY6j4wcgUxfHB98G79CW', 'id': '7naY6j4wcgUxfHB98G79CW', 'images': [{'height': 640, 'url': 'https://i.scdn.co/image/ab67616d0000b2730f5397dc6aa91374897182e0', 'width': 640}, {'height': 300, 'url': 'https://i.scdn.co/image/ab67616d00001e020f5397dc6aa91374897182e0', 'width': 300}, {'height': 64, 'url': 'https://i.scdn.co/image/ab67616d000048510f5397dc6aa91374897182e0', 'width': 64}], 'name': 'I AM YOU', 'release_date': '2018-08-03', 'release_date_precision': 'day', 'total_tracks': 15, 'type': 'album', 'uri': 'spotify:album:7naY6j4wcgUxfHB98G79CW'}, 'artists': [{'external_urls': {'spotify': 'https://open.spotify.com/artist/1cNDP5yjU5vjeR8qMf4grg'}, 'href': 'https://api.spotify.com/v1/artists/1cNDP5yjU5vjeR8qMf4grg', 'id': '1cNDP5yjU5vjeR8qMf4grg', 'name': 'YNW Melly', 'type': 'artist', 'uri': 'spotify:artist:1cNDP5yjU5vjeR8qMf4grg'}], 'available_markets': ['AD', 'AE', 'AR', 'AT', 'AU', 'BE', 'BG', 'BH', 'BO', 'BR', 'CA', 'CH', 'CL', 'CO', 'CR', 'CY', 'CZ', 'DE', 'DK', 'DO', 'DZ', 'EC', 'EE', 'EG', 'ES', 'FI', 'FR', 'GB', 'GR', 'GT', 'HK', 'HN', 'HU', 'ID', 'IE', 'IL', 'IS', 'IT', 'JO', 'JP', 'KW', 'LB', 'LI', 'LT', 'LU', 'LV', 'MA', 'MC', 'MT', 'MX', 'MY', 'NI', 'NL', 'NO', 'NZ', 'OM', 'PA', 'PE', 'PH', 'PL', 'PS', 'PT', 'PY', 'QA', 'RO', 'SA', 'SE', 'SG', 'SK', 'SV', 'TH', 'TN', 'TR', 'TW', 'US', 'UY', 'VN', 'ZA'], 'disc_number': 1, 'duration_ms': 268434, 'explicit': True, 'external_ids': {'isrc': 'QMCE31801827'}, 'external_urls': {'spotify': 'https://open.spotify.com/track/7eBqSVxrzQZtK2mmgRG6lC'}, 'href': 'https://api.spotify.com/v1/tracks/7eBqSVxrzQZtK2mmgRG6lC', 'id': '7eBqSVxrzQZtK2mmgRG6lC', 'is_local': False, 'name': 'Murder On My Mind', 'popularity': 84, 'preview_url': 'https://p.scdn.co/mp3-preview/b681a45cf2f796326f42bed43a6e419cd88ef92c?cid=37bf09c4a866456ebea69781382fb291', 'track_number': 13, 'type': 'track', 'uri': 'spotify:track:7eBqSVxrzQZtK2mmgRG6lC'}, {'album': {'album_type': 'album', 'artists': [{'external_urls': {'spotify': 'https://open.spotify.com/artist/3MZsBdqDrRTJihTHQrO6Dq'}, 'href': 'https://api.spotify.com/v1/artists/3MZsBdqDrRTJihTHQrO6Dq', 'id': '3MZsBdqDrRTJihTHQrO6Dq', 'name': 'Joji', 'type': 'artist', 'uri': 'spotify:artist:3MZsBdqDrRTJihTHQrO6Dq'}], 'available_markets': ['AD', 'AE', 'AR', 'AT', 'AU', 'BE', 'BG', 'BH', 'BO', 'BR', 'CA', 'CH', 'CL', 'CO', 'CR', 'CY', 'CZ', 'DE', 'DK', 'DO', 'DZ', 'EC', 'EE', 'EG', 'ES', 'FI', 'FR', 'GB', 'GR', 'GT', 'HK', 'HN', 'HU', 'ID', 'IE', 'IL', 'IS', 'IT', 'JO', 'JP', 'KW', 'LB', 'LI', 'LT', 'LU', 'LV', 'MA', 'MC', 'MT', 'MX', 'MY', 'NI', 'NL', 'NO', 'NZ', 'OM', 'PA', 'PE', 'PH', 'PL', 'PS', 'PT', 'PY', 'QA', 'RO', 'SA', 'SE', 'SG', 'SK', 'SV', 'TH', 'TN', 'TR', 'TW', 'US', 'UY', 'VN', 'ZA'], 'external_urls': {'spotify': 'https://open.spotify.com/album/34GQP3dILpyCN018y2k61L'}, 'href': 'https://api.spotify.com/v1/albums/34GQP3dILpyCN018y2k61L', 'id': '34GQP3dILpyCN018y2k61L', 'images': [{'height': 640, 'url': 'https://i.scdn.co/image/ab67616d0000b27360ba1d6104d0475c7555a6b2', 'width': 640}, {'height': 300, 'url': 'https://i.scdn.co/image/ab67616d00001e0260ba1d6104d0475c7555a6b2', 'width': 300}, {'height': 64, 'url': 'https://i.scdn.co/image/ab67616d0000485160ba1d6104d0475c7555a6b2', 'width': 64}], 'name': 'BALLADS 1', 'release_date': '2018-10-26', 'release_date_precision': 'day', 'total_tracks': 12, 'type': 'album', 'uri': 'spotify:album:34GQP3dILpyCN018y2k61L'}, 'artists': [{'external_urls': {'spotify': 'https://open.spotify.com/artist/3MZsBdqDrRTJihTHQrO6Dq'}, 'href': 'https://api.spotify.com/v1/artists/3MZsBdqDrRTJihTHQrO6Dq', 'id': '3MZsBdqDrRTJihTHQrO6Dq', 'name': 'Joji', 'type': 'artist', 'uri': 'spotify:artist:3MZsBdqDrRTJihTHQrO6Dq'}], 'available_markets': ['AD', 'AE', 'AR', 'AT', 'AU', 'BE', 'BG', 'BH', 'BO', 'BR', 'CA', 'CH', 'CL', 'CO', 'CR', 'CY', 'CZ', 'DE', 'DK', 'DO', 'DZ', 'EC', 'EE', 'EG', 'ES', 'FI', 'FR', 'GB', 'GR', 'GT', 'HK', 'HN', 'HU', 'ID', 'IE', 'IL', 'IS', 'IT', 'JO', 'JP', 'KW', 'LB', 'LI', 'LT', 'LU', 'LV', 'MA', 'MC', 'MT', 'MX', 'MY', 'NI', 'NL', 'NO', 'NZ', 'OM', 'PA', 'PE', 'PH', 'PL', 'PS', 'PT', 'PY', 'QA', 'RO', 'SA', 'SE', 'SG', 'SK', 'SV', 'TH', 'TN', 'TR', 'TW', 'US', 'UY', 'VN', 'ZA'], 'disc_number': 1, 'duration_ms': 209273, 'explicit': True, 'external_ids': {'isrc': 'ZZOPM1800452'}, 'external_urls': {'spotify': 'https://open.spotify.com/track/0rKtyWc8bvkriBthvHKY8d'}, 'href': 'https://api.spotify.com/v1/tracks/0rKtyWc8bvkriBthvHKY8d', 'id': '0rKtyWc8bvkriBthvHKY8d', 'is_local': False, 'name': 'SLOW DANCING IN THE DARK', 'popularity': 85, 'preview_url': 'https://p.scdn.co/mp3-preview/483355f39bb264b9828633561ab14a7a48e75270?cid=37bf09c4a866456ebea69781382fb291', 'track_number': 2, 'type': 'track', 'uri': 'spotify:track:0rKtyWc8bvkriBthvHKY8d'}, {'album': {'album_type': 'album', 'artists': [{'external_urls': {'spotify': 'https://open.spotify.com/artist/5f7VJjfbwm532GiveGC0ZK'}, 'href': 'https://api.spotify.com/v1/artists/5f7VJjfbwm532GiveGC0ZK', 'id': '5f7VJjfbwm532GiveGC0ZK', 'name': 'Lil Baby', 'type': 'artist', 'uri': 'spotify:artist:5f7VJjfbwm532GiveGC0ZK'}, {'external_urls': {'spotify': 'https://open.spotify.com/artist/2hlmm7s2ICUX0LVIhVFlZQ'}, 'href': 'https://api.spotify.com/v1/artists/2hlmm7s2ICUX0LVIhVFlZQ', 'id': '2hlmm7s2ICUX0LVIhVFlZQ', 'name': 'Gunna', 'type': 'artist', 'uri': 'spotify:artist:2hlmm7s2ICUX0LVIhVFlZQ'}], 'available_markets': ['AD', 'AE', 'AR', 'AT', 'AU', 'BE', 'BG', 'BH', 'BO', 'BR', 'CA', 'CH', 'CL', 'CO', 'CR', 'CY', 'CZ', 'DE', 'DK', 'DO', 'DZ', 'EC', 'EE', 'EG', 'ES', 'FI', 'FR', 'GB', 'GR', 'GT', 'HK', 'HN', 'HU', 'ID', 'IE', 'IL', 'IN', 'IS', 'IT', 'JO', 'JP', 'KW', 'LB', 'LI', 'LT', 'LU', 'LV', 'MA', 'MC', 'MT', 'MX', 'MY', 'NI', 'NL', 'NO', 'NZ', 'OM', 'PA', 'PE', 'PH', 'PL', 'PS', 'PT', 'PY', 'QA', 'RO', 'SA', 'SE', 'SG', 'SK', 'SV', 'TH', 'TN', 'TR', 'TW', 'US', 'UY', 'VN', 'ZA'], 'external_urls': {'spotify': 'https://open.spotify.com/album/2yXnY2NiaZk9QiJJittS81'}, 'href': 'https://api.spotify.com/v1/albums/2yXnY2NiaZk9QiJJittS81', 'id': '2yXnY2NiaZk9QiJJittS81', 'images': [{'height': 640, 'url': 'https://i.scdn.co/image/14086343cc2402aa4c111df09e063a80f66d2247', 'width': 640}, {'height': 300, 'url': 'https://i.scdn.co/image/6136bb5fe89d48d933c84640139847c2d5d012d8', 'width': 300}, {'height': 64, 'url': 'https://i.scdn.co/image/fdfd6e34a35e299e2b498279ffed1f5643730dba', 'width': 64}], 'name': 'Drip Harder', 'release_date': '2018-10-05', 'release_date_precision': 'day', 'total_tracks': 13, 'type': 'album', 'uri': 'spotify:album:2yXnY2NiaZk9QiJJittS81'}, 'artists': [{'external_urls': {'spotify': 'https://open.spotify.com/artist/5f7VJjfbwm532GiveGC0ZK'}, 'href': 'https://api.spotify.com/v1/artists/5f7VJjfbwm532GiveGC0ZK', 'id': '5f7VJjfbwm532GiveGC0ZK', 'name': 'Lil Baby', 'type': 'artist', 'uri': 'spotify:artist:5f7VJjfbwm532GiveGC0ZK'}, {'external_urls': {'spotify': 'https://open.spotify.com/artist/2hlmm7s2ICUX0LVIhVFlZQ'}, 'href': 'https://api.spotify.com/v1/artists/2hlmm7s2ICUX0LVIhVFlZQ', 'id': '2hlmm7s2ICUX0LVIhVFlZQ', 'name': 'Gunna', 'type': 'artist', 'uri': 'spotify:artist:2hlmm7s2ICUX0LVIhVFlZQ'}], 'available_markets': ['AD', 'AE', 'AR', 'AT', 'AU', 'BE', 'BG', 'BH', 'BO', 'BR', 'CA', 'CH', 'CL', 'CO', 'CR', 'CY', 'CZ', 'DE', 'DK', 'DO', 'DZ', 'EC', 'EE', 'EG', 'ES', 'FI', 'FR', 'GB', 'GR', 'GT', 'HK', 'HN', 'HU', 'ID', 'IE', 'IL', 'IN', 'IS', 'IT', 'JO', 'JP', 'KW', 'LB', 'LI', 'LT', 'LU', 'LV', 'MA', 'MC', 'MT', 'MX', 'MY', 'NI', 'NL', 'NO', 'NZ', 'OM', 'PA', 'PE', 'PH', 'PL', 'PS', 'PT', 'PY', 'QA', 'RO', 'SA', 'SE', 'SG', 'SK', 'SV', 'TH', 'TN', 'TR', 'TW', 'US', 'UY', 'VN', 'ZA'], 'disc_number': 1, 'duration_ms': 145542, 'explicit': True, 'external_ids': {'isrc': 'USUG11801811'}, 'external_urls': {'spotify': 'https://open.spotify.com/track/78QR3Wp35dqAhFEc2qAGjE'}, 'href': 'https://api.spotify.com/v1/tracks/78QR3Wp35dqAhFEc2qAGjE', 'id': '78QR3Wp35dqAhFEc2qAGjE', 'is_local': False, 'name': 'Drip Too Hard (Lil Baby & Gunna)', 'popularity': 84, 'preview_url': None, 'track_number': 12, 'type': 'track', 'uri': 'spotify:track:78QR3Wp35dqAhFEc2qAGjE'}, {'album': {'album_type': 'album', 'artists': [{'external_urls': {'spotify': 'https://open.spotify.com/artist/0Y5tJX1MQlPlqiwlOH1tJY'}, 'href': 'https://api.spotify.com/v1/artists/0Y5tJX1MQlPlqiwlOH1tJY', 'id': '0Y5tJX1MQlPlqiwlOH1tJY', 'name': 'Travis Scott', 'type': 'artist', 'uri': 'spotify:artist:0Y5tJX1MQlPlqiwlOH1tJY'}], 'available_markets': ['AD', 'AE', 'AR', 'AT', 'AU', 'BE', 'BG', 'BH', 'BO', 'BR', 'CA', 'CH', 'CL', 'CO', 'CR', 'CY', 'CZ', 'DE', 'DK', 'DO', 'DZ', 'EC', 'EE', 'EG', 'ES', 'FI', 'FR', 'GB', 'GR', 'GT', 'HK', 'HN', 'HU', 'ID', 'IE', 'IL', 'IN', 'IS', 'IT', 'JO', 'JP', 'KW', 'LB', 'LI', 'LT', 'LU', 'LV', 'MA', 'MC', 'MT', 'MX', 'MY', 'NI', 'NL', 'NO', 'NZ', 'OM', 'PA', 'PE', 'PH', 'PL', 'PS', 'PT', 'PY', 'QA', 'RO', 'SA', 'SE', 'SG', 'SK', 'SV', 'TH', 'TN', 'TR', 'TW', 'US', 'UY', 'VN', 'ZA'], 'external_urls': {'spotify': 'https://open.spotify.com/album/41GuZcammIkupMPKH2OJ6I'}, 'href': 'https://api.spotify.com/v1/albums/41GuZcammIkupMPKH2OJ6I', 'id': '41GuZcammIkupMPKH2OJ6I', 'images': [{'height': 640, 'url': 'https://i.scdn.co/image/ab67616d0000b273072e9faef2ef7b6db63834a3', 'width': 640}, {'height': 300, 'url': 'https://i.scdn.co/image/ab67616d00001e02072e9faef2ef7b6db63834a3', 'width': 300}, {'height': 64, 'url': 'https://i.scdn.co/image/ab67616d00004851072e9faef2ef7b6db63834a3', 'width': 64}], 'name': 'ASTROWORLD', 'release_date': '2018-08-03', 'release_date_precision': 'day', 'total_tracks': 17, 'type': 'album', 'uri': 'spotify:album:41GuZcammIkupMPKH2OJ6I'}, 'artists': [{'external_urls': {'spotify': 'https://open.spotify.com/artist/0Y5tJX1MQlPlqiwlOH1tJY'}, 'href': 'https://api.spotify.com/v1/artists/0Y5tJX1MQlPlqiwlOH1tJY', 'id': '0Y5tJX1MQlPlqiwlOH1tJY', 'name': 'Travis Scott', 'type': 'artist', 'uri': 'spotify:artist:0Y5tJX1MQlPlqiwlOH1tJY'}], 'available_markets': ['AD', 'AE', 'AR', 'AT', 'AU', 'BE', 'BG', 'BH', 'BO', 'BR', 'CA', 'CH', 'CL', 'CO', 'CR', 'CY', 'CZ', 'DE', 'DK', 'DO', 'DZ', 'EC', 'EE', 'EG', 'ES', 'FI', 'FR', 'GB', 'GR', 'GT', 'HK', 'HN', 'HU', 'ID', 'IE', 'IL', 'IN', 'IS', 'IT', 'JO', 'JP', 'KW', 'LB', 'LI', 'LT', 'LU', 'LV', 'MA', 'MC', 'MT', 'MX', 'MY', 'NI', 'NL', 'NO', 'NZ', 'OM', 'PA', 'PE', 'PH', 'PL', 'PS', 'PT', 'PY', 'QA', 'RO', 'SA', 'SE', 'SG', 'SK', 'SV', 'TH', 'TN', 'TR', 'TW', 'US', 'UY', 'VN', 'ZA'], 'disc_number': 1, 'duration_ms': 312820, 'explicit': True, 'external_ids': {'isrc': 'USSM11806660'}, 'external_urls': {'spotify': 'https://open.spotify.com/track/2xLMifQCjDGFmkHkpNLD9h'}, 'href': 'https://api.spotify.com/v1/tracks/2xLMifQCjDGFmkHkpNLD9h', 'id': '2xLMifQCjDGFmkHkpNLD9h', 'is_local': False, 'name': 'SICKO MODE', 'popularity': 87, 'preview_url': 'https://p.scdn.co/mp3-preview/1c3c01c64477b356e28a652b6447f4ef96689a71?cid=37bf09c4a866456ebea69781382fb291', 'track_number': 3, 'type': 'track', 'uri': 'spotify:track:2xLMifQCjDGFmkHkpNLD9h'}, {'album': {'album_type': 'album', 'artists': [{'external_urls': {'spotify': 'https://open.spotify.com/artist/20sxb77xiYeusSH8cVdatc'}, 'href': 'https://api.spotify.com/v1/artists/20sxb77xiYeusSH8cVdatc', 'id': '20sxb77xiYeusSH8cVdatc', 'name': 'Meek Mill', 'type': 'artist', 'uri': 'spotify:artist:20sxb77xiYeusSH8cVdatc'}], 'available_markets': ['AD', 'AE', 'AR', 'AT', 'AU', 'BE', 'BG', 'BH', 'BO', 'BR', 'CA', 'CH', 'CL', 'CO', 'CR', 'CY', 'CZ', 'DE', 'DK', 'DO', 'DZ', 'EC', 'EE', 'EG', 'ES', 'FI', 'FR', 'GB', 'GR', 'GT', 'HK', 'HN', 'HU', 'ID', 'IE', 'IL', 'IS', 'IT', 'JO', 'JP', 'KW', 'LB', 'LI', 'LT', 'LU', 'LV', 'MA', 'MC', 'MT', 'MX', 'MY', 'NI', 'NL', 'NO', 'NZ', 'OM', 'PA', 'PE', 'PH', 'PL', 'PS', 'PT', 'PY', 'QA', 'RO', 'SA', 'SE', 'SG', 'SK', 'SV', 'TH', 'TN', 'TR', 'TW', 'US', 'UY', 'VN', 'ZA'], 'external_urls': {'spotify': 'https://open.spotify.com/album/6UYZEYjpN1DYRW0kqFy9ZE'}, 'href': 'https://api.spotify.com/v1/albums/6UYZEYjpN1DYRW0kqFy9ZE', 'id': '6UYZEYjpN1DYRW0kqFy9ZE', 'images': [{'height': 640, 'url': 'https://i.scdn.co/image/ab67616d0000b273cd63c5962050729d260077d6', 'width': 640}, {'height': 300, 'url': 'https://i.scdn.co/image/ab67616d00001e02cd63c5962050729d260077d6', 'width': 300}, {'height': 64, 'url': 'https://i.scdn.co/image/ab67616d00004851cd63c5962050729d260077d6', 'width': 64}], 'name': 'Championships', 'release_date': '2018-11-30', 'release_date_precision': 'day', 'total_tracks': 19, 'type': 'album', 'uri': 'spotify:album:6UYZEYjpN1DYRW0kqFy9ZE'}, 'artists': [{'external_urls': {'spotify': 'https://open.spotify.com/artist/20sxb77xiYeusSH8cVdatc'}, 'href': 'https://api.spotify.com/v1/artists/20sxb77xiYeusSH8cVdatc', 'id': '20sxb77xiYeusSH8cVdatc', 'name': 'Meek Mill', 'type': 'artist', 'uri': 'spotify:artist:20sxb77xiYeusSH8cVdatc'}, {'external_urls': {'spotify': 'https://open.spotify.com/artist/3TVXtAsR1Inumwj472S9r4'}, 'href': 'https://api.spotify.com/v1/artists/3TVXtAsR1Inumwj472S9r4', 'id': '3TVXtAsR1Inumwj472S9r4', 'name': 'Drake', 'type': 'artist', 'uri': 'spotify:artist:3TVXtAsR1Inumwj472S9r4'}], 'available_markets': ['AD', 'AE', 'AR', 'AT', 'AU', 'BE', 'BG', 'BH', 'BO', 'BR', 'CA', 'CH', 'CL', 'CO', 'CR', 'CY', 'CZ', 'DE', 'DK', 'DO', 'DZ', 'EC', 'EE', 'EG', 'ES', 'FI', 'FR', 'GB', 'GR', 'GT', 'HK', 'HN', 'HU', 'ID', 'IE', 'IL', 'IS', 'IT', 'JO', 'JP', 'KW', 'LB', 'LI', 'LT', 'LU', 'LV', 'MA', 'MC', 'MT', 'MX', 'MY', 'NI', 'NL', 'NO', 'NZ', 'OM', 'PA', 'PE', 'PH', 'PL', 'PS', 'PT', 'PY', 'QA', 'RO', 'SA', 'SE', 'SG', 'SK', 'SV', 'TH', 'TN', 'TR', 'TW', 'US', 'UY', 'VN', 'ZA'], 'disc_number': 1, 'duration_ms': 180522, 'explicit': True, 'external_ids': {'isrc': 'USAT21812710'}, 'external_urls': {'spotify': 'https://open.spotify.com/track/2IRZnDFmlqMuOrYOLnZZyc'}, 'href': 'https://api.spotify.com/v1/tracks/2IRZnDFmlqMuOrYOLnZZyc', 'id': '2IRZnDFmlqMuOrYOLnZZyc', 'is_local': False, 'name': 'Going Bad (feat. Drake)', 'popularity': 85, 'preview_url': 'https://p.scdn.co/mp3-preview/29e19c68dd853994221a90103db28427f1185e33?cid=37bf09c4a866456ebea69781382fb291', 'track_number': 9, 'type': 'track', 'uri': 'spotify:track:2IRZnDFmlqMuOrYOLnZZyc'}, {'album': {'album_type': 'album', 'artists': [{'external_urls': {'spotify': 'https://open.spotify.com/artist/15UsOTVnJzReFVN1VCnxy4'}, 'href': 'https://api.spotify.com/v1/artists/15UsOTVnJzReFVN1VCnxy4', 'id': '15UsOTVnJzReFVN1VCnxy4', 'name': 'XXXTENTACION', 'type': 'artist', 'uri': 'spotify:artist:15UsOTVnJzReFVN1VCnxy4'}], 'available_markets': ['AD', 'AE', 'AR', 'AT', 'AU', 'BE', 'BG', 'BH', 'BO', 'BR', 'CA', 'CH', 'CL', 'CO', 'CR', 'CY', 'CZ', 'DE', 'DK', 'DO', 'DZ', 'EC', 'EE', 'EG', 'ES', 'FI', 'FR', 'GB', 'GR', 'GT', 'HK', 'HN', 'HU', 'ID', 'IE', 'IL', 'IN', 'IS', 'IT', 'JO', 'JP', 'KW', 'LB', 'LI', 'LT', 'LU', 'LV', 'MA', 'MC', 'MT', 'MX', 'MY', 'NI', 'NL', 'NO', 'NZ', 'OM', 'PA', 'PE', 'PH', 'PL', 'PS', 'PT', 'PY', 'QA', 'RO', 'SA', 'SE', 'SG', 'SK', 'SV', 'TH', 'TN', 'TR', 'TW', 'US', 'UY', 'VN', 'ZA'], 'external_urls': {'spotify': 'https://open.spotify.com/album/2Ti79nwTsont5ZHfdxIzAm'}, 'href': 'https://api.spotify.com/v1/albums/2Ti79nwTsont5ZHfdxIzAm', 'id': '2Ti79nwTsont5ZHfdxIzAm', 'images': [{'height': 640, 'url': 'https://i.scdn.co/image/c041fc9e4ea400357329fd7110952c014561ab5a', 'width': 640}, {'height': 300, 'url': 'https://i.scdn.co/image/6f2435cf0bb15db2229a1ec4ffad9a0372d500b0', 'width': 300}, {'height': 64, 'url': 'https://i.scdn.co/image/f0443f8ad743f6052c813c593f1ad0fc161965a2', 'width': 64}], 'name': '?', 'release_date': '2018-03-16', 'release_date_precision': 'day', 'total_tracks': 18, 'type': 'album', 'uri': 'spotify:album:2Ti79nwTsont5ZHfdxIzAm'}, 'artists': [{'external_urls': {'spotify': 'https://open.spotify.com/artist/15UsOTVnJzReFVN1VCnxy4'}, 'href': 'https://api.spotify.com/v1/artists/15UsOTVnJzReFVN1VCnxy4', 'id': '15UsOTVnJzReFVN1VCnxy4', 'name': 'XXXTENTACION', 'type': 'artist', 'uri': 'spotify:artist:15UsOTVnJzReFVN1VCnxy4'}], 'available_markets': ['AD', 'AE', 'AR', 'AT', 'AU', 'BE', 'BG', 'BH', 'BO', 'BR', 'CA', 'CH', 'CL', 'CO', 'CR', 'CY', 'CZ', 'DE', 'DK', 'DO', 'DZ', 'EC', 'EE', 'EG', 'ES', 'FI', 'FR', 'GB', 'GR', 'GT', 'HK', 'HN', 'HU', 'ID', 'IE', 'IL', 'IN', 'IS', 'IT', 'JO', 'JP', 'KW', 'LB', 'LI', 'LT', 'LU', 'LV', 'MA', 'MC', 'MT', 'MX', 'MY', 'NI', 'NL', 'NO', 'NZ', 'OM', 'PA', 'PE', 'PH', 'PL', 'PS', 'PT', 'PY', 'QA', 'RO', 'SA', 'SE', 'SG', 'SK', 'SV', 'TH', 'TN', 'TR', 'TW', 'US', 'UY', 'VN', 'ZA'], 'disc_number': 1, 'duration_ms': 166605, 'explicit': True, 'external_ids': {'isrc': 'USUG11800208'}, 'external_urls': {'spotify': 'https://open.spotify.com/track/3ee8Jmje8o58CHK66QrVC2'}, 'href': 'https://api.spotify.com/v1/tracks/3ee8Jmje8o58CHK66QrVC2', 'id': '3ee8Jmje8o58CHK66QrVC2', 'is_local': False, 'name': 'SAD!', 'popularity': 86, 'preview_url': None, 'track_number': 4, 'type': 'track', 'uri': 'spotify:track:3ee8Jmje8o58CHK66QrVC2'}, {'album': {'album_type': 'album', 'artists': [{'external_urls': {'spotify': 'https://open.spotify.com/artist/31W5EY0aAly4Qieq6OFu6I'}, 'href': 'https://api.spotify.com/v1/artists/31W5EY0aAly4Qieq6OFu6I', 'id': '31W5EY0aAly4Qieq6OFu6I', 'name': 'A Boogie Wit da Hoodie', 'type': 'artist', 'uri': 'spotify:artist:31W5EY0aAly4Qieq6OFu6I'}], 'available_markets': ['AD', 'AE', 'AR', 'AT', 'AU', 'BE', 'BG', 'BH', 'BO', 'BR', 'CA', 'CH', 'CL', 'CO', 'CR', 'CY', 'CZ', 'DE', 'DK', 'DO', 'DZ', 'EC', 'EE', 'EG', 'ES', 'FI', 'FR', 'GB', 'GR', 'GT', 'HK', 'HN', 'HU', 'ID', 'IE', 'IL', 'IS', 'IT', 'JO', 'JP', 'KW', 'LB', 'LI', 'LT', 'LU', 'LV', 'MA', 'MC', 'MT', 'MX', 'MY', 'NI', 'NL', 'NO', 'NZ', 'OM', 'PA', 'PE', 'PH', 'PL', 'PS', 'PT', 'PY', 'QA', 'RO', 'SA', 'SE', 'SG', 'SK', 'SV', 'TH', 'TN', 'TR', 'TW', 'US', 'UY', 'VN', 'ZA'], 'external_urls': {'spotify': 'https://open.spotify.com/album/3r5hf3Cj3EMh1C2saQ8jyt'}, 'href': 'https://api.spotify.com/v1/albums/3r5hf3Cj3EMh1C2saQ8jyt', 'id': '3r5hf3Cj3EMh1C2saQ8jyt', 'images': [{'height': 640, 'url': 'https://i.scdn.co/image/ab67616d0000b273dcfadea246002a5c0fd7b1b8', 'width': 640}, {'height': 300, 'url': 'https://i.scdn.co/image/ab67616d00001e02dcfadea246002a5c0fd7b1b8', 'width': 300}, {'height': 64, 'url': 'https://i.scdn.co/image/ab67616d00004851dcfadea246002a5c0fd7b1b8', 'width': 64}], 'name': 'Hoodie SZN', 'release_date': '2018-12-21', 'release_date_precision': 'day', 'total_tracks': 20, 'type': 'album', 'uri': 'spotify:album:3r5hf3Cj3EMh1C2saQ8jyt'}, 'artists': [{'external_urls': {'spotify': 'https://open.spotify.com/artist/31W5EY0aAly4Qieq6OFu6I'}, 'href': 'https://api.spotify.com/v1/artists/31W5EY0aAly4Qieq6OFu6I', 'id': '31W5EY0aAly4Qieq6OFu6I', 'name': 'A Boogie Wit da Hoodie', 'type': 'artist', 'uri': 'spotify:artist:31W5EY0aAly4Qieq6OFu6I'}, {'external_urls': {'spotify': 'https://open.spotify.com/artist/7gZfnEnfiaHzxARJ2LeXrf'}, 'href': 'https://api.spotify.com/v1/artists/7gZfnEnfiaHzxARJ2LeXrf', 'id': '7gZfnEnfiaHzxARJ2LeXrf', 'name': '6ix9ine', 'type': 'artist', 'uri': 'spotify:artist:7gZfnEnfiaHzxARJ2LeXrf'}], 'available_markets': ['AD', 'AE', 'AR', 'AT', 'AU', 'BE', 'BG', 'BH', 'BO', 'BR', 'CA', 'CH', 'CL', 'CO', 'CR', 'CY', 'CZ', 'DE', 'DK', 'DO', 'DZ', 'EC', 'EE', 'EG', 'ES', 'FI', 'FR', 'GB', 'GR', 'GT', 'HK', 'HN', 'HU', 'ID', 'IE', 'IL', 'IS', 'IT', 'JO', 'JP', 'KW', 'LB', 'LI', 'LT', 'LU', 'LV', 'MA', 'MC', 'MT', 'MX', 'MY', 'NI', 'NL', 'NO', 'NZ', 'OM', 'PA', 'PE', 'PH', 'PL', 'PS', 'PT', 'PY', 'QA', 'RO', 'SA', 'SE', 'SG', 'SK', 'SV', 'TH', 'TN', 'TR', 'TW', 'US', 'UY', 'VN', 'ZA'], 'disc_number': 1, 'duration_ms': 189486, 'explicit': True, 'external_ids': {'isrc': 'USAT21812918'}, 'external_urls': {'spotify': 'https://open.spotify.com/track/1wJRveJZLSb1rjhnUHQiv6'}, 'href': 'https://api.spotify.com/v1/tracks/1wJRveJZLSb1rjhnUHQiv6', 'id': '1wJRveJZLSb1rjhnUHQiv6', 'is_local': False, 'name': 'Swervin (feat. 6ix9ine)', 'popularity': 84, 'preview_url': 'https://p.scdn.co/mp3-preview/4c2dc4b8977f9b92768f9825094288d9de71fd09?cid=37bf09c4a866456ebea69781382fb291', 'track_number': 4, 'type': 'track', 'uri': 'spotify:track:1wJRveJZLSb1rjhnUHQiv6'}, {'album': {'album_type': 'album', 'artists': [{'external_urls': {'spotify': 'https://open.spotify.com/artist/4MCBfE4596Uoi2O4DtmEMz'}, 'href': 'https://api.spotify.com/v1/artists/4MCBfE4596Uoi2O4DtmEMz', 'id': '4MCBfE4596Uoi2O4DtmEMz', 'name': 'Juice WRLD', 'type': 'artist', 'uri': 'spotify:artist:4MCBfE4596Uoi2O4DtmEMz'}], 'available_markets': ['AD', 'AE', 'AR', 'AT', 'AU', 'BE', 'BG', 'BH', 'BO', 'BR', 'CA', 'CH', 'CL', 'CO', 'CR', 'CY', 'CZ', 'DE', 'DK', 'DO', 'DZ', 'EC', 'EE', 'EG', 'ES', 'FI', 'FR', 'GB', 'GR', 'GT', 'HK', 'HN', 'HU', 'ID', 'IE', 'IL', 'IN', 'IS', 'IT', 'JO', 'JP', 'KW', 'LB', 'LI', 'LT', 'LU', 'LV', 'MA', 'MC', 'MT', 'MX', 'MY', 'NI', 'NL', 'NO', 'NZ', 'OM', 'PA', 'PE', 'PH', 'PL', 'PS', 'PT', 'PY', 'QA', 'RO', 'SA', 'SE', 'SG', 'SK', 'SV', 'TH', 'TN', 'TR', 'TW', 'US', 'UY', 'VN', 'ZA'], 'external_urls': {'spotify': 'https://open.spotify.com/album/6tkjU4Umpo79wwkgPMV3nZ'}, 'href': 'https://api.spotify.com/v1/albums/6tkjU4Umpo79wwkgPMV3nZ', 'id': '6tkjU4Umpo79wwkgPMV3nZ', 'images': [{'height': 640, 'url': 'https://i.scdn.co/image/94223e3a9f348e089dacd86dfecc444688d27bf1', 'width': 640}, {'height': 300, 'url': 'https://i.scdn.co/image/30d4742ff28b4323a2a0a5addf7d40dc2f54d97f', 'width': 300}, {'height': 64, 'url': 'https://i.scdn.co/image/b2c1b242db73e04d1f352a083c8bfe1d4682deb4', 'width': 64}], 'name': 'Goodbye & Good Riddance', 'release_date': '2018-12-10', 'release_date_precision': 'day', 'total_tracks': 17, 'type': 'album', 'uri': 'spotify:album:6tkjU4Umpo79wwkgPMV3nZ'}, 'artists': [{'external_urls': {'spotify': 'https://open.spotify.com/artist/4MCBfE4596Uoi2O4DtmEMz'}, 'href': 'https://api.spotify.com/v1/artists/4MCBfE4596Uoi2O4DtmEMz', 'id': '4MCBfE4596Uoi2O4DtmEMz', 'name': 'Juice WRLD', 'type': 'artist', 'uri': 'spotify:artist:4MCBfE4596Uoi2O4DtmEMz'}], 'available_markets': ['AD', 'AE', 'AR', 'AT', 'AU', 'BE', 'BG', 'BH', 'BO', 'BR', 'CA', 'CH', 'CL', 'CO', 'CR', 'CY', 'CZ', 'DE', 'DK', 'DO', 'DZ', 'EC', 'EE', 'EG', 'ES', 'FI', 'FR', 'GB', 'GR', 'GT', 'HK', 'HN', 'HU', 'ID', 'IE', 'IL', 'IN', 'IS', 'IT', 'JO', 'JP', 'KW', 'LB', 'LI', 'LT', 'LU', 'LV', 'MA', 'MC', 'MT', 'MX', 'MY', 'NI', 'NL', 'NO', 'NZ', 'OM', 'PA', 'PE', 'PH', 'PL', 'PS', 'PT', 'PY', 'QA', 'RO', 'SA', 'SE', 'SG', 'SK', 'SV', 'TH', 'TN', 'TR', 'TW', 'US', 'UY', 'VN', 'ZA'], 'disc_number': 1, 'duration_ms': 169999, 'explicit': True, 'external_ids': {'isrc': 'USUG11802039'}, 'external_urls': {'spotify': 'https://open.spotify.com/track/5wujBwqG7INdStqGd4tRMX'}, 'href': 'https://api.spotify.com/v1/tracks/5wujBwqG7INdStqGd4tRMX', 'id': '5wujBwqG7INdStqGd4tRMX', 'is_local': False, 'name': 'Armed And Dangerous', 'popularity': 82, 'preview_url': None, 'track_number': 5, 'type': 'track', 'uri': 'spotify:track:5wujBwqG7INdStqGd4tRMX'}, {'album': {'album_type': 'album', 'artists': [{'external_urls': {'spotify': 'https://open.spotify.com/artist/246dkjvS1zLTtiykXe5h60'}, 'href': 'https://api.spotify.com/v1/artists/246dkjvS1zLTtiykXe5h60', 'id': '246dkjvS1zLTtiykXe5h60', 'name': 'Post Malone', 'type': 'artist', 'uri': 'spotify:artist:246dkjvS1zLTtiykXe5h60'}], 'available_markets': ['AD', 'AE', 'AR', 'AT', 'AU', 'BE', 'BG', 'BH', 'BO', 'BR', 'CA', 'CH', 'CL', 'CO', 'CR', 'CY', 'CZ', 'DE', 'DK', 'DO', 'DZ', 'EC', 'EE', 'EG', 'ES', 'FI', 'FR', 'GB', 'GR', 'GT', 'HK', 'HN', 'HU', 'ID', 'IE', 'IL', 'IN', 'IS', 'IT', 'JO', 'JP', 'KW', 'LB', 'LI', 'LT', 'LU', 'LV', 'MA', 'MC', 'MT', 'MX', 'MY', 'NI', 'NL', 'NO', 'NZ', 'OM', 'PA', 'PE', 'PH', 'PL', 'PS', 'PT', 'PY', 'QA', 'RO', 'SA', 'SE', 'SG', 'SK', 'SV', 'TH', 'TN', 'TR', 'TW', 'US', 'UY', 'VN', 'ZA'], 'external_urls': {'spotify': 'https://open.spotify.com/album/6trNtQUgC8cgbWcqoMYkOR'}, 'href': 'https://api.spotify.com/v1/albums/6trNtQUgC8cgbWcqoMYkOR', 'id': '6trNtQUgC8cgbWcqoMYkOR', 'images': [{'height': 640, 'url': 'https://i.scdn.co/image/08569f4ebf39ea275f9601a0f5ae62c489485a7b', 'width': 640}, {'height': 300, 'url': 'https://i.scdn.co/image/d85f15fcbf946d42f3465a8bf1294fff6c64d5fd', 'width': 300}, {'height': 64, 'url': 'https://i.scdn.co/image/4eeab79394ac6dd1d58132e9cecc5d6ba61b9ca1', 'width': 64}], 'name': 'beerbongs & bentleys', 'release_date': '2018-04-27', 'release_date_precision': 'day', 'total_tracks': 18, 'type': 'album', 'uri': 'spotify:album:6trNtQUgC8cgbWcqoMYkOR'}, 'artists': [{'external_urls': {'spotify': 'https://open.spotify.com/artist/246dkjvS1zLTtiykXe5h60'}, 'href': 'https://api.spotify.com/v1/artists/246dkjvS1zLTtiykXe5h60', 'id': '246dkjvS1zLTtiykXe5h60', 'name': 'Post Malone', 'type': 'artist', 'uri': 'spotify:artist:246dkjvS1zLTtiykXe5h60'}, {'external_urls': {'spotify': 'https://open.spotify.com/artist/1URnnhqYAYcrqrcwql10ft'}, 'href': 'https://api.spotify.com/v1/artists/1URnnhqYAYcrqrcwql10ft', 'id': '1URnnhqYAYcrqrcwql10ft', 'name': '21 Savage', 'type': 'artist', 'uri': 'spotify:artist:1URnnhqYAYcrqrcwql10ft'}], 'available_markets': ['AD', 'AE', 'AR', 'AT', 'AU', 'BE', 'BG', 'BH', 'BO', 'BR', 'CA', 'CH', 'CL', 'CO', 'CR', 'CY', 'CZ', 'DE', 'DK', 'DO', 'DZ', 'EC', 'EE', 'EG', 'ES', 'FI', 'FR', 'GB', 'GR', 'GT', 'HK', 'HN', 'HU', 'ID', 'IE', 'IL', 'IN', 'IS', 'IT', 'JO', 'JP', 'KW', 'LB', 'LI', 'LT', 'LU', 'LV', 'MA', 'MC', 'MT', 'MX', 'MY', 'NI', 'NL', 'NO', 'NZ', 'OM', 'PA', 'PE', 'PH', 'PL', 'PS', 'PT', 'PY', 'QA', 'RO', 'SA', 'SE', 'SG', 'SK', 'SV', 'TH', 'TN', 'TR', 'TW', 'US', 'UY', 'VN', 'ZA'], 'disc_number': 1, 'duration_ms': 218146, 'explicit': True, 'external_ids': {'isrc': 'USUM71710087'}, 'external_urls': {'spotify': 'https://open.spotify.com/track/0e7ipj03S05BNilyu5bRzt'}, 'href': 'https://api.spotify.com/v1/tracks/0e7ipj03S05BNilyu5bRzt', 'id': '0e7ipj03S05BNilyu5bRzt', 'is_local': False, 'name': 'rockstar (feat. 21 Savage)', 'popularity': 87, 'preview_url': None, 'track_number': 6, 'type': 'track', 'uri': 'spotify:track:0e7ipj03S05BNilyu5bRzt'}, {'album': {'album_type': 'album', 'artists': [{'external_urls': {'spotify': 'https://open.spotify.com/artist/4MCBfE4596Uoi2O4DtmEMz'}, 'href': 'https://api.spotify.com/v1/artists/4MCBfE4596Uoi2O4DtmEMz', 'id': '4MCBfE4596Uoi2O4DtmEMz', 'name': 'Juice WRLD', 'type': 'artist', 'uri': 'spotify:artist:4MCBfE4596Uoi2O4DtmEMz'}], 'available_markets': ['AD', 'AE', 'AR', 'AT', 'AU', 'BE', 'BG', 'BH', 'BO', 'BR', 'CA', 'CH', 'CL', 'CO', 'CR', 'CY', 'CZ', 'DE', 'DK', 'DO', 'DZ', 'EC', 'EE', 'EG', 'ES', 'FI', 'FR', 'GB', 'GR', 'GT', 'HK', 'HN', 'HU', 'ID', 'IE', 'IL', 'IN', 'IS', 'IT', 'JO', 'JP', 'KW', 'LB', 'LI', 'LT', 'LU', 'LV', 'MA', 'MC', 'MT', 'MX', 'MY', 'NI', 'NL', 'NO', 'NZ', 'OM', 'PA', 'PE', 'PH', 'PL', 'PS', 'PT', 'PY', 'QA', 'RO', 'SA', 'SE', 'SG', 'SK', 'SV', 'TH', 'TN', 'TR', 'TW', 'US', 'UY', 'VN', 'ZA'], 'external_urls': {'spotify': 'https://open.spotify.com/album/6tkjU4Umpo79wwkgPMV3nZ'}, 'href': 'https://api.spotify.com/v1/albums/6tkjU4Umpo79wwkgPMV3nZ', 'id': '6tkjU4Umpo79wwkgPMV3nZ', 'images': [{'height': 640, 'url': 'https://i.scdn.co/image/94223e3a9f348e089dacd86dfecc444688d27bf1', 'width': 640}, {'height': 300, 'url': 'https://i.scdn.co/image/30d4742ff28b4323a2a0a5addf7d40dc2f54d97f', 'width': 300}, {'height': 64, 'url': 'https://i.scdn.co/image/b2c1b242db73e04d1f352a083c8bfe1d4682deb4', 'width': 64}], 'name': 'Goodbye & Good Riddance', 'release_date': '2018-12-10', 'release_date_precision': 'day', 'total_tracks': 17, 'type': 'album', 'uri': 'spotify:album:6tkjU4Umpo79wwkgPMV3nZ'}, 'artists': [{'external_urls': {'spotify': 'https://open.spotify.com/artist/4MCBfE4596Uoi2O4DtmEMz'}, 'href': 'https://api.spotify.com/v1/artists/4MCBfE4596Uoi2O4DtmEMz', 'id': '4MCBfE4596Uoi2O4DtmEMz', 'name': 'Juice WRLD', 'type': 'artist', 'uri': 'spotify:artist:4MCBfE4596Uoi2O4DtmEMz'}], 'available_markets': ['AD', 'AE', 'AR', 'AT', 'AU', 'BE', 'BG', 'BH', 'BO', 'BR', 'CA', 'CH', 'CL', 'CO', 'CR', 'CY', 'CZ', 'DE', 'DK', 'DO', 'DZ', 'EC', 'EE', 'EG', 'ES', 'FI', 'FR', 'GB', 'GR', 'GT', 'HK', 'HN', 'HU', 'ID', 'IE', 'IL', 'IN', 'IS', 'IT', 'JO', 'JP', 'KW', 'LB', 'LI', 'LT', 'LU', 'LV', 'MA', 'MC', 'MT', 'MX', 'MY', 'NI', 'NL', 'NO', 'NZ', 'OM', 'PA', 'PE', 'PH', 'PL', 'PS', 'PT', 'PY', 'QA', 'RO', 'SA', 'SE', 'SG', 'SK', 'SV', 'TH', 'TN', 'TR', 'TW', 'US', 'UY', 'VN', 'ZA'], 'disc_number': 1, 'duration_ms': 175755, 'explicit': True, 'external_ids': {'isrc': 'USUG11800945'}, 'external_urls': {'spotify': 'https://open.spotify.com/track/3oDkdAySo1VQQG0ptV7uwa'}, 'href': 'https://api.spotify.com/v1/tracks/3oDkdAySo1VQQG0ptV7uwa', 'id': '3oDkdAySo1VQQG0ptV7uwa', 'is_local': False, 'name': 'Lean Wit Me', 'popularity': 82, 'preview_url': None, 'track_number': 7, 'type': 'track', 'uri': 'spotify:track:3oDkdAySo1VQQG0ptV7uwa'}, {'album': {'album_type': 'single', 'artists': [{'external_urls': {'spotify': 'https://open.spotify.com/artist/0vRvGUQVUjytro0xpb26bs'}, 'href': 'https://api.spotify.com/v1/artists/0vRvGUQVUjytro0xpb26bs', 'id': '0vRvGUQVUjytro0xpb26bs', 'name': 'Arizona Zervas', 'type': 'artist', 'uri': 'spotify:artist:0vRvGUQVUjytro0xpb26bs'}], 'available_markets': ['AD', 'AE', 'AR', 'AT', 'AU', 'BE', 'BG', 'BH', 'BO', 'BR', 'CA', 'CH', 'CL', 'CO', 'CR', 'CY', 'CZ', 'DE', 'DK', 'DO', 'DZ', 'EC', 'EE', 'EG', 'ES', 'FI', 'FR', 'GB', 'GR', 'GT', 'HK', 'HN', 'HU', 'ID', 'IE', 'IL', 'IN', 'IS', 'IT', 'JO', 'JP', 'KW', 'LB', 'LI', 'LT', 'LU', 'LV', 'MA', 'MC', 'MT', 'MX', 'MY', 'NI', 'NL', 'NO', 'NZ', 'OM', 'PA', 'PE', 'PH', 'PL', 'PS', 'PT', 'PY', 'QA', 'RO', 'SA', 'SE', 'SG', 'SK', 'SV', 'TH', 'TN', 'TR', 'TW', 'US', 'UY', 'VN', 'ZA'], 'external_urls': {'spotify': 'https://open.spotify.com/album/0tzusAckn6CYqaCBRJHiAh'}, 'href': 'https://api.spotify.com/v1/albums/0tzusAckn6CYqaCBRJHiAh', 'id': '0tzusAckn6CYqaCBRJHiAh', 'images': [{'height': 640, 'url': 'https://i.scdn.co/image/1d8b2a07c2d2531420bfe32cf97165a609686b86', 'width': 640}, {'height': 300, 'url': 'https://i.scdn.co/image/d61f46d8a0e27785532e48ede1cde6aea6939787', 'width': 300}, {'height': 64, 'url': 'https://i.scdn.co/image/a0dc48a9abdd35651b931280e66cb3ea3e85f9bc', 'width': 64}], 'name': 'Living Facts', 'release_date': '2018-06-03', 'release_date_precision': 'day', 'total_tracks': 3, 'type': 'album', 'uri': 'spotify:album:0tzusAckn6CYqaCBRJHiAh'}, 'artists': [{'external_urls': {'spotify': 'https://open.spotify.com/artist/0vRvGUQVUjytro0xpb26bs'}, 'href': 'https://api.spotify.com/v1/artists/0vRvGUQVUjytro0xpb26bs', 'id': '0vRvGUQVUjytro0xpb26bs', 'name': 'Arizona Zervas', 'type': 'artist', 'uri': 'spotify:artist:0vRvGUQVUjytro0xpb26bs'}], 'available_markets': ['AD', 'AE', 'AR', 'AT', 'AU', 'BE', 'BG', 'BH', 'BO', 'BR', 'CA', 'CH', 'CL', 'CO', 'CR', 'CY', 'CZ', 'DE', 'DK', 'DO', 'DZ', 'EC', 'EE', 'EG', 'ES', 'FI', 'FR', 'GB', 'GR', 'GT', 'HK', 'HN', 'HU', 'ID', 'IE', 'IL', 'IN', 'IS', 'IT', 'JO', 'JP', 'KW', 'LB', 'LI', 'LT', 'LU', 'LV', 'MA', 'MC', 'MT', 'MX', 'MY', 'NI', 'NL', 'NO', 'NZ', 'OM', 'PA', 'PE', 'PH', 'PL', 'PS', 'PT', 'PY', 'QA', 'RO', 'SA', 'SE', 'SG', 'SK', 'SV', 'TH', 'TN', 'TR', 'TW', 'US', 'UY', 'VN', 'ZA'], 'disc_number': 1, 'duration_ms': 223000, 'explicit': True, 'external_ids': {'isrc': 'USSM11914459'}, 'external_urls': {'spotify': 'https://open.spotify.com/track/6lruHh1jF7ezgbLv72xYmf'}, 'href': 'https://api.spotify.com/v1/tracks/6lruHh1jF7ezgbLv72xYmf', 'id': '6lruHh1jF7ezgbLv72xYmf', 'is_local': False, 'name': 'FML', 'popularity': 85, 'preview_url': 'https://p.scdn.co/mp3-preview/ebd7e07250450895f05c14f3037372d49f3047e8?cid=37bf09c4a866456ebea69781382fb291', 'track_number': 2, 'type': 'track', 'uri': 'spotify:track:6lruHh1jF7ezgbLv72xYmf'}, {'album': {'album_type': 'album', 'artists': [{'external_urls': {'spotify': 'https://open.spotify.com/artist/246dkjvS1zLTtiykXe5h60'}, 'href': 'https://api.spotify.com/v1/artists/246dkjvS1zLTtiykXe5h60', 'id': '246dkjvS1zLTtiykXe5h60', 'name': 'Post Malone', 'type': 'artist', 'uri': 'spotify:artist:246dkjvS1zLTtiykXe5h60'}], 'available_markets': ['AD', 'AE', 'AR', 'AT', 'AU', 'BE', 'BG', 'BH', 'BO', 'BR', 'CA', 'CH', 'CL', 'CO', 'CR', 'CY', 'CZ', 'DE', 'DK', 'DO', 'DZ', 'EC', 'EE', 'EG', 'ES', 'FI', 'FR', 'GB', 'GR', 'GT', 'HK', 'HN', 'HU', 'ID', 'IE', 'IL', 'IN', 'IS', 'IT', 'JO', 'JP', 'KW', 'LB', 'LI', 'LT', 'LU', 'LV', 'MA', 'MC', 'MT', 'MX', 'MY', 'NI', 'NL', 'NO', 'NZ', 'OM', 'PA', 'PE', 'PH', 'PL', 'PS', 'PT', 'PY', 'QA', 'RO', 'SA', 'SE', 'SG', 'SK', 'SV', 'TH', 'TN', 'TR', 'TW', 'US', 'UY', 'VN', 'ZA'], 'external_urls': {'spotify': 'https://open.spotify.com/album/6trNtQUgC8cgbWcqoMYkOR'}, 'href': 'https://api.spotify.com/v1/albums/6trNtQUgC8cgbWcqoMYkOR', 'id': '6trNtQUgC8cgbWcqoMYkOR', 'images': [{'height': 640, 'url': 'https://i.scdn.co/image/08569f4ebf39ea275f9601a0f5ae62c489485a7b', 'width': 640}, {'height': 300, 'url': 'https://i.scdn.co/image/d85f15fcbf946d42f3465a8bf1294fff6c64d5fd', 'width': 300}, {'height': 64, 'url': 'https://i.scdn.co/image/4eeab79394ac6dd1d58132e9cecc5d6ba61b9ca1', 'width': 64}], 'name': 'beerbongs & bentleys', 'release_date': '2018-04-27', 'release_date_precision': 'day', 'total_tracks': 18, 'type': 'album', 'uri': 'spotify:album:6trNtQUgC8cgbWcqoMYkOR'}, 'artists': [{'external_urls': {'spotify': 'https://open.spotify.com/artist/246dkjvS1zLTtiykXe5h60'}, 'href': 'https://api.spotify.com/v1/artists/246dkjvS1zLTtiykXe5h60', 'id': '246dkjvS1zLTtiykXe5h60', 'name': 'Post Malone', 'type': 'artist', 'uri': 'spotify:artist:246dkjvS1zLTtiykXe5h60'}], 'available_markets': ['AD', 'AE', 'AR', 'AT', 'AU', 'BE', 'BG', 'BH', 'BO', 'BR', 'CA', 'CH', 'CL', 'CO', 'CR', 'CY', 'CZ', 'DE', 'DK', 'DO', 'DZ', 'EC', 'EE', 'EG', 'ES', 'FI', 'FR', 'GB', 'GR', 'GT', 'HK', 'HN', 'HU', 'ID', 'IE', 'IL', 'IN', 'IS', 'IT', 'JO', 'JP', 'KW', 'LB', 'LI', 'LT', 'LU', 'LV', 'MA', 'MC', 'MT', 'MX', 'MY', 'NI', 'NL', 'NO', 'NZ', 'OM', 'PA', 'PE', 'PH', 'PL', 'PS', 'PT', 'PY', 'QA', 'RO', 'SA', 'SE', 'SG', 'SK', 'SV', 'TH', 'TN', 'TR', 'TW', 'US', 'UY', 'VN', 'ZA'], 'disc_number': 1, 'duration_ms': 231266, 'explicit': True, 'external_ids': {'isrc': 'USUM71805170'}, 'external_urls': {'spotify': 'https://open.spotify.com/track/7dt6x5M1jzdTEt8oCbisTK'}, 'href': 'https://api.spotify.com/v1/tracks/7dt6x5M1jzdTEt8oCbisTK', 'id': '7dt6x5M1jzdTEt8oCbisTK', 'is_local': False, 'name': 'Better Now', 'popularity': 86, 'preview_url': None, 'track_number': 9, 'type': 'track', 'uri': 'spotify:track:7dt6x5M1jzdTEt8oCbisTK'}, {'album': {'album_type': 'single', 'artists': [{'external_urls': {'spotify': 'https://open.spotify.com/artist/64KEffDW9EtZ1y2vBYgq8T'}, 'href': 'https://api.spotify.com/v1/artists/64KEffDW9EtZ1y2vBYgq8T', 'id': '64KEffDW9EtZ1y2vBYgq8T', 'name': 'Marshmello', 'type': 'artist', 'uri': 'spotify:artist:64KEffDW9EtZ1y2vBYgq8T'}, {'external_urls': {'spotify': 'https://open.spotify.com/artist/7EQ0qTo7fWT7DPxmxtSYEc'}, 'href': 'https://api.spotify.com/v1/artists/7EQ0qTo7fWT7DPxmxtSYEc', 'id': '7EQ0qTo7fWT7DPxmxtSYEc', 'name': 'Bastille', 'type': 'artist', 'uri': 'spotify:artist:7EQ0qTo7fWT7DPxmxtSYEc'}], 'available_markets': ['AD', 'AE', 'AR', 'AT', 'AU', 'BE', 'BG', 'BH', 'BO', 'BR', 'CA', 'CH', 'CL', 'CO', 'CR', 'CY', 'CZ', 'DE', 'DK', 'DO', 'DZ', 'EC', 'EE', 'EG', 'ES', 'FI', 'FR', 'GB', 'GR', 'GT', 'HK', 'HN', 'HU', 'ID', 'IE', 'IL', 'IN', 'IS', 'IT', 'JO', 'JP', 'KW', 'LB', 'LI', 'LT', 'LU', 'LV', 'MA', 'MC', 'MT', 'MX', 'MY', 'NI', 'NL', 'NO', 'NZ', 'OM', 'PA', 'PE', 'PH', 'PL', 'PS', 'PT', 'PY', 'QA', 'RO', 'SA', 'SE', 'SG', 'SK', 'SV', 'TH', 'TN', 'TR', 'TW', 'US', 'UY', 'VN', 'ZA'], 'external_urls': {'spotify': 'https://open.spotify.com/album/78EicdHZr5XBWD7llEZ1Jh'}, 'href': 'https://api.spotify.com/v1/albums/78EicdHZr5XBWD7llEZ1Jh', 'id': '78EicdHZr5XBWD7llEZ1Jh', 'images': [{'height': 640, 'url': 'https://i.scdn.co/image/c67a2c8ab6f5dccae39dec6c2997f5d778f8c8ba', 'width': 640}, {'height': 300, 'url': 'https://i.scdn.co/image/efe1660c580947c88acac65fe3bd7ee32823014d', 'width': 300}, {'height': 64, 'url': 'https://i.scdn.co/image/9229fef0b5c4b66883b901a62d69d13832cd6f27', 'width': 64}], 'name': 'Happier', 'release_date': '2018-08-17', 'release_date_precision': 'day', 'total_tracks': 1, 'type': 'album', 'uri': 'spotify:album:78EicdHZr5XBWD7llEZ1Jh'}, 'artists': [{'external_urls': {'spotify': 'https://open.spotify.com/artist/64KEffDW9EtZ1y2vBYgq8T'}, 'href': 'https://api.spotify.com/v1/artists/64KEffDW9EtZ1y2vBYgq8T', 'id': '64KEffDW9EtZ1y2vBYgq8T', 'name': 'Marshmello', 'type': 'artist', 'uri': 'spotify:artist:64KEffDW9EtZ1y2vBYgq8T'}, {'external_urls': {'spotify': 'https://open.spotify.com/artist/7EQ0qTo7fWT7DPxmxtSYEc'}, 'href': 'https://api.spotify.com/v1/artists/7EQ0qTo7fWT7DPxmxtSYEc', 'id': '7EQ0qTo7fWT7DPxmxtSYEc', 'name': 'Bastille', 'type': 'artist', 'uri': 'spotify:artist:7EQ0qTo7fWT7DPxmxtSYEc'}], 'available_markets': ['AD', 'AE', 'AR', 'AT', 'AU', 'BE', 'BG', 'BH', 'BO', 'BR', 'CA', 'CH', 'CL', 'CO', 'CR', 'CY', 'CZ', 'DE', 'DK', 'DO', 'DZ', 'EC', 'EE', 'EG', 'ES', 'FI', 'FR', 'GB', 'GR', 'GT', 'HK', 'HN', 'HU', 'ID', 'IE', 'IL', 'IN', 'IS', 'IT', 'JO', 'JP', 'KW', 'LB', 'LI', 'LT', 'LU', 'LV', 'MA', 'MC', 'MT', 'MX', 'MY', 'NI', 'NL', 'NO', 'NZ', 'OM', 'PA', 'PE', 'PH', 'PL', 'PS', 'PT', 'PY', 'QA', 'RO', 'SA', 'SE', 'SG', 'SK', 'SV', 'TH', 'TN', 'TR', 'TW', 'US', 'UY', 'VN', 'ZA'], 'disc_number': 1, 'duration_ms': 214289, 'explicit': False, 'external_ids': {'isrc': 'USUG11801651'}, 'external_urls': {'spotify': 'https://open.spotify.com/track/2dpaYNEQHiRxtZbfNsse99'}, 'href': 'https://api.spotify.com/v1/tracks/2dpaYNEQHiRxtZbfNsse99', 'id': '2dpaYNEQHiRxtZbfNsse99', 'is_local': False, 'name': 'Happier', 'popularity': 88, 'preview_url': None, 'track_number': 1, 'type': 'track', 'uri': 'spotify:track:2dpaYNEQHiRxtZbfNsse99'}, {'album': {'album_type': 'single', 'artists': [{'external_urls': {'spotify': 'https://open.spotify.com/artist/26VFTg2z8YR0cCuwLzESi2'}, 'href': 'https://api.spotify.com/v1/artists/26VFTg2z8YR0cCuwLzESi2', 'id': '26VFTg2z8YR0cCuwLzESi2', 'name': 'Halsey', 'type': 'artist', 'uri': 'spotify:artist:26VFTg2z8YR0cCuwLzESi2'}], 'available_markets': ['AD', 'AE', 'AR', 'AT', 'AU', 'BE', 'BG', 'BH', 'BO', 'BR', 'CA', 'CH', 'CL', 'CO', 'CR', 'CY', 'CZ', 'DE', 'DK', 'DO', 'DZ', 'EC', 'EE', 'EG', 'ES', 'FI', 'FR', 'GB', 'GR', 'GT', 'HK', 'HN', 'HU', 'ID', 'IE', 'IL', 'IN', 'IS', 'IT', 'JO', 'JP', 'KW', 'LB', 'LI', 'LT', 'LU', 'LV', 'MA', 'MC', 'MT', 'MX', 'MY', 'NI', 'NL', 'NO', 'NZ', 'OM', 'PA', 'PE', 'PH', 'PL', 'PS', 'PT', 'PY', 'QA', 'RO', 'SA', 'SE', 'SG', 'SK', 'SV', 'TH', 'TN', 'TR', 'TW', 'US', 'UY', 'VN', 'ZA'], 'external_urls': {'spotify': 'https://open.spotify.com/album/0zzrCTzvL4ZmR42xF46Afm'}, 'href': 'https://api.spotify.com/v1/albums/0zzrCTzvL4ZmR42xF46Afm', 'id': '0zzrCTzvL4ZmR42xF46Afm', 'images': [{'height': 640, 'url': 'https://i.scdn.co/image/442eb78fb86eab0ec162ec5ea33405b19c61898c', 'width': 640}, {'height': 300, 'url': 'https://i.scdn.co/image/8711cefd16bc5ca402ae57dd9d842768dfb3e4fe', 'width': 300}, {'height': 64, 'url': 'https://i.scdn.co/image/3b32022e7070392b3800c67badce20d6f7d3a34c', 'width': 64}], 'name': 'Without Me', 'release_date': '2018-10-04', 'release_date_precision': 'day', 'total_tracks': 1, 'type': 'album', 'uri': 'spotify:album:0zzrCTzvL4ZmR42xF46Afm'}, 'artists': [{'external_urls': {'spotify': 'https://open.spotify.com/artist/26VFTg2z8YR0cCuwLzESi2'}, 'href': 'https://api.spotify.com/v1/artists/26VFTg2z8YR0cCuwLzESi2', 'id': '26VFTg2z8YR0cCuwLzESi2', 'name': 'Halsey', 'type': 'artist', 'uri': 'spotify:artist:26VFTg2z8YR0cCuwLzESi2'}], 'available_markets': ['AD', 'AE', 'AR', 'AT', 'AU', 'BE', 'BG', 'BH', 'BO', 'BR', 'CA', 'CH', 'CL', 'CO', 'CR', 'CY', 'CZ', 'DE', 'DK', 'DO', 'DZ', 'EC', 'EE', 'EG', 'ES', 'FI', 'FR', 'GB', 'GR', 'GT', 'HK', 'HN', 'HU', 'ID', 'IE', 'IL', 'IN', 'IS', 'IT', 'JO', 'JP', 'KW', 'LB', 'LI', 'LT', 'LU', 'LV', 'MA', 'MC', 'MT', 'MX', 'MY', 'NI', 'NL', 'NO', 'NZ', 'OM', 'PA', 'PE', 'PH', 'PL', 'PS', 'PT', 'PY', 'QA', 'RO', 'SA', 'SE', 'SG', 'SK', 'SV', 'TH', 'TN', 'TR', 'TW', 'US', 'UY', 'VN', 'ZA'], 'disc_number': 1, 'duration_ms': 201660, 'explicit': True, 'external_ids': {'isrc': 'USUM71813499'}, 'external_urls': {'spotify': 'https://open.spotify.com/track/5p7ujcrUXASCNwRaWNHR1C'}, 'href': 'https://api.spotify.com/v1/tracks/5p7ujcrUXASCNwRaWNHR1C', 'id': '5p7ujcrUXASCNwRaWNHR1C', 'is_local': False, 'name': 'Without Me', 'popularity': 87, 'preview_url': None, 'track_number': 1, 'type': 'track', 'uri': 'spotify:track:5p7ujcrUXASCNwRaWNHR1C'}, {'album': {'album_type': 'album', 'artists': [{'external_urls': {'spotify': 'https://open.spotify.com/artist/718COspgdWOnwOFpJHRZHS'}, 'href': 'https://api.spotify.com/v1/artists/718COspgdWOnwOFpJHRZHS', 'id': '718COspgdWOnwOFpJHRZHS', 'name': 'Luke Combs', 'type': 'artist', 'uri': 'spotify:artist:718COspgdWOnwOFpJHRZHS'}], 'available_markets': ['AD', 'AE', 'AR', 'AT', 'AU', 'BE', 'BG', 'BH', 'BO', 'BR', 'CA', 'CH', 'CL', 'CO', 'CR', 'CY', 'CZ', 'DE', 'DK', 'DO', 'DZ', 'EC', 'EE', 'EG', 'ES', 'FI', 'FR', 'GB', 'GR', 'GT', 'HK', 'HN', 'HU', 'ID', 'IE', 'IL', 'IN', 'IS', 'IT', 'JO', 'JP', 'KW', 'LB', 'LI', 'LT', 'LU', 'LV', 'MA', 'MC', 'MT', 'MX', 'MY', 'NI', 'NL', 'NO', 'NZ', 'OM', 'PA', 'PE', 'PH', 'PL', 'PS', 'PT', 'PY', 'QA', 'RO', 'SA', 'SE', 'SG', 'SK', 'SV', 'TH', 'TN', 'TR', 'TW', 'US', 'UY', 'VN', 'ZA'], 'external_urls': {'spotify': 'https://open.spotify.com/album/53Oa5Bu0UTU8o8qCTaHKoz'}, 'href': 'https://api.spotify.com/v1/albums/53Oa5Bu0UTU8o8qCTaHKoz', 'id': '53Oa5Bu0UTU8o8qCTaHKoz', 'images': [{'height': 640, 'url': 'https://i.scdn.co/image/ab67616d0000b273ccba76fad1c624c09e72bc78', 'width': 640}, {'height': 300, 'url': 'https://i.scdn.co/image/ab67616d00001e02ccba76fad1c624c09e72bc78', 'width': 300}, {'height': 64, 'url': 'https://i.scdn.co/image/ab67616d00004851ccba76fad1c624c09e72bc78', 'width': 64}], 'name': \"This One's for You Too (Deluxe Edition)\", 'release_date': '2018-06-01', 'release_date_precision': 'day', 'total_tracks': 17, 'type': 'album', 'uri': 'spotify:album:53Oa5Bu0UTU8o8qCTaHKoz'}, 'artists': [{'external_urls': {'spotify': 'https://open.spotify.com/artist/718COspgdWOnwOFpJHRZHS'}, 'href': 'https://api.spotify.com/v1/artists/718COspgdWOnwOFpJHRZHS', 'id': '718COspgdWOnwOFpJHRZHS', 'name': 'Luke Combs', 'type': 'artist', 'uri': 'spotify:artist:718COspgdWOnwOFpJHRZHS'}], 'available_markets': ['AD', 'AE', 'AR', 'AT', 'AU', 'BE', 'BG', 'BH', 'BO', 'BR', 'CA', 'CH', 'CL', 'CO', 'CR', 'CY', 'CZ', 'DE', 'DK', 'DO', 'DZ', 'EC', 'EE', 'EG', 'ES', 'FI', 'FR', 'GB', 'GR', 'GT', 'HK', 'HN', 'HU', 'ID', 'IE', 'IL', 'IN', 'IS', 'IT', 'JO', 'JP', 'KW', 'LB', 'LI', 'LT', 'LU', 'LV', 'MA', 'MC', 'MT', 'MX', 'MY', 'NI', 'NL', 'NO', 'NZ', 'OM', 'PA', 'PE', 'PH', 'PL', 'PS', 'PT', 'PY', 'QA', 'RO', 'SA', 'SE', 'SG', 'SK', 'SV', 'TH', 'TN', 'TR', 'TW', 'US', 'UY', 'VN', 'ZA'], 'disc_number': 1, 'duration_ms': 193200, 'explicit': False, 'external_ids': {'isrc': 'US6XF1700259'}, 'external_urls': {'spotify': 'https://open.spotify.com/track/2rxQMGVafnNaRaXlRMWPde'}, 'href': 'https://api.spotify.com/v1/tracks/2rxQMGVafnNaRaXlRMWPde', 'id': '2rxQMGVafnNaRaXlRMWPde', 'is_local': False, 'name': 'Beautiful Crazy', 'popularity': 80, 'preview_url': 'https://p.scdn.co/mp3-preview/46f30246879a353edb15e19f91eb63376053cace?cid=37bf09c4a866456ebea69781382fb291', 'track_number': 15, 'type': 'track', 'uri': 'spotify:track:2rxQMGVafnNaRaXlRMWPde'}, {'album': {'album_type': 'album', 'artists': [{'external_urls': {'spotify': 'https://open.spotify.com/artist/15UsOTVnJzReFVN1VCnxy4'}, 'href': 'https://api.spotify.com/v1/artists/15UsOTVnJzReFVN1VCnxy4', 'id': '15UsOTVnJzReFVN1VCnxy4', 'name': 'XXXTENTACION', 'type': 'artist', 'uri': 'spotify:artist:15UsOTVnJzReFVN1VCnxy4'}], 'available_markets': ['AD', 'AE', 'AR', 'AT', 'AU', 'BE', 'BG', 'BH', 'BO', 'BR', 'CA', 'CH', 'CL', 'CO', 'CR', 'CY', 'CZ', 'DE', 'DK', 'DO', 'DZ', 'EC', 'EE', 'EG', 'ES', 'FI', 'FR', 'GB', 'GR', 'GT', 'HK', 'HN', 'HU', 'ID', 'IE', 'IL', 'IN', 'IS', 'IT', 'JO', 'JP', 'KW', 'LB', 'LI', 'LT', 'LU', 'LV', 'MA', 'MC', 'MT', 'MX', 'MY', 'NI', 'NL', 'NO', 'NZ', 'OM', 'PA', 'PE', 'PH', 'PL', 'PS', 'PT', 'PY', 'QA', 'RO', 'SA', 'SE', 'SG', 'SK', 'SV', 'TH', 'TN', 'TR', 'TW', 'US', 'UY', 'VN', 'ZA'], 'external_urls': {'spotify': 'https://open.spotify.com/album/2Ti79nwTsont5ZHfdxIzAm'}, 'href': 'https://api.spotify.com/v1/albums/2Ti79nwTsont5ZHfdxIzAm', 'id': '2Ti79nwTsont5ZHfdxIzAm', 'images': [{'height': 640, 'url': 'https://i.scdn.co/image/c041fc9e4ea400357329fd7110952c014561ab5a', 'width': 640}, {'height': 300, 'url': 'https://i.scdn.co/image/6f2435cf0bb15db2229a1ec4ffad9a0372d500b0', 'width': 300}, {'height': 64, 'url': 'https://i.scdn.co/image/f0443f8ad743f6052c813c593f1ad0fc161965a2', 'width': 64}], 'name': '?', 'release_date': '2018-03-16', 'release_date_precision': 'day', 'total_tracks': 18, 'type': 'album', 'uri': 'spotify:album:2Ti79nwTsont5ZHfdxIzAm'}, 'artists': [{'external_urls': {'spotify': 'https://open.spotify.com/artist/15UsOTVnJzReFVN1VCnxy4'}, 'href': 'https://api.spotify.com/v1/artists/15UsOTVnJzReFVN1VCnxy4', 'id': '15UsOTVnJzReFVN1VCnxy4', 'name': 'XXXTENTACION', 'type': 'artist', 'uri': 'spotify:artist:15UsOTVnJzReFVN1VCnxy4'}], 'available_markets': ['AD', 'AE', 'AR', 'AT', 'AU', 'BE', 'BG', 'BH', 'BO', 'BR', 'CA', 'CH', 'CL', 'CO', 'CR', 'CY', 'CZ', 'DE', 'DK', 'DO', 'DZ', 'EC', 'EE', 'EG', 'ES', 'FI', 'FR', 'GB', 'GR', 'GT', 'HK', 'HN', 'HU', 'ID', 'IE', 'IL', 'IN', 'IS', 'IT', 'JO', 'JP', 'KW', 'LB', 'LI', 'LT', 'LU', 'LV', 'MA', 'MC', 'MT', 'MX', 'MY', 'NI', 'NL', 'NO', 'NZ', 'OM', 'PA', 'PE', 'PH', 'PL', 'PS', 'PT', 'PY', 'QA', 'RO', 'SA', 'SE', 'SG', 'SK', 'SV', 'TH', 'TN', 'TR', 'TW', 'US', 'UY', 'VN', 'ZA'], 'disc_number': 1, 'duration_ms': 135090, 'explicit': True, 'external_ids': {'isrc': 'USUG11800209'}, 'external_urls': {'spotify': 'https://open.spotify.com/track/0JP9xo3adEtGSdUEISiszL'}, 'href': 'https://api.spotify.com/v1/tracks/0JP9xo3adEtGSdUEISiszL', 'id': '0JP9xo3adEtGSdUEISiszL', 'is_local': False, 'name': 'Moonlight', 'popularity': 85, 'preview_url': None, 'track_number': 3, 'type': 'track', 'uri': 'spotify:track:0JP9xo3adEtGSdUEISiszL'}, {'album': {'album_type': 'album', 'artists': [{'external_urls': {'spotify': 'https://open.spotify.com/artist/5f7VJjfbwm532GiveGC0ZK'}, 'href': 'https://api.spotify.com/v1/artists/5f7VJjfbwm532GiveGC0ZK', 'id': '5f7VJjfbwm532GiveGC0ZK', 'name': 'Lil Baby', 'type': 'artist', 'uri': 'spotify:artist:5f7VJjfbwm532GiveGC0ZK'}], 'available_markets': ['AD', 'AE', 'AR', 'AT', 'AU', 'BE', 'BG', 'BH', 'BO', 'BR', 'CA', 'CH', 'CL', 'CO', 'CR', 'CY', 'CZ', 'DE', 'DK', 'DO', 'DZ', 'EC', 'EE', 'EG', 'ES', 'FI', 'FR', 'GB', 'GR', 'GT', 'HK', 'HN', 'HU', 'ID', 'IE', 'IL', 'IN', 'IS', 'IT', 'JO', 'JP', 'KW', 'LB', 'LI', 'LT', 'LU', 'LV', 'MA', 'MC', 'MT', 'MX', 'MY', 'NI', 'NL', 'NO', 'NZ', 'OM', 'PA', 'PE', 'PH', 'PL', 'PS', 'PT', 'PY', 'QA', 'RO', 'SA', 'SE', 'SG', 'SK', 'SV', 'TH', 'TN', 'TR', 'TW', 'US', 'UY', 'VN', 'ZA'], 'external_urls': {'spotify': 'https://open.spotify.com/album/7yf9ZJyHRbp8sHtpDKfPpt'}, 'href': 'https://api.spotify.com/v1/albums/7yf9ZJyHRbp8sHtpDKfPpt', 'id': '7yf9ZJyHRbp8sHtpDKfPpt', 'images': [{'height': 640, 'url': 'https://i.scdn.co/image/238cd2d8f6e8c16e2ec4d8e03567a4f9145788c9', 'width': 640}, {'height': 300, 'url': 'https://i.scdn.co/image/db0c1aea09d6f2f301098120a2a4c069f6f7a654', 'width': 300}, {'height': 64, 'url': 'https://i.scdn.co/image/f01d26851a2bcbe6c7d530404641cb39b16ba434', 'width': 64}], 'name': 'Harder Than Ever', 'release_date': '2018-05-18', 'release_date_precision': 'day', 'total_tracks': 17, 'type': 'album', 'uri': 'spotify:album:7yf9ZJyHRbp8sHtpDKfPpt'}, 'artists': [{'external_urls': {'spotify': 'https://open.spotify.com/artist/5f7VJjfbwm532GiveGC0ZK'}, 'href': 'https://api.spotify.com/v1/artists/5f7VJjfbwm532GiveGC0ZK', 'id': '5f7VJjfbwm532GiveGC0ZK', 'name': 'Lil Baby', 'type': 'artist', 'uri': 'spotify:artist:5f7VJjfbwm532GiveGC0ZK'}, {'external_urls': {'spotify': 'https://open.spotify.com/artist/3TVXtAsR1Inumwj472S9r4'}, 'href': 'https://api.spotify.com/v1/artists/3TVXtAsR1Inumwj472S9r4', 'id': '3TVXtAsR1Inumwj472S9r4', 'name': 'Drake', 'type': 'artist', 'uri': 'spotify:artist:3TVXtAsR1Inumwj472S9r4'}], 'available_markets': ['AD', 'AE', 'AR', 'AT', 'AU', 'BE', 'BG', 'BH', 'BO', 'BR', 'CA', 'CH', 'CL', 'CO', 'CR', 'CY', 'CZ', 'DE', 'DK', 'DO', 'DZ', 'EC', 'EE', 'EG', 'ES', 'FI', 'FR', 'GB', 'GR', 'GT', 'HK', 'HN', 'HU', 'ID', 'IE', 'IL', 'IN', 'IS', 'IT', 'JO', 'JP', 'KW', 'LB', 'LI', 'LT', 'LU', 'LV', 'MA', 'MC', 'MT', 'MX', 'MY', 'NI', 'NL', 'NO', 'NZ', 'OM', 'PA', 'PE', 'PH', 'PL', 'PS', 'PT', 'PY', 'QA', 'RO', 'SA', 'SE', 'SG', 'SK', 'SV', 'TH', 'TN', 'TR', 'TW', 'US', 'UY', 'VN', 'ZA'], 'disc_number': 1, 'duration_ms': 142273, 'explicit': True, 'external_ids': {'isrc': 'USUM71806749'}, 'external_urls': {'spotify': 'https://open.spotify.com/track/6vN77lE9LK6HP2DewaN6HZ'}, 'href': 'https://api.spotify.com/v1/tracks/6vN77lE9LK6HP2DewaN6HZ', 'id': '6vN77lE9LK6HP2DewaN6HZ', 'is_local': False, 'name': 'Yes Indeed', 'popularity': 80, 'preview_url': None, 'track_number': 5, 'type': 'track', 'uri': 'spotify:track:6vN77lE9LK6HP2DewaN6HZ'}, {'album': {'album_type': 'album', 'artists': [{'external_urls': {'spotify': 'https://open.spotify.com/artist/2rhFzFmezpnW82MNqEKVry'}, 'href': 'https://api.spotify.com/v1/artists/2rhFzFmezpnW82MNqEKVry', 'id': '2rhFzFmezpnW82MNqEKVry', 'name': 'Ski Mask The Slump God', 'type': 'artist', 'uri': 'spotify:artist:2rhFzFmezpnW82MNqEKVry'}], 'available_markets': ['AD', 'AE', 'AR', 'AT', 'AU', 'BE', 'BG', 'BH', 'BO', 'BR', 'CA', 'CH', 'CL', 'CO', 'CR', 'CY', 'CZ', 'DE', 'DK', 'DO', 'DZ', 'EC', 'EE', 'EG', 'ES', 'FI', 'FR', 'GB', 'GR', 'GT', 'HK', 'HN', 'HU', 'ID', 'IE', 'IL', 'IN', 'IS', 'IT', 'JO', 'JP', 'KW', 'LB', 'LI', 'LT', 'LU', 'LV', 'MA', 'MC', 'MT', 'MX', 'MY', 'NI', 'NL', 'NO', 'NZ', 'OM', 'PA', 'PE', 'PH', 'PL', 'PS', 'PT', 'PY', 'QA', 'RO', 'SA', 'SE', 'SG', 'SK', 'SV', 'TH', 'TN', 'TR', 'TW', 'US', 'UY', 'VN', 'ZA'], 'external_urls': {'spotify': 'https://open.spotify.com/album/0z0z4DcXhHiobX5ZKAw8Qn'}, 'href': 'https://api.spotify.com/v1/albums/0z0z4DcXhHiobX5ZKAw8Qn', 'id': '0z0z4DcXhHiobX5ZKAw8Qn', 'images': [{'height': 640, 'url': 'https://i.scdn.co/image/2f4ac0b9e8697d8ebed7f59ce433b442b880f6c8', 'width': 640}, {'height': 300, 'url': 'https://i.scdn.co/image/f82a47c64b54ddee25459d578f8880dd71b626be', 'width': 300}, {'height': 64, 'url': 'https://i.scdn.co/image/62f32e5b97537f42b5fbc5b4426864ee32ee1996', 'width': 64}], 'name': 'STOKELEY', 'release_date': '2018-11-30', 'release_date_precision': 'day', 'total_tracks': 13, 'type': 'album', 'uri': 'spotify:album:0z0z4DcXhHiobX5ZKAw8Qn'}, 'artists': [{'external_urls': {'spotify': 'https://open.spotify.com/artist/2rhFzFmezpnW82MNqEKVry'}, 'href': 'https://api.spotify.com/v1/artists/2rhFzFmezpnW82MNqEKVry', 'id': '2rhFzFmezpnW82MNqEKVry', 'name': 'Ski Mask The Slump God', 'type': 'artist', 'uri': 'spotify:artist:2rhFzFmezpnW82MNqEKVry'}], 'available_markets': ['AD', 'AE', 'AR', 'AT', 'AU', 'BE', 'BG', 'BH', 'BO', 'BR', 'CA', 'CH', 'CL', 'CO', 'CR', 'CY', 'CZ', 'DE', 'DK', 'DO', 'DZ', 'EC', 'EE', 'EG', 'ES', 'FI', 'FR', 'GB', 'GR', 'GT', 'HK', 'HN', 'HU', 'ID', 'IE', 'IL', 'IN', 'IS', 'IT', 'JO', 'JP', 'KW', 'LB', 'LI', 'LT', 'LU', 'LV', 'MA', 'MC', 'MT', 'MX', 'MY', 'NI', 'NL', 'NO', 'NZ', 'OM', 'PA', 'PE', 'PH', 'PL', 'PS', 'PT', 'PY', 'QA', 'RO', 'SA', 'SE', 'SG', 'SK', 'SV', 'TH', 'TN', 'TR', 'TW', 'US', 'UY', 'VN', 'ZA'], 'disc_number': 1, 'duration_ms': 145626, 'explicit': True, 'external_ids': {'isrc': 'USUM71820924'}, 'external_urls': {'spotify': 'https://open.spotify.com/track/1ThmUihH9dF8EV08ku5AXN'}, 'href': 'https://api.spotify.com/v1/tracks/1ThmUihH9dF8EV08ku5AXN', 'id': '1ThmUihH9dF8EV08ku5AXN', 'is_local': False, 'name': 'Faucet Failure', 'popularity': 81, 'preview_url': None, 'track_number': 11, 'type': 'track', 'uri': 'spotify:track:1ThmUihH9dF8EV08ku5AXN'}, {'album': {'album_type': 'album', 'artists': [{'external_urls': {'spotify': 'https://open.spotify.com/artist/4oUHIQIBe0LHzYfvXNW4QM'}, 'href': 'https://api.spotify.com/v1/artists/4oUHIQIBe0LHzYfvXNW4QM', 'id': '4oUHIQIBe0LHzYfvXNW4QM', 'name': 'Morgan Wallen', 'type': 'artist', 'uri': 'spotify:artist:4oUHIQIBe0LHzYfvXNW4QM'}], 'available_markets': ['AD', 'AE', 'AR', 'AT', 'AU', 'BE', 'BG', 'BH', 'BO', 'BR', 'CA', 'CH', 'CL', 'CO', 'CR', 'CY', 'CZ', 'DE', 'DK', 'DO', 'DZ', 'EC', 'EE', 'EG', 'ES', 'FI', 'FR', 'GB', 'GR', 'GT', 'HK', 'HN', 'HU', 'ID', 'IE', 'IL', 'IN', 'IS', 'IT', 'JO', 'JP', 'KW', 'LB', 'LI', 'LT', 'LU', 'LV', 'MA', 'MC', 'MT', 'MX', 'MY', 'NI', 'NL', 'NO', 'NZ', 'OM', 'PA', 'PE', 'PH', 'PL', 'PS', 'PT', 'PY', 'QA', 'RO', 'SA', 'SE', 'SG', 'SK', 'SV', 'TH', 'TN', 'TR', 'TW', 'US', 'UY', 'VN', 'ZA'], 'external_urls': {'spotify': 'https://open.spotify.com/album/1IR2nlwX6YVTXXeu2qzoWO'}, 'href': 'https://api.spotify.com/v1/albums/1IR2nlwX6YVTXXeu2qzoWO', 'id': '1IR2nlwX6YVTXXeu2qzoWO', 'images': [{'height': 640, 'url': 'https://i.scdn.co/image/b999cdb8b7695d286d05e1b15741e55baee2a44d', 'width': 640}, {'height': 300, 'url': 'https://i.scdn.co/image/549f003f901cf60739b9bd53f047257d4c5b8d10', 'width': 300}, {'height': 64, 'url': 'https://i.scdn.co/image/8c706d01b2d02c2095192721fd6988e0abe78047', 'width': 64}], 'name': 'If I Know Me', 'release_date': '2018-04-27', 'release_date_precision': 'day', 'total_tracks': 14, 'type': 'album', 'uri': 'spotify:album:1IR2nlwX6YVTXXeu2qzoWO'}, 'artists': [{'external_urls': {'spotify': 'https://open.spotify.com/artist/4oUHIQIBe0LHzYfvXNW4QM'}, 'href': 'https://api.spotify.com/v1/artists/4oUHIQIBe0LHzYfvXNW4QM', 'id': '4oUHIQIBe0LHzYfvXNW4QM', 'name': 'Morgan Wallen', 'type': 'artist', 'uri': 'spotify:artist:4oUHIQIBe0LHzYfvXNW4QM'}], 'available_markets': ['AD', 'AE', 'AR', 'AT', 'AU', 'BE', 'BG', 'BH', 'BO', 'BR', 'CA', 'CH', 'CL', 'CO', 'CR', 'CY', 'CZ', 'DE', 'DK', 'DO', 'DZ', 'EC', 'EE', 'EG', 'ES', 'FI', 'FR', 'GB', 'GR', 'GT', 'HK', 'HN', 'HU', 'ID', 'IE', 'IL', 'IN', 'IS', 'IT', 'JO', 'JP', 'KW', 'LB', 'LI', 'LT', 'LU', 'LV', 'MA', 'MC', 'MT', 'MX', 'MY', 'NI', 'NL', 'NO', 'NZ', 'OM', 'PA', 'PE', 'PH', 'PL', 'PS', 'PT', 'PY', 'QA', 'RO', 'SA', 'SE', 'SG', 'SK', 'SV', 'TH', 'TN', 'TR', 'TW', 'US', 'UY', 'VN', 'ZA'], 'disc_number': 1, 'duration_ms': 234346, 'explicit': False, 'external_ids': {'isrc': 'QZ22S1500059'}, 'external_urls': {'spotify': 'https://open.spotify.com/track/6foY66mWZN0pSRjZ408c00'}, 'href': 'https://api.spotify.com/v1/tracks/6foY66mWZN0pSRjZ408c00', 'id': '6foY66mWZN0pSRjZ408c00', 'is_local': False, 'name': 'Whiskey Glasses', 'popularity': 79, 'preview_url': 'https://p.scdn.co/mp3-preview/95ac7dba403384cdb429dc9a838a889a6579ecb2?cid=37bf09c4a866456ebea69781382fb291', 'track_number': 4, 'type': 'track', 'uri': 'spotify:track:6foY66mWZN0pSRjZ408c00'}, {'album': {'album_type': 'album', 'artists': [{'external_urls': {'spotify': 'https://open.spotify.com/artist/5zctI4wO9XSKS8XwcnqEHk'}, 'href': 'https://api.spotify.com/v1/artists/5zctI4wO9XSKS8XwcnqEHk', 'id': '5zctI4wO9XSKS8XwcnqEHk', 'name': 'Lil Mosey', 'type': 'artist', 'uri': 'spotify:artist:5zctI4wO9XSKS8XwcnqEHk'}], 'available_markets': ['AD', 'AE', 'AR', 'AT', 'AU', 'BE', 'BG', 'BH', 'BO', 'BR', 'CA', 'CH', 'CL', 'CO', 'CR', 'CY', 'CZ', 'DE', 'DK', 'DO', 'DZ', 'EC', 'EE', 'EG', 'ES', 'FI', 'FR', 'GB', 'GR', 'GT', 'HK', 'HN', 'HU', 'ID', 'IE', 'IL', 'IN', 'IS', 'IT', 'JO', 'JP', 'KW', 'LB', 'LI', 'LT', 'LU', 'LV', 'MA', 'MC', 'MT', 'MX', 'MY', 'NI', 'NL', 'NO', 'NZ', 'OM', 'PA', 'PE', 'PH', 'PL', 'PS', 'PT', 'PY', 'QA', 'RO', 'SA', 'SE', 'SG', 'SK', 'SV', 'TH', 'TN', 'TR', 'TW', 'US', 'UY', 'VN', 'ZA'], 'external_urls': {'spotify': 'https://open.spotify.com/album/6lggWd5q9Rh66OkDE1eNDr'}, 'href': 'https://api.spotify.com/v1/albums/6lggWd5q9Rh66OkDE1eNDr', 'id': '6lggWd5q9Rh66OkDE1eNDr', 'images': [{'height': 640, 'url': 'https://i.scdn.co/image/ab67616d0000b273db953460d6de87c6d6788cb5', 'width': 640}, {'height': 300, 'url': 'https://i.scdn.co/image/ab67616d00001e02db953460d6de87c6d6788cb5', 'width': 300}, {'height': 64, 'url': 'https://i.scdn.co/image/ab67616d00004851db953460d6de87c6d6788cb5', 'width': 64}], 'name': 'Northsbest (Extended)', 'release_date': '2018-10-19', 'release_date_precision': 'day', 'total_tracks': 12, 'type': 'album', 'uri': 'spotify:album:6lggWd5q9Rh66OkDE1eNDr'}, 'artists': [{'external_urls': {'spotify': 'https://open.spotify.com/artist/5zctI4wO9XSKS8XwcnqEHk'}, 'href': 'https://api.spotify.com/v1/artists/5zctI4wO9XSKS8XwcnqEHk', 'id': '5zctI4wO9XSKS8XwcnqEHk', 'name': 'Lil Mosey', 'type': 'artist', 'uri': 'spotify:artist:5zctI4wO9XSKS8XwcnqEHk'}], 'available_markets': ['AD', 'AE', 'AR', 'AT', 'AU', 'BE', 'BG', 'BH', 'BO', 'BR', 'CA', 'CH', 'CL', 'CO', 'CR', 'CY', 'CZ', 'DE', 'DK', 'DO', 'DZ', 'EC', 'EE', 'EG', 'ES', 'FI', 'FR', 'GB', 'GR', 'GT', 'HK', 'HN', 'HU', 'ID', 'IE', 'IL', 'IN', 'IS', 'IT', 'JO', 'JP', 'KW', 'LB', 'LI', 'LT', 'LU', 'LV', 'MA', 'MC', 'MT', 'MX', 'MY', 'NI', 'NL', 'NO', 'NZ', 'OM', 'PA', 'PE', 'PH', 'PL', 'PS', 'PT', 'PY', 'QA', 'RO', 'SA', 'SE', 'SG', 'SK', 'SV', 'TH', 'TN', 'TR', 'TW', 'US', 'UY', 'VN', 'ZA'], 'disc_number': 1, 'duration_ms': 165000, 'explicit': True, 'external_ids': {'isrc': 'USUM71809565'}, 'external_urls': {'spotify': 'https://open.spotify.com/track/7zLYKWcXnYeHHWidalz7rj'}, 'href': 'https://api.spotify.com/v1/tracks/7zLYKWcXnYeHHWidalz7rj', 'id': '7zLYKWcXnYeHHWidalz7rj', 'is_local': False, 'name': 'Noticed', 'popularity': 82, 'preview_url': None, 'track_number': 3, 'type': 'track', 'uri': 'spotify:track:7zLYKWcXnYeHHWidalz7rj'}, {'album': {'album_type': 'album', 'artists': [{'external_urls': {'spotify': 'https://open.spotify.com/artist/20JZFwl6HVl6yg8a4H3ZqK'}, 'href': 'https://api.spotify.com/v1/artists/20JZFwl6HVl6yg8a4H3ZqK', 'id': '20JZFwl6HVl6yg8a4H3ZqK', 'name': 'Panic! At The Disco', 'type': 'artist', 'uri': 'spotify:artist:20JZFwl6HVl6yg8a4H3ZqK'}], 'available_markets': ['AD', 'AE', 'AR', 'AT', 'AU', 'BE', 'BG', 'BH', 'BO', 'BR', 'CA', 'CH', 'CL', 'CO', 'CR', 'CY', 'CZ', 'DE', 'DK', 'DO', 'DZ', 'EC', 'EE', 'EG', 'ES', 'FI', 'FR', 'GB', 'GR', 'GT', 'HK', 'HN', 'HU', 'ID', 'IE', 'IL', 'IS', 'IT', 'JO', 'JP', 'KW', 'LB', 'LI', 'LT', 'LU', 'LV', 'MA', 'MC', 'MT', 'MX', 'MY', 'NI', 'NL', 'NO', 'NZ', 'OM', 'PA', 'PE', 'PH', 'PL', 'PS', 'PT', 'PY', 'QA', 'RO', 'SA', 'SE', 'SG', 'SK', 'SV', 'TH', 'TN', 'TR', 'TW', 'US', 'UY', 'VN', 'ZA'], 'external_urls': {'spotify': 'https://open.spotify.com/album/6ApYSpXF8GxZAgBTHDzYge'}, 'href': 'https://api.spotify.com/v1/albums/6ApYSpXF8GxZAgBTHDzYge', 'id': '6ApYSpXF8GxZAgBTHDzYge', 'images': [{'height': 640, 'url': 'https://i.scdn.co/image/ab67616d0000b273c5148520a59be191eea16989', 'width': 640}, {'height': 300, 'url': 'https://i.scdn.co/image/ab67616d00001e02c5148520a59be191eea16989', 'width': 300}, {'height': 64, 'url': 'https://i.scdn.co/image/ab67616d00004851c5148520a59be191eea16989', 'width': 64}], 'name': 'Pray for the Wicked', 'release_date': '2018-06-22', 'release_date_precision': 'day', 'total_tracks': 11, 'type': 'album', 'uri': 'spotify:album:6ApYSpXF8GxZAgBTHDzYge'}, 'artists': [{'external_urls': {'spotify': 'https://open.spotify.com/artist/20JZFwl6HVl6yg8a4H3ZqK'}, 'href': 'https://api.spotify.com/v1/artists/20JZFwl6HVl6yg8a4H3ZqK', 'id': '20JZFwl6HVl6yg8a4H3ZqK', 'name': 'Panic! At The Disco', 'type': 'artist', 'uri': 'spotify:artist:20JZFwl6HVl6yg8a4H3ZqK'}], 'available_markets': ['AD', 'AE', 'AR', 'AT', 'AU', 'BE', 'BG', 'BH', 'BO', 'BR', 'CA', 'CH', 'CL', 'CO', 'CR', 'CY', 'CZ', 'DE', 'DK', 'DO', 'DZ', 'EC', 'EE', 'EG', 'ES', 'FI', 'FR', 'GB', 'GR', 'GT', 'HK', 'HN', 'HU', 'ID', 'IE', 'IL', 'IS', 'IT', 'JO', 'JP', 'KW', 'LB', 'LI', 'LT', 'LU', 'LV', 'MA', 'MC', 'MT', 'MX', 'MY', 'NI', 'NL', 'NO', 'NZ', 'OM', 'PA', 'PE', 'PH', 'PL', 'PS', 'PT', 'PY', 'QA', 'RO', 'SA', 'SE', 'SG', 'SK', 'SV', 'TH', 'TN', 'TR', 'TW', 'US', 'UY', 'VN', 'ZA'], 'disc_number': 1, 'duration_ms': 190946, 'explicit': False, 'external_ids': {'isrc': 'USAT21801174'}, 'external_urls': {'spotify': 'https://open.spotify.com/track/1rqqCSm0Qe4I9rUvWncaom'}, 'href': 'https://api.spotify.com/v1/tracks/1rqqCSm0Qe4I9rUvWncaom', 'id': '1rqqCSm0Qe4I9rUvWncaom', 'is_local': False, 'name': 'High Hopes', 'popularity': 85, 'preview_url': 'https://p.scdn.co/mp3-preview/f6404b1b3199442271c17d9e1461c3f2a52018f8?cid=37bf09c4a866456ebea69781382fb291', 'track_number': 4, 'type': 'track', 'uri': 'spotify:track:1rqqCSm0Qe4I9rUvWncaom'}, {'album': {'album_type': 'album', 'artists': [{'external_urls': {'spotify': 'https://open.spotify.com/artist/15UsOTVnJzReFVN1VCnxy4'}, 'href': 'https://api.spotify.com/v1/artists/15UsOTVnJzReFVN1VCnxy4', 'id': '15UsOTVnJzReFVN1VCnxy4', 'name': 'XXXTENTACION', 'type': 'artist', 'uri': 'spotify:artist:15UsOTVnJzReFVN1VCnxy4'}], 'available_markets': ['AD', 'AE', 'AR', 'AT', 'AU', 'BE', 'BG', 'BH', 'BO', 'BR', 'CA', 'CH', 'CL', 'CO', 'CR', 'CY', 'CZ', 'DE', 'DK', 'DO', 'DZ', 'EC', 'EE', 'EG', 'ES', 'FI', 'FR', 'GB', 'GR', 'GT', 'HK', 'HN', 'HU', 'ID', 'IE', 'IL', 'IN', 'IS', 'IT', 'JO', 'JP', 'KW', 'LB', 'LI', 'LT', 'LU', 'LV', 'MA', 'MC', 'MT', 'MX', 'MY', 'NI', 'NL', 'NO', 'NZ', 'OM', 'PA', 'PE', 'PH', 'PL', 'PS', 'PT', 'PY', 'QA', 'RO', 'SA', 'SE', 'SG', 'SK', 'SV', 'TH', 'TN', 'TR', 'TW', 'US', 'UY', 'VN', 'ZA'], 'external_urls': {'spotify': 'https://open.spotify.com/album/2Ti79nwTsont5ZHfdxIzAm'}, 'href': 'https://api.spotify.com/v1/albums/2Ti79nwTsont5ZHfdxIzAm', 'id': '2Ti79nwTsont5ZHfdxIzAm', 'images': [{'height': 640, 'url': 'https://i.scdn.co/image/c041fc9e4ea400357329fd7110952c014561ab5a', 'width': 640}, {'height': 300, 'url': 'https://i.scdn.co/image/6f2435cf0bb15db2229a1ec4ffad9a0372d500b0', 'width': 300}, {'height': 64, 'url': 'https://i.scdn.co/image/f0443f8ad743f6052c813c593f1ad0fc161965a2', 'width': 64}], 'name': '?', 'release_date': '2018-03-16', 'release_date_precision': 'day', 'total_tracks': 18, 'type': 'album', 'uri': 'spotify:album:2Ti79nwTsont5ZHfdxIzAm'}, 'artists': [{'external_urls': {'spotify': 'https://open.spotify.com/artist/15UsOTVnJzReFVN1VCnxy4'}, 'href': 'https://api.spotify.com/v1/artists/15UsOTVnJzReFVN1VCnxy4', 'id': '15UsOTVnJzReFVN1VCnxy4', 'name': 'XXXTENTACION', 'type': 'artist', 'uri': 'spotify:artist:15UsOTVnJzReFVN1VCnxy4'}], 'available_markets': ['AD', 'AE', 'AR', 'AT', 'AU', 'BE', 'BG', 'BH', 'BO', 'BR', 'CA', 'CH', 'CL', 'CO', 'CR', 'CY', 'CZ', 'DE', 'DK', 'DO', 'DZ', 'EC', 'EE', 'EG', 'ES', 'FI', 'FR', 'GB', 'GR', 'GT', 'HK', 'HN', 'HU', 'ID', 'IE', 'IL', 'IN', 'IS', 'IT', 'JO', 'JP', 'KW', 'LB', 'LI', 'LT', 'LU', 'LV', 'MA', 'MC', 'MT', 'MX', 'MY', 'NI', 'NL', 'NO', 'NZ', 'OM', 'PA', 'PE', 'PH', 'PL', 'PS', 'PT', 'PY', 'QA', 'RO', 'SA', 'SE', 'SG', 'SK', 'SV', 'TH', 'TN', 'TR', 'TW', 'US', 'UY', 'VN', 'ZA'], 'disc_number': 1, 'duration_ms': 121886, 'explicit': False, 'external_ids': {'isrc': 'USUG11800211'}, 'external_urls': {'spotify': 'https://open.spotify.com/track/7AFASza1mXqntmGtbxXprO'}, 'href': 'https://api.spotify.com/v1/tracks/7AFASza1mXqntmGtbxXprO', 'id': '7AFASza1mXqntmGtbxXprO', 'is_local': False, 'name': 'changes', 'popularity': 84, 'preview_url': None, 'track_number': 15, 'type': 'track', 'uri': 'spotify:track:7AFASza1mXqntmGtbxXprO'}, {'album': {'album_type': 'album', 'artists': [{'external_urls': {'spotify': 'https://open.spotify.com/artist/1URnnhqYAYcrqrcwql10ft'}, 'href': 'https://api.spotify.com/v1/artists/1URnnhqYAYcrqrcwql10ft', 'id': '1URnnhqYAYcrqrcwql10ft', 'name': '21 Savage', 'type': 'artist', 'uri': 'spotify:artist:1URnnhqYAYcrqrcwql10ft'}], 'available_markets': ['AD', 'AE', 'AR', 'AT', 'AU', 'BE', 'BG', 'BH', 'BO', 'BR', 'CA', 'CH', 'CL', 'CO', 'CR', 'CY', 'CZ', 'DE', 'DK', 'DO', 'DZ', 'EC', 'EE', 'EG', 'ES', 'FI', 'FR', 'GB', 'GR', 'GT', 'HK', 'HN', 'HU', 'ID', 'IE', 'IL', 'IN', 'IS', 'IT', 'JO', 'JP', 'KW', 'LB', 'LI', 'LT', 'LU', 'LV', 'MA', 'MC', 'MT', 'MX', 'MY', 'NI', 'NL', 'NO', 'NZ', 'OM', 'PA', 'PE', 'PH', 'PL', 'PS', 'PT', 'PY', 'QA', 'RO', 'SA', 'SE', 'SG', 'SK', 'SV', 'TH', 'TN', 'TR', 'TW', 'US', 'UY', 'VN', 'ZA'], 'external_urls': {'spotify': 'https://open.spotify.com/album/007DWn799UWvfY1wwZeENR'}, 'href': 'https://api.spotify.com/v1/albums/007DWn799UWvfY1wwZeENR', 'id': '007DWn799UWvfY1wwZeENR', 'images': [{'height': 640, 'url': 'https://i.scdn.co/image/ab67616d0000b273280689ecc5e4b2038bb5e4bd', 'width': 640}, {'height': 300, 'url': 'https://i.scdn.co/image/ab67616d00001e02280689ecc5e4b2038bb5e4bd', 'width': 300}, {'height': 64, 'url': 'https://i.scdn.co/image/ab67616d00004851280689ecc5e4b2038bb5e4bd', 'width': 64}], 'name': 'i am > i was', 'release_date': '2018-12-21', 'release_date_precision': 'day', 'total_tracks': 15, 'type': 'album', 'uri': 'spotify:album:007DWn799UWvfY1wwZeENR'}, 'artists': [{'external_urls': {'spotify': 'https://open.spotify.com/artist/1URnnhqYAYcrqrcwql10ft'}, 'href': 'https://api.spotify.com/v1/artists/1URnnhqYAYcrqrcwql10ft', 'id': '1URnnhqYAYcrqrcwql10ft', 'name': '21 Savage', 'type': 'artist', 'uri': 'spotify:artist:1URnnhqYAYcrqrcwql10ft'}], 'available_markets': ['AD', 'AE', 'AR', 'AT', 'AU', 'BE', 'BG', 'BH', 'BO', 'BR', 'CA', 'CH', 'CL', 'CO', 'CR', 'CY', 'CZ', 'DE', 'DK', 'DO', 'DZ', 'EC', 'EE', 'EG', 'ES', 'FI', 'FR', 'GB', 'GR', 'GT', 'HK', 'HN', 'HU', 'ID', 'IE', 'IL', 'IN', 'IS', 'IT', 'JO', 'JP', 'KW', 'LB', 'LI', 'LT', 'LU', 'LV', 'MA', 'MC', 'MT', 'MX', 'MY', 'NI', 'NL', 'NO', 'NZ', 'OM', 'PA', 'PE', 'PH', 'PL', 'PS', 'PT', 'PY', 'QA', 'RO', 'SA', 'SE', 'SG', 'SK', 'SV', 'TH', 'TN', 'TR', 'TW', 'US', 'UY', 'VN', 'ZA'], 'disc_number': 1, 'duration_ms': 288624, 'explicit': True, 'external_ids': {'isrc': 'QZ45A1700126'}, 'external_urls': {'spotify': 'https://open.spotify.com/track/2t8yVaLvJ0RenpXUIAC52d'}, 'href': 'https://api.spotify.com/v1/tracks/2t8yVaLvJ0RenpXUIAC52d', 'id': '2t8yVaLvJ0RenpXUIAC52d', 'is_local': False, 'name': 'a lot', 'popularity': 81, 'preview_url': 'https://p.scdn.co/mp3-preview/0ff1fadf009e81e7d80912c2372c7381a49e5863?cid=37bf09c4a866456ebea69781382fb291', 'track_number': 1, 'type': 'track', 'uri': 'spotify:track:2t8yVaLvJ0RenpXUIAC52d'}, {'album': {'album_type': 'album', 'artists': [{'external_urls': {'spotify': 'https://open.spotify.com/artist/6Xgp2XMz1fhVYe7i6yNAax'}, 'href': 'https://api.spotify.com/v1/artists/6Xgp2XMz1fhVYe7i6yNAax', 'id': '6Xgp2XMz1fhVYe7i6yNAax', 'name': 'Trippie Redd', 'type': 'artist', 'uri': 'spotify:artist:6Xgp2XMz1fhVYe7i6yNAax'}], 'available_markets': ['AD', 'AE', 'AR', 'AT', 'AU', 'BE', 'BG', 'BH', 'BO', 'BR', 'CA', 'CH', 'CL', 'CO', 'CR', 'CY', 'CZ', 'DE', 'DK', 'DO', 'DZ', 'EC', 'EE', 'EG', 'ES', 'FI', 'FR', 'GB', 'GR', 'GT', 'HK', 'HN', 'HU', 'ID', 'IE', 'IL', 'IN', 'IS', 'IT', 'JO', 'JP', 'KW', 'LB', 'LI', 'LT', 'LU', 'LV', 'MA', 'MC', 'MT', 'MX', 'MY', 'NI', 'NL', 'NO', 'NZ', 'OM', 'PA', 'PE', 'PH', 'PL', 'PS', 'PT', 'PY', 'QA', 'RO', 'SA', 'SE', 'SG', 'SK', 'SV', 'TH', 'TN', 'TR', 'TW', 'US', 'UY', 'VN', 'ZA'], 'external_urls': {'spotify': 'https://open.spotify.com/album/6qRbGZqJ3aQY8N8bcHc1ug'}, 'href': 'https://api.spotify.com/v1/albums/6qRbGZqJ3aQY8N8bcHc1ug', 'id': '6qRbGZqJ3aQY8N8bcHc1ug', 'images': [{'height': 640, 'url': 'https://i.scdn.co/image/9007d15564d59343d666d76e5defdabb337363db', 'width': 640}, {'height': 300, 'url': 'https://i.scdn.co/image/a1475f416d1f8b8ab48e29f6494b116a676c0a13', 'width': 300}, {'height': 64, 'url': 'https://i.scdn.co/image/47ef3dfab2ce993e7cdcb7670aacecbdd0669cff', 'width': 64}], 'name': 'A Love Letter To You 3', 'release_date': '2018-11-09', 'release_date_precision': 'day', 'total_tracks': 16, 'type': 'album', 'uri': 'spotify:album:6qRbGZqJ3aQY8N8bcHc1ug'}, 'artists': [{'external_urls': {'spotify': 'https://open.spotify.com/artist/6Xgp2XMz1fhVYe7i6yNAax'}, 'href': 'https://api.spotify.com/v1/artists/6Xgp2XMz1fhVYe7i6yNAax', 'id': '6Xgp2XMz1fhVYe7i6yNAax', 'name': 'Trippie Redd', 'type': 'artist', 'uri': 'spotify:artist:6Xgp2XMz1fhVYe7i6yNAax'}, {'external_urls': {'spotify': 'https://open.spotify.com/artist/4MCBfE4596Uoi2O4DtmEMz'}, 'href': 'https://api.spotify.com/v1/artists/4MCBfE4596Uoi2O4DtmEMz', 'id': '4MCBfE4596Uoi2O4DtmEMz', 'name': 'Juice WRLD', 'type': 'artist', 'uri': 'spotify:artist:4MCBfE4596Uoi2O4DtmEMz'}], 'available_markets': ['AD', 'AE', 'AR', 'AT', 'AU', 'BE', 'BG', 'BH', 'BO', 'BR', 'CA', 'CH', 'CL', 'CO', 'CR', 'CY', 'CZ', 'DE', 'DK', 'DO', 'DZ', 'EC', 'EE', 'EG', 'ES', 'FI', 'FR', 'GB', 'GR', 'GT', 'HK', 'HN', 'HU', 'ID', 'IE', 'IL', 'IN', 'IS', 'IT', 'JO', 'JP', 'KW', 'LB', 'LI', 'LT', 'LU', 'LV', 'MA', 'MC', 'MT', 'MX', 'MY', 'NI', 'NL', 'NO', 'NZ', 'OM', 'PA', 'PE', 'PH', 'PL', 'PS', 'PT', 'PY', 'QA', 'RO', 'SA', 'SE', 'SG', 'SK', 'SV', 'TH', 'TN', 'TR', 'TW', 'US', 'UY', 'VN', 'ZA'], 'disc_number': 1, 'duration_ms': 175954, 'explicit': True, 'external_ids': {'isrc': 'QMEU31819746'}, 'external_urls': {'spotify': 'https://open.spotify.com/track/75lcPkAkUsKWHGBlGM476R'}, 'href': 'https://api.spotify.com/v1/tracks/75lcPkAkUsKWHGBlGM476R', 'id': '75lcPkAkUsKWHGBlGM476R', 'is_local': False, 'name': '1400 / 999 Freestyle', 'popularity': 80, 'preview_url': None, 'track_number': 13, 'type': 'track', 'uri': 'spotify:track:75lcPkAkUsKWHGBlGM476R'}, {'album': {'album_type': 'album', 'artists': [{'external_urls': {'spotify': 'https://open.spotify.com/artist/15UsOTVnJzReFVN1VCnxy4'}, 'href': 'https://api.spotify.com/v1/artists/15UsOTVnJzReFVN1VCnxy4', 'id': '15UsOTVnJzReFVN1VCnxy4', 'name': 'XXXTENTACION', 'type': 'artist', 'uri': 'spotify:artist:15UsOTVnJzReFVN1VCnxy4'}], 'available_markets': ['AD', 'AE', 'AR', 'AT', 'AU', 'BE', 'BG', 'BH', 'BO', 'BR', 'CA', 'CH', 'CL', 'CO', 'CR', 'CY', 'CZ', 'DE', 'DK', 'DO', 'DZ', 'EC', 'EE', 'EG', 'ES', 'FI', 'FR', 'GB', 'GR', 'GT', 'HK', 'HN', 'HU', 'ID', 'IE', 'IL', 'IN', 'IS', 'IT', 'JO', 'JP', 'KW', 'LB', 'LI', 'LT', 'LU', 'LV', 'MA', 'MC', 'MT', 'MX', 'MY', 'NI', 'NL', 'NO', 'NZ', 'OM', 'PA', 'PE', 'PH', 'PL', 'PS', 'PT', 'PY', 'QA', 'RO', 'SA', 'SE', 'SG', 'SK', 'SV', 'TH', 'TN', 'TR', 'TW', 'US', 'UY', 'VN', 'ZA'], 'external_urls': {'spotify': 'https://open.spotify.com/album/2Ti79nwTsont5ZHfdxIzAm'}, 'href': 'https://api.spotify.com/v1/albums/2Ti79nwTsont5ZHfdxIzAm', 'id': '2Ti79nwTsont5ZHfdxIzAm', 'images': [{'height': 640, 'url': 'https://i.scdn.co/image/c041fc9e4ea400357329fd7110952c014561ab5a', 'width': 640}, {'height': 300, 'url': 'https://i.scdn.co/image/6f2435cf0bb15db2229a1ec4ffad9a0372d500b0', 'width': 300}, {'height': 64, 'url': 'https://i.scdn.co/image/f0443f8ad743f6052c813c593f1ad0fc161965a2', 'width': 64}], 'name': '?', 'release_date': '2018-03-16', 'release_date_precision': 'day', 'total_tracks': 18, 'type': 'album', 'uri': 'spotify:album:2Ti79nwTsont5ZHfdxIzAm'}, 'artists': [{'external_urls': {'spotify': 'https://open.spotify.com/artist/15UsOTVnJzReFVN1VCnxy4'}, 'href': 'https://api.spotify.com/v1/artists/15UsOTVnJzReFVN1VCnxy4', 'id': '15UsOTVnJzReFVN1VCnxy4', 'name': 'XXXTENTACION', 'type': 'artist', 'uri': 'spotify:artist:15UsOTVnJzReFVN1VCnxy4'}], 'available_markets': ['AD', 'AE', 'AR', 'AT', 'AU', 'BE', 'BG', 'BH', 'BO', 'BR', 'CA', 'CH', 'CL', 'CO', 'CR', 'CY', 'CZ', 'DE', 'DK', 'DO', 'DZ', 'EC', 'EE', 'EG', 'ES', 'FI', 'FR', 'GB', 'GR', 'GT', 'HK', 'HN', 'HU', 'ID', 'IE', 'IL', 'IN', 'IS', 'IT', 'JO', 'JP', 'KW', 'LB', 'LI', 'LT', 'LU', 'LV', 'MA', 'MC', 'MT', 'MX', 'MY', 'NI', 'NL', 'NO', 'NZ', 'OM', 'PA', 'PE', 'PH', 'PL', 'PS', 'PT', 'PY', 'QA', 'RO', 'SA', 'SE', 'SG', 'SK', 'SV', 'TH', 'TN', 'TR', 'TW', 'US', 'UY', 'VN', 'ZA'], 'disc_number': 1, 'duration_ms': 110886, 'explicit': True, 'external_ids': {'isrc': 'USUG11800447'}, 'external_urls': {'spotify': 'https://open.spotify.com/track/2ZRo7axmMPeSVUvDbGkJah'}, 'href': 'https://api.spotify.com/v1/tracks/2ZRo7axmMPeSVUvDbGkJah', 'id': '2ZRo7axmMPeSVUvDbGkJah', 'is_local': False, 'name': 'Hope', 'popularity': 82, 'preview_url': None, 'track_number': 16, 'type': 'track', 'uri': 'spotify:track:2ZRo7axmMPeSVUvDbGkJah'}, {'album': {'album_type': 'album', 'artists': [{'external_urls': {'spotify': 'https://open.spotify.com/artist/3TVXtAsR1Inumwj472S9r4'}, 'href': 'https://api.spotify.com/v1/artists/3TVXtAsR1Inumwj472S9r4', 'id': '3TVXtAsR1Inumwj472S9r4', 'name': 'Drake', 'type': 'artist', 'uri': 'spotify:artist:3TVXtAsR1Inumwj472S9r4'}], 'available_markets': ['AD', 'AE', 'AR', 'AT', 'AU', 'BE', 'BG', 'BH', 'BO', 'BR', 'CA', 'CH', 'CL', 'CO', 'CR', 'CY', 'CZ', 'DE', 'DK', 'DO', 'DZ', 'EC', 'EE', 'EG', 'ES', 'FI', 'FR', 'GB', 'GR', 'GT', 'HK', 'HN', 'HU', 'ID', 'IE', 'IL', 'IN', 'IS', 'IT', 'JO', 'JP', 'KW', 'LB', 'LI', 'LT', 'LU', 'LV', 'MA', 'MC', 'MT', 'MX', 'MY', 'NI', 'NL', 'NO', 'NZ', 'OM', 'PA', 'PE', 'PH', 'PL', 'PS', 'PT', 'PY', 'QA', 'RO', 'SA', 'SE', 'SG', 'SK', 'SV', 'TH', 'TN', 'TR', 'TW', 'US', 'UY', 'VN', 'ZA'], 'external_urls': {'spotify': 'https://open.spotify.com/album/1ATL5GLyefJaxhQzSPVrLX'}, 'href': 'https://api.spotify.com/v1/albums/1ATL5GLyefJaxhQzSPVrLX', 'id': '1ATL5GLyefJaxhQzSPVrLX', 'images': [{'height': 640, 'url': 'https://i.scdn.co/image/e6d17a95cac4810507dfb0a8242e4463d4c32a30', 'width': 640}, {'height': 300, 'url': 'https://i.scdn.co/image/9f5fa5dfc5e084427eb4627a87bfafb2f200e3a4', 'width': 300}, {'height': 64, 'url': 'https://i.scdn.co/image/ed0e8b6ee4bcdb0565e99bdeb3465eabc8b25bb3', 'width': 64}], 'name': 'Scorpion', 'release_date': '2018-06-29', 'release_date_precision': 'day', 'total_tracks': 25, 'type': 'album', 'uri': 'spotify:album:1ATL5GLyefJaxhQzSPVrLX'}, 'artists': [{'external_urls': {'spotify': 'https://open.spotify.com/artist/3TVXtAsR1Inumwj472S9r4'}, 'href': 'https://api.spotify.com/v1/artists/3TVXtAsR1Inumwj472S9r4', 'id': '3TVXtAsR1Inumwj472S9r4', 'name': 'Drake', 'type': 'artist', 'uri': 'spotify:artist:3TVXtAsR1Inumwj472S9r4'}], 'available_markets': ['AD', 'AE', 'AR', 'AT', 'AU', 'BE', 'BG', 'BH', 'BO', 'BR', 'CA', 'CH', 'CL', 'CO', 'CR', 'CY', 'CZ', 'DE', 'DK', 'DO', 'DZ', 'EC', 'EE', 'EG', 'ES', 'FI', 'FR', 'GB', 'GR', 'GT', 'HK', 'HN', 'HU', 'ID', 'IE', 'IL', 'IN', 'IS', 'IT', 'JO', 'JP', 'KW', 'LB', 'LI', 'LT', 'LU', 'LV', 'MA', 'MC', 'MT', 'MX', 'MY', 'NI', 'NL', 'NO', 'NZ', 'OM', 'PA', 'PE', 'PH', 'PL', 'PS', 'PT', 'PY', 'QA', 'RO', 'SA', 'SE', 'SG', 'SK', 'SV', 'TH', 'TN', 'TR', 'TW', 'US', 'UY', 'VN', 'ZA'], 'disc_number': 1, 'duration_ms': 198973, 'explicit': True, 'external_ids': {'isrc': 'USCM51800004'}, 'external_urls': {'spotify': 'https://open.spotify.com/track/6DCZcSspjsKoFjzjrWoCdn'}, 'href': 'https://api.spotify.com/v1/tracks/6DCZcSspjsKoFjzjrWoCdn', 'id': '6DCZcSspjsKoFjzjrWoCdn', 'is_local': False, 'name': \"God's Plan\", 'popularity': 85, 'preview_url': None, 'track_number': 5, 'type': 'track', 'uri': 'spotify:track:6DCZcSspjsKoFjzjrWoCdn'}, {'album': {'album_type': 'album', 'artists': [{'external_urls': {'spotify': 'https://open.spotify.com/artist/6LuN9FCkKOj5PcnpouEgny'}, 'href': 'https://api.spotify.com/v1/artists/6LuN9FCkKOj5PcnpouEgny', 'id': '6LuN9FCkKOj5PcnpouEgny', 'name': 'Khalid', 'type': 'artist', 'uri': 'spotify:artist:6LuN9FCkKOj5PcnpouEgny'}], 'available_markets': ['AE', 'AR', 'AT', 'AU', 'BE', 'BG', 'BH', 'BO', 'BR', 'CA', 'CH', 'CL', 'CO', 'CR', 'CY', 'CZ', 'DK', 'DO', 'EC', 'EE', 'EG', 'ES', 'FI', 'GB', 'GR', 'GT', 'HK', 'HN', 'HU', 'ID', 'IE', 'IL', 'IN', 'IS', 'IT', 'JO', 'KW', 'LB', 'LI', 'LT', 'LU', 'LV', 'MT', 'MX', 'MY', 'NI', 'NL', 'NO', 'NZ', 'OM', 'PA', 'PE', 'PH', 'PL', 'PS', 'PT', 'PY', 'QA', 'RO', 'SA', 'SE', 'SG', 'SK', 'SV', 'TH', 'TR', 'TW', 'US', 'UY', 'VN', 'ZA'], 'external_urls': {'spotify': 'https://open.spotify.com/album/2Qxc2NJ7yPKVFRWi3llRr2'}, 'href': 'https://api.spotify.com/v1/albums/2Qxc2NJ7yPKVFRWi3llRr2', 'id': '2Qxc2NJ7yPKVFRWi3llRr2', 'images': [{'height': 640, 'url': 'https://i.scdn.co/image/ab67616d0000b27360624c0781fd787c9aa4699c', 'width': 640}, {'height': 300, 'url': 'https://i.scdn.co/image/ab67616d00001e0260624c0781fd787c9aa4699c', 'width': 300}, {'height': 64, 'url': 'https://i.scdn.co/image/ab67616d0000485160624c0781fd787c9aa4699c', 'width': 64}], 'name': 'Suncity', 'release_date': '2018-10-18', 'release_date_precision': 'day', 'total_tracks': 7, 'type': 'album', 'uri': 'spotify:album:2Qxc2NJ7yPKVFRWi3llRr2'}, 'artists': [{'external_urls': {'spotify': 'https://open.spotify.com/artist/6LuN9FCkKOj5PcnpouEgny'}, 'href': 'https://api.spotify.com/v1/artists/6LuN9FCkKOj5PcnpouEgny', 'id': '6LuN9FCkKOj5PcnpouEgny', 'name': 'Khalid', 'type': 'artist', 'uri': 'spotify:artist:6LuN9FCkKOj5PcnpouEgny'}], 'available_markets': ['AE', 'AR', 'AT', 'AU', 'BE', 'BG', 'BH', 'BO', 'BR', 'CA', 'CH', 'CL', 'CO', 'CR', 'CY', 'CZ', 'DK', 'DO', 'EC', 'EE', 'EG', 'ES', 'FI', 'GB', 'GR', 'GT', 'HK', 'HN', 'HU', 'ID', 'IE', 'IL', 'IN', 'IS', 'IT', 'JO', 'KW', 'LB', 'LI', 'LT', 'LU', 'LV', 'MT', 'MX', 'MY', 'NI', 'NL', 'NO', 'NZ', 'OM', 'PA', 'PE', 'PH', 'PL', 'PS', 'PT', 'PY', 'QA', 'RO', 'SA', 'SE', 'SG', 'SK', 'SV', 'TH', 'TR', 'TW', 'US', 'UY', 'VN', 'ZA'], 'disc_number': 1, 'duration_ms': 229320, 'explicit': False, 'external_ids': {'isrc': 'USRC11803180'}, 'external_urls': {'spotify': 'https://open.spotify.com/track/6zeeWid2sgw4lap2jV61PZ'}, 'href': 'https://api.spotify.com/v1/tracks/6zeeWid2sgw4lap2jV61PZ', 'id': '6zeeWid2sgw4lap2jV61PZ', 'is_local': False, 'name': 'Better', 'popularity': 80, 'preview_url': 'https://p.scdn.co/mp3-preview/59f5d00716f1746194f556bd3fa05b1439533598?cid=37bf09c4a866456ebea69781382fb291', 'track_number': 6, 'type': 'track', 'uri': 'spotify:track:6zeeWid2sgw4lap2jV61PZ'}, {'album': {'album_type': 'single', 'artists': [{'external_urls': {'spotify': 'https://open.spotify.com/artist/4qIVPF0s71ZYW3qzhu5GkF'}, 'href': 'https://api.spotify.com/v1/artists/4qIVPF0s71ZYW3qzhu5GkF', 'id': '4qIVPF0s71ZYW3qzhu5GkF', 'name': 'Kina', 'type': 'artist', 'uri': 'spotify:artist:4qIVPF0s71ZYW3qzhu5GkF'}], 'available_markets': ['AD', 'AE', 'AR', 'AT', 'AU', 'BE', 'BG', 'BH', 'BO', 'BR', 'CA', 'CH', 'CL', 'CO', 'CR', 'CY', 'CZ', 'DE', 'DK', 'DO', 'DZ', 'EC', 'EE', 'EG', 'ES', 'FI', 'FR', 'GB', 'GR', 'GT', 'HK', 'HN', 'HU', 'ID', 'IE', 'IL', 'IN', 'IS', 'IT', 'JO', 'JP', 'KW', 'LB', 'LI', 'LT', 'LU', 'LV', 'MA', 'MC', 'MT', 'MX', 'MY', 'NI', 'NL', 'NO', 'NZ', 'OM', 'PA', 'PE', 'PH', 'PL', 'PS', 'PT', 'PY', 'QA', 'RO', 'SA', 'SE', 'SG', 'SK', 'SV', 'TH', 'TN', 'TR', 'TW', 'US', 'UY', 'VN', 'ZA'], 'external_urls': {'spotify': 'https://open.spotify.com/album/5LZSpPoBVBsh6kRSEKfPQ8'}, 'href': 'https://api.spotify.com/v1/albums/5LZSpPoBVBsh6kRSEKfPQ8', 'id': '5LZSpPoBVBsh6kRSEKfPQ8', 'images': [{'height': 640, 'url': 'https://i.scdn.co/image/fb0c2147ba1ff7c2bd17f0d9fe13d44f21be3ff9', 'width': 640}, {'height': 300, 'url': 'https://i.scdn.co/image/f014748f35ea882e1cd894c2e7471e3ce85481a4', 'width': 300}, {'height': 64, 'url': 'https://i.scdn.co/image/f0490c9e20eee80e1eecbb37039becd8a4fe4fa8', 'width': 64}], 'name': 'Get You The Moon (feat. Snøw)', 'release_date': '2018-10-08', 'release_date_precision': 'day', 'total_tracks': 1, 'type': 'album', 'uri': 'spotify:album:5LZSpPoBVBsh6kRSEKfPQ8'}, 'artists': [{'external_urls': {'spotify': 'https://open.spotify.com/artist/4qIVPF0s71ZYW3qzhu5GkF'}, 'href': 'https://api.spotify.com/v1/artists/4qIVPF0s71ZYW3qzhu5GkF', 'id': '4qIVPF0s71ZYW3qzhu5GkF', 'name': 'Kina', 'type': 'artist', 'uri': 'spotify:artist:4qIVPF0s71ZYW3qzhu5GkF'}, {'external_urls': {'spotify': 'https://open.spotify.com/artist/5fSVkkuijRIpxuvSqysYiP'}, 'href': 'https://api.spotify.com/v1/artists/5fSVkkuijRIpxuvSqysYiP', 'id': '5fSVkkuijRIpxuvSqysYiP', 'name': 'Snøw', 'type': 'artist', 'uri': 'spotify:artist:5fSVkkuijRIpxuvSqysYiP'}], 'available_markets': ['AD', 'AE', 'AR', 'AT', 'AU', 'BE', 'BG', 'BH', 'BO', 'BR', 'CA', 'CH', 'CL', 'CO', 'CR', 'CY', 'CZ', 'DE', 'DK', 'DO', 'DZ', 'EC', 'EE', 'EG', 'ES', 'FI', 'FR', 'GB', 'GR', 'GT', 'HK', 'HN', 'HU', 'ID', 'IE', 'IL', 'IN', 'IS', 'IT', 'JO', 'JP', 'KW', 'LB', 'LI', 'LT', 'LU', 'LV', 'MA', 'MC', 'MT', 'MX', 'MY', 'NI', 'NL', 'NO', 'NZ', 'OM', 'PA', 'PE', 'PH', 'PL', 'PS', 'PT', 'PY', 'QA', 'RO', 'SA', 'SE', 'SG', 'SK', 'SV', 'TH', 'TN', 'TR', 'TW', 'US', 'UY', 'VN', 'ZA'], 'disc_number': 1, 'duration_ms': 179080, 'explicit': False, 'external_ids': {'isrc': 'USSM11808093'}, 'external_urls': {'spotify': 'https://open.spotify.com/track/4ZLzoOkj0MPWrTLvooIuaa'}, 'href': 'https://api.spotify.com/v1/tracks/4ZLzoOkj0MPWrTLvooIuaa', 'id': '4ZLzoOkj0MPWrTLvooIuaa', 'is_local': False, 'name': 'Get You The Moon (feat. Snøw)', 'popularity': 86, 'preview_url': 'https://p.scdn.co/mp3-preview/d5c74a622751ac0537d769bf795cb728b33ff285?cid=37bf09c4a866456ebea69781382fb291', 'track_number': 1, 'type': 'track', 'uri': 'spotify:track:4ZLzoOkj0MPWrTLvooIuaa'}, {'album': {'album_type': 'album', 'artists': [{'external_urls': {'spotify': 'https://open.spotify.com/artist/4MCBfE4596Uoi2O4DtmEMz'}, 'href': 'https://api.spotify.com/v1/artists/4MCBfE4596Uoi2O4DtmEMz', 'id': '4MCBfE4596Uoi2O4DtmEMz', 'name': 'Juice WRLD', 'type': 'artist', 'uri': 'spotify:artist:4MCBfE4596Uoi2O4DtmEMz'}], 'available_markets': ['AD', 'AE', 'AR', 'AT', 'AU', 'BE', 'BG', 'BH', 'BO', 'BR', 'CA', 'CH', 'CL', 'CO', 'CR', 'CY', 'CZ', 'DE', 'DK', 'DO', 'DZ', 'EC', 'EE', 'EG', 'ES', 'FI', 'FR', 'GB', 'GR', 'GT', 'HK', 'HN', 'HU', 'ID', 'IE', 'IL', 'IN', 'IS', 'IT', 'JO', 'JP', 'KW', 'LB', 'LI', 'LT', 'LU', 'LV', 'MA', 'MC', 'MT', 'MX', 'MY', 'NI', 'NL', 'NO', 'NZ', 'OM', 'PA', 'PE', 'PH', 'PL', 'PS', 'PT', 'PY', 'QA', 'RO', 'SA', 'SE', 'SG', 'SK', 'SV', 'TH', 'TN', 'TR', 'TW', 'US', 'UY', 'VN', 'ZA'], 'external_urls': {'spotify': 'https://open.spotify.com/album/6tkjU4Umpo79wwkgPMV3nZ'}, 'href': 'https://api.spotify.com/v1/albums/6tkjU4Umpo79wwkgPMV3nZ', 'id': '6tkjU4Umpo79wwkgPMV3nZ', 'images': [{'height': 640, 'url': 'https://i.scdn.co/image/94223e3a9f348e089dacd86dfecc444688d27bf1', 'width': 640}, {'height': 300, 'url': 'https://i.scdn.co/image/30d4742ff28b4323a2a0a5addf7d40dc2f54d97f', 'width': 300}, {'height': 64, 'url': 'https://i.scdn.co/image/b2c1b242db73e04d1f352a083c8bfe1d4682deb4', 'width': 64}], 'name': 'Goodbye & Good Riddance', 'release_date': '2018-12-10', 'release_date_precision': 'day', 'total_tracks': 17, 'type': 'album', 'uri': 'spotify:album:6tkjU4Umpo79wwkgPMV3nZ'}, 'artists': [{'external_urls': {'spotify': 'https://open.spotify.com/artist/4MCBfE4596Uoi2O4DtmEMz'}, 'href': 'https://api.spotify.com/v1/artists/4MCBfE4596Uoi2O4DtmEMz', 'id': '4MCBfE4596Uoi2O4DtmEMz', 'name': 'Juice WRLD', 'type': 'artist', 'uri': 'spotify:artist:4MCBfE4596Uoi2O4DtmEMz'}], 'available_markets': ['AD', 'AE', 'AR', 'AT', 'AU', 'BE', 'BG', 'BH', 'BO', 'BR', 'CA', 'CH', 'CL', 'CO', 'CR', 'CY', 'CZ', 'DE', 'DK', 'DO', 'DZ', 'EC', 'EE', 'EG', 'ES', 'FI', 'FR', 'GB', 'GR', 'GT', 'HK', 'HN', 'HU', 'ID', 'IE', 'IL', 'IN', 'IS', 'IT', 'JO', 'JP', 'KW', 'LB', 'LI', 'LT', 'LU', 'LV', 'MA', 'MC', 'MT', 'MX', 'MY', 'NI', 'NL', 'NO', 'NZ', 'OM', 'PA', 'PE', 'PH', 'PL', 'PS', 'PT', 'PY', 'QA', 'RO', 'SA', 'SE', 'SG', 'SK', 'SV', 'TH', 'TN', 'TR', 'TW', 'US', 'UY', 'VN', 'ZA'], 'disc_number': 1, 'duration_ms': 186945, 'explicit': True, 'external_ids': {'isrc': 'USUG11800652'}, 'external_urls': {'spotify': 'https://open.spotify.com/track/1fCeXjoRExPP2qwSBh2aST'}, 'href': 'https://api.spotify.com/v1/tracks/1fCeXjoRExPP2qwSBh2aST', 'id': '1fCeXjoRExPP2qwSBh2aST', 'is_local': False, 'name': 'Black & White', 'popularity': 79, 'preview_url': None, 'track_number': 6, 'type': 'track', 'uri': 'spotify:track:1fCeXjoRExPP2qwSBh2aST'}, {'album': {'album_type': 'album', 'artists': [{'external_urls': {'spotify': 'https://open.spotify.com/artist/5cj0lLjcoR7YOSnhnX0Po5'}, 'href': 'https://api.spotify.com/v1/artists/5cj0lLjcoR7YOSnhnX0Po5', 'id': '5cj0lLjcoR7YOSnhnX0Po5', 'name': 'Doja Cat', 'type': 'artist', 'uri': 'spotify:artist:5cj0lLjcoR7YOSnhnX0Po5'}], 'available_markets': ['AD', 'AE', 'AR', 'AU', 'BE', 'BG', 'BH', 'BO', 'BR', 'CA', 'CL', 'CO', 'CR', 'CY', 'CZ', 'DK', 'DO', 'DZ', 'EC', 'EE', 'EG', 'ES', 'FI', 'FR', 'GB', 'GR', 'GT', 'HK', 'HN', 'HU', 'ID', 'IE', 'IL', 'IN', 'IS', 'IT', 'JO', 'JP', 'KW', 'LB', 'LT', 'LU', 'LV', 'MA', 'MC', 'MT', 'MX', 'MY', 'NI', 'NL', 'NO', 'NZ', 'OM', 'PA', 'PE', 'PH', 'PL', 'PS', 'PT', 'PY', 'QA', 'RO', 'SA', 'SE', 'SG', 'SK', 'SV', 'TH', 'TN', 'TR', 'TW', 'US', 'UY', 'VN', 'ZA'], 'external_urls': {'spotify': 'https://open.spotify.com/album/54tInqO543zy0Y5F2VsUQI'}, 'href': 'https://api.spotify.com/v1/albums/54tInqO543zy0Y5F2VsUQI', 'id': '54tInqO543zy0Y5F2VsUQI', 'images': [{'height': 640, 'url': 'https://i.scdn.co/image/5b2038d2d6adb6160cd8dfe3d22c9493ecce63e7', 'width': 640}, {'height': 300, 'url': 'https://i.scdn.co/image/24d4ef9374fd47f118a7b337cd2269f660352739', 'width': 300}, {'height': 64, 'url': 'https://i.scdn.co/image/6736790a1def48f5b0faa3e973b0f98b7eabd59e', 'width': 64}], 'name': 'Amala', 'release_date': '2018-03-30', 'release_date_precision': 'day', 'total_tracks': 13, 'type': 'album', 'uri': 'spotify:album:54tInqO543zy0Y5F2VsUQI'}, 'artists': [{'external_urls': {'spotify': 'https://open.spotify.com/artist/5cj0lLjcoR7YOSnhnX0Po5'}, 'href': 'https://api.spotify.com/v1/artists/5cj0lLjcoR7YOSnhnX0Po5', 'id': '5cj0lLjcoR7YOSnhnX0Po5', 'name': 'Doja Cat', 'type': 'artist', 'uri': 'spotify:artist:5cj0lLjcoR7YOSnhnX0Po5'}], 'available_markets': ['AD', 'AE', 'AR', 'AU', 'BE', 'BG', 'BH', 'BO', 'BR', 'CA', 'CL', 'CO', 'CR', 'CY', 'CZ', 'DK', 'DO', 'DZ', 'EC', 'EE', 'EG', 'ES', 'FI', 'FR', 'GB', 'GR', 'GT', 'HK', 'HN', 'HU', 'ID', 'IE', 'IL', 'IN', 'IS', 'IT', 'JO', 'JP', 'KW', 'LB', 'LT', 'LU', 'LV', 'MA', 'MC', 'MT', 'MX', 'MY', 'NI', 'NL', 'NO', 'NZ', 'OM', 'PA', 'PE', 'PH', 'PL', 'PS', 'PT', 'PY', 'QA', 'RO', 'SA', 'SE', 'SG', 'SK', 'SV', 'TH', 'TN', 'TR', 'TW', 'US', 'UY', 'VN', 'ZA'], 'disc_number': 1, 'duration_ms': 190920, 'explicit': True, 'external_ids': {'isrc': 'USRC11801164'}, 'external_urls': {'spotify': 'https://open.spotify.com/track/1VJwtWR6z7SpZRwipI12be'}, 'href': 'https://api.spotify.com/v1/tracks/1VJwtWR6z7SpZRwipI12be', 'id': '1VJwtWR6z7SpZRwipI12be', 'is_local': False, 'name': 'Candy', 'popularity': 83, 'preview_url': 'https://p.scdn.co/mp3-preview/b8ec099e8d5570410ec45e21af21147ff5e84dcf?cid=37bf09c4a866456ebea69781382fb291', 'track_number': 8, 'type': 'track', 'uri': 'spotify:track:1VJwtWR6z7SpZRwipI12be'}, {'album': {'album_type': 'album', 'artists': [{'external_urls': {'spotify': 'https://open.spotify.com/artist/1RyvyyTE3xzB2ZywiAwp0i'}, 'href': 'https://api.spotify.com/v1/artists/1RyvyyTE3xzB2ZywiAwp0i', 'id': '1RyvyyTE3xzB2ZywiAwp0i', 'name': 'Future', 'type': 'artist', 'uri': 'spotify:artist:1RyvyyTE3xzB2ZywiAwp0i'}, {'external_urls': {'spotify': 'https://open.spotify.com/artist/4MCBfE4596Uoi2O4DtmEMz'}, 'href': 'https://api.spotify.com/v1/artists/4MCBfE4596Uoi2O4DtmEMz', 'id': '4MCBfE4596Uoi2O4DtmEMz', 'name': 'Juice WRLD', 'type': 'artist', 'uri': 'spotify:artist:4MCBfE4596Uoi2O4DtmEMz'}], 'available_markets': ['AD', 'AE', 'AR', 'AT', 'AU', 'BE', 'BG', 'BH', 'BO', 'BR', 'CA', 'CH', 'CL', 'CO', 'CR', 'CY', 'CZ', 'DE', 'DK', 'DO', 'DZ', 'EC', 'EE', 'EG', 'ES', 'FI', 'FR', 'GB', 'GR', 'GT', 'HK', 'HN', 'HU', 'ID', 'IE', 'IL', 'IN', 'IS', 'IT', 'JO', 'JP', 'KW', 'LB', 'LI', 'LT', 'LU', 'LV', 'MA', 'MC', 'MT', 'MX', 'MY', 'NI', 'NL', 'NO', 'NZ', 'OM', 'PA', 'PE', 'PH', 'PL', 'PS', 'PT', 'PY', 'QA', 'RO', 'SA', 'SE', 'SG', 'SK', 'SV', 'TH', 'TN', 'TR', 'TW', 'US', 'UY', 'VN', 'ZA'], 'external_urls': {'spotify': 'https://open.spotify.com/album/6P9PZjWXoCRF5b66BafPKY'}, 'href': 'https://api.spotify.com/v1/albums/6P9PZjWXoCRF5b66BafPKY', 'id': '6P9PZjWXoCRF5b66BafPKY', 'images': [{'height': 640, 'url': 'https://i.scdn.co/image/ab67616d0000b273644c510e8d4c02ae69028297', 'width': 640}, {'height': 300, 'url': 'https://i.scdn.co/image/ab67616d00001e02644c510e8d4c02ae69028297', 'width': 300}, {'height': 64, 'url': 'https://i.scdn.co/image/ab67616d00004851644c510e8d4c02ae69028297', 'width': 64}], 'name': 'Future & Juice WRLD Present... WRLD ON DRUGS', 'release_date': '2018-10-19', 'release_date_precision': 'day', 'total_tracks': 16, 'type': 'album', 'uri': 'spotify:album:6P9PZjWXoCRF5b66BafPKY'}, 'artists': [{'external_urls': {'spotify': 'https://open.spotify.com/artist/1RyvyyTE3xzB2ZywiAwp0i'}, 'href': 'https://api.spotify.com/v1/artists/1RyvyyTE3xzB2ZywiAwp0i', 'id': '1RyvyyTE3xzB2ZywiAwp0i', 'name': 'Future', 'type': 'artist', 'uri': 'spotify:artist:1RyvyyTE3xzB2ZywiAwp0i'}, {'external_urls': {'spotify': 'https://open.spotify.com/artist/4MCBfE4596Uoi2O4DtmEMz'}, 'href': 'https://api.spotify.com/v1/artists/4MCBfE4596Uoi2O4DtmEMz', 'id': '4MCBfE4596Uoi2O4DtmEMz', 'name': 'Juice WRLD', 'type': 'artist', 'uri': 'spotify:artist:4MCBfE4596Uoi2O4DtmEMz'}], 'available_markets': ['AD', 'AE', 'AR', 'AT', 'AU', 'BE', 'BG', 'BH', 'BO', 'BR', 'CA', 'CH', 'CL', 'CO', 'CR', 'CY', 'CZ', 'DE', 'DK', 'DO', 'DZ', 'EC', 'EE', 'EG', 'ES', 'FI', 'FR', 'GB', 'GR', 'GT', 'HK', 'HN', 'HU', 'ID', 'IE', 'IL', 'IN', 'IS', 'IT', 'JO', 'JP', 'KW', 'LB', 'LI', 'LT', 'LU', 'LV', 'MA', 'MC', 'MT', 'MX', 'MY', 'NI', 'NL', 'NO', 'NZ', 'OM', 'PA', 'PE', 'PH', 'PL', 'PS', 'PT', 'PY', 'QA', 'RO', 'SA', 'SE', 'SG', 'SK', 'SV', 'TH', 'TN', 'TR', 'TW', 'US', 'UY', 'VN', 'ZA'], 'disc_number': 1, 'duration_ms': 141586, 'explicit': True, 'external_ids': {'isrc': 'USSM11808143'}, 'external_urls': {'spotify': 'https://open.spotify.com/track/5274I4mUMnYczyeXkGDWZN'}, 'href': 'https://api.spotify.com/v1/tracks/5274I4mUMnYczyeXkGDWZN', 'id': '5274I4mUMnYczyeXkGDWZN', 'is_local': False, 'name': 'Fine China', 'popularity': 79, 'preview_url': 'https://p.scdn.co/mp3-preview/c068b4ce494bfd5db193c38d4e911296de3b43fc?cid=37bf09c4a866456ebea69781382fb291', 'track_number': 3, 'type': 'track', 'uri': 'spotify:track:5274I4mUMnYczyeXkGDWZN'}, {'album': {'album_type': 'album', 'artists': [{'external_urls': {'spotify': 'https://open.spotify.com/artist/4LLpKhyESsyAXpc4laK94U'}, 'href': 'https://api.spotify.com/v1/artists/4LLpKhyESsyAXpc4laK94U', 'id': '4LLpKhyESsyAXpc4laK94U', 'name': 'Mac Miller', 'type': 'artist', 'uri': 'spotify:artist:4LLpKhyESsyAXpc4laK94U'}], 'available_markets': ['AD', 'AE', 'AR', 'AT', 'AU', 'BE', 'BG', 'BH', 'BO', 'BR', 'CA', 'CH', 'CL', 'CO', 'CR', 'CY', 'CZ', 'DE', 'DK', 'DO', 'DZ', 'EC', 'EE', 'EG', 'ES', 'FI', 'FR', 'GB', 'GR', 'GT', 'HK', 'HN', 'HU', 'ID', 'IE', 'IL', 'IS', 'IT', 'JO', 'JP', 'KW', 'LB', 'LI', 'LT', 'LU', 'LV', 'MA', 'MC', 'MT', 'MX', 'MY', 'NI', 'NL', 'NO', 'NZ', 'OM', 'PA', 'PE', 'PH', 'PL', 'PS', 'PT', 'PY', 'QA', 'RO', 'SA', 'SE', 'SG', 'SK', 'SV', 'TH', 'TN', 'TR', 'TW', 'US', 'UY', 'VN', 'ZA'], 'external_urls': {'spotify': 'https://open.spotify.com/album/5wtE5aLX5r7jOosmPhJhhk'}, 'href': 'https://api.spotify.com/v1/albums/5wtE5aLX5r7jOosmPhJhhk', 'id': '5wtE5aLX5r7jOosmPhJhhk', 'images': [{'height': 640, 'url': 'https://i.scdn.co/image/ab67616d0000b273175c577a61aa13d4fb4b6534', 'width': 640}, {'height': 300, 'url': 'https://i.scdn.co/image/ab67616d00001e02175c577a61aa13d4fb4b6534', 'width': 300}, {'height': 64, 'url': 'https://i.scdn.co/image/ab67616d00004851175c577a61aa13d4fb4b6534', 'width': 64}], 'name': 'Swimming', 'release_date': '2018-08-03', 'release_date_precision': 'day', 'total_tracks': 13, 'type': 'album', 'uri': 'spotify:album:5wtE5aLX5r7jOosmPhJhhk'}, 'artists': [{'external_urls': {'spotify': 'https://open.spotify.com/artist/4LLpKhyESsyAXpc4laK94U'}, 'href': 'https://api.spotify.com/v1/artists/4LLpKhyESsyAXpc4laK94U', 'id': '4LLpKhyESsyAXpc4laK94U', 'name': 'Mac Miller', 'type': 'artist', 'uri': 'spotify:artist:4LLpKhyESsyAXpc4laK94U'}], 'available_markets': ['AD', 'AE', 'AR', 'AT', 'AU', 'BE', 'BG', 'BH', 'BO', 'BR', 'CA', 'CH', 'CL', 'CO', 'CR', 'CY', 'CZ', 'DE', 'DK', 'DO', 'DZ', 'EC', 'EE', 'EG', 'ES', 'FI', 'FR', 'GB', 'GR', 'GT', 'HK', 'HN', 'HU', 'ID', 'IE', 'IL', 'IS', 'IT', 'JO', 'JP', 'KW', 'LB', 'LI', 'LT', 'LU', 'LV', 'MA', 'MC', 'MT', 'MX', 'MY', 'NI', 'NL', 'NO', 'NZ', 'OM', 'PA', 'PE', 'PH', 'PL', 'PS', 'PT', 'PY', 'QA', 'RO', 'SA', 'SE', 'SG', 'SK', 'SV', 'TH', 'TN', 'TR', 'TW', 'US', 'UY', 'VN', 'ZA'], 'disc_number': 1, 'duration_ms': 345133, 'explicit': True, 'external_ids': {'isrc': 'USWB11801215'}, 'external_urls': {'spotify': 'https://open.spotify.com/track/5bJ1DrEM4hNCafcDd1oxHx'}, 'href': 'https://api.spotify.com/v1/tracks/5bJ1DrEM4hNCafcDd1oxHx', 'id': '5bJ1DrEM4hNCafcDd1oxHx', 'is_local': False, 'name': 'Self Care', 'popularity': 80, 'preview_url': 'https://p.scdn.co/mp3-preview/0d9af259d04efa68f88bd1ca8d85a75df32fd647?cid=37bf09c4a866456ebea69781382fb291', 'track_number': 5, 'type': 'track', 'uri': 'spotify:track:5bJ1DrEM4hNCafcDd1oxHx'}, {'album': {'album_type': 'album', 'artists': [{'external_urls': {'spotify': 'https://open.spotify.com/artist/246dkjvS1zLTtiykXe5h60'}, 'href': 'https://api.spotify.com/v1/artists/246dkjvS1zLTtiykXe5h60', 'id': '246dkjvS1zLTtiykXe5h60', 'name': 'Post Malone', 'type': 'artist', 'uri': 'spotify:artist:246dkjvS1zLTtiykXe5h60'}], 'available_markets': ['AD', 'AE', 'AR', 'AT', 'AU', 'BE', 'BG', 'BH', 'BO', 'BR', 'CA', 'CH', 'CL', 'CO', 'CR', 'CY', 'CZ', 'DE', 'DK', 'DO', 'DZ', 'EC', 'EE', 'EG', 'ES', 'FI', 'FR', 'GB', 'GR', 'GT', 'HK', 'HN', 'HU', 'ID', 'IE', 'IL', 'IN', 'IS', 'IT', 'JO', 'JP', 'KW', 'LB', 'LI', 'LT', 'LU', 'LV', 'MA', 'MC', 'MT', 'MX', 'MY', 'NI', 'NL', 'NO', 'NZ', 'OM', 'PA', 'PE', 'PH', 'PL', 'PS', 'PT', 'PY', 'QA', 'RO', 'SA', 'SE', 'SG', 'SK', 'SV', 'TH', 'TN', 'TR', 'TW', 'US', 'UY', 'VN', 'ZA'], 'external_urls': {'spotify': 'https://open.spotify.com/album/6trNtQUgC8cgbWcqoMYkOR'}, 'href': 'https://api.spotify.com/v1/albums/6trNtQUgC8cgbWcqoMYkOR', 'id': '6trNtQUgC8cgbWcqoMYkOR', 'images': [{'height': 640, 'url': 'https://i.scdn.co/image/08569f4ebf39ea275f9601a0f5ae62c489485a7b', 'width': 640}, {'height': 300, 'url': 'https://i.scdn.co/image/d85f15fcbf946d42f3465a8bf1294fff6c64d5fd', 'width': 300}, {'height': 64, 'url': 'https://i.scdn.co/image/4eeab79394ac6dd1d58132e9cecc5d6ba61b9ca1', 'width': 64}], 'name': 'beerbongs & bentleys', 'release_date': '2018-04-27', 'release_date_precision': 'day', 'total_tracks': 18, 'type': 'album', 'uri': 'spotify:album:6trNtQUgC8cgbWcqoMYkOR'}, 'artists': [{'external_urls': {'spotify': 'https://open.spotify.com/artist/246dkjvS1zLTtiykXe5h60'}, 'href': 'https://api.spotify.com/v1/artists/246dkjvS1zLTtiykXe5h60', 'id': '246dkjvS1zLTtiykXe5h60', 'name': 'Post Malone', 'type': 'artist', 'uri': 'spotify:artist:246dkjvS1zLTtiykXe5h60'}, {'external_urls': {'spotify': 'https://open.spotify.com/artist/7c0XG5cIJTrrAgEC3ULPiq'}, 'href': 'https://api.spotify.com/v1/artists/7c0XG5cIJTrrAgEC3ULPiq', 'id': '7c0XG5cIJTrrAgEC3ULPiq', 'name': 'Ty Dolla $ign', 'type': 'artist', 'uri': 'spotify:artist:7c0XG5cIJTrrAgEC3ULPiq'}], 'available_markets': ['AD', 'AE', 'AR', 'AT', 'AU', 'BE', 'BG', 'BH', 'BO', 'BR', 'CA', 'CH', 'CL', 'CO', 'CR', 'CY', 'CZ', 'DE', 'DK', 'DO', 'DZ', 'EC', 'EE', 'EG', 'ES', 'FI', 'FR', 'GB', 'GR', 'GT', 'HK', 'HN', 'HU', 'ID', 'IE', 'IL', 'IN', 'IS', 'IT', 'JO', 'JP', 'KW', 'LB', 'LI', 'LT', 'LU', 'LV', 'MA', 'MC', 'MT', 'MX', 'MY', 'NI', 'NL', 'NO', 'NZ', 'OM', 'PA', 'PE', 'PH', 'PL', 'PS', 'PT', 'PY', 'QA', 'RO', 'SA', 'SE', 'SG', 'SK', 'SV', 'TH', 'TN', 'TR', 'TW', 'US', 'UY', 'VN', 'ZA'], 'disc_number': 1, 'duration_ms': 221440, 'explicit': True, 'external_ids': {'isrc': 'USUM71710836'}, 'external_urls': {'spotify': 'https://open.spotify.com/track/3swc6WTsr7rl9DqQKQA55C'}, 'href': 'https://api.spotify.com/v1/tracks/3swc6WTsr7rl9DqQKQA55C', 'id': '3swc6WTsr7rl9DqQKQA55C', 'is_local': False, 'name': 'Psycho (feat. Ty Dolla $ign)', 'popularity': 82, 'preview_url': None, 'track_number': 8, 'type': 'track', 'uri': 'spotify:track:3swc6WTsr7rl9DqQKQA55C'}, {'album': {'album_type': 'album', 'artists': [{'external_urls': {'spotify': 'https://open.spotify.com/artist/4oUHIQIBe0LHzYfvXNW4QM'}, 'href': 'https://api.spotify.com/v1/artists/4oUHIQIBe0LHzYfvXNW4QM', 'id': '4oUHIQIBe0LHzYfvXNW4QM', 'name': 'Morgan Wallen', 'type': 'artist', 'uri': 'spotify:artist:4oUHIQIBe0LHzYfvXNW4QM'}], 'available_markets': ['AD', 'AE', 'AR', 'AT', 'AU', 'BE', 'BG', 'BH', 'BO', 'BR', 'CA', 'CH', 'CL', 'CO', 'CR', 'CY', 'CZ', 'DE', 'DK', 'DO', 'DZ', 'EC', 'EE', 'EG', 'ES', 'FI', 'FR', 'GB', 'GR', 'GT', 'HK', 'HN', 'HU', 'ID', 'IE', 'IL', 'IN', 'IS', 'IT', 'JO', 'JP', 'KW', 'LB', 'LI', 'LT', 'LU', 'LV', 'MA', 'MC', 'MT', 'MX', 'MY', 'NI', 'NL', 'NO', 'NZ', 'OM', 'PA', 'PE', 'PH', 'PL', 'PS', 'PT', 'PY', 'QA', 'RO', 'SA', 'SE', 'SG', 'SK', 'SV', 'TH', 'TN', 'TR', 'TW', 'US', 'UY', 'VN', 'ZA'], 'external_urls': {'spotify': 'https://open.spotify.com/album/1IR2nlwX6YVTXXeu2qzoWO'}, 'href': 'https://api.spotify.com/v1/albums/1IR2nlwX6YVTXXeu2qzoWO', 'id': '1IR2nlwX6YVTXXeu2qzoWO', 'images': [{'height': 640, 'url': 'https://i.scdn.co/image/b999cdb8b7695d286d05e1b15741e55baee2a44d', 'width': 640}, {'height': 300, 'url': 'https://i.scdn.co/image/549f003f901cf60739b9bd53f047257d4c5b8d10', 'width': 300}, {'height': 64, 'url': 'https://i.scdn.co/image/8c706d01b2d02c2095192721fd6988e0abe78047', 'width': 64}], 'name': 'If I Know Me', 'release_date': '2018-04-27', 'release_date_precision': 'day', 'total_tracks': 14, 'type': 'album', 'uri': 'spotify:album:1IR2nlwX6YVTXXeu2qzoWO'}, 'artists': [{'external_urls': {'spotify': 'https://open.spotify.com/artist/4oUHIQIBe0LHzYfvXNW4QM'}, 'href': 'https://api.spotify.com/v1/artists/4oUHIQIBe0LHzYfvXNW4QM', 'id': '4oUHIQIBe0LHzYfvXNW4QM', 'name': 'Morgan Wallen', 'type': 'artist', 'uri': 'spotify:artist:4oUHIQIBe0LHzYfvXNW4QM'}], 'available_markets': ['AD', 'AE', 'AR', 'AT', 'AU', 'BE', 'BG', 'BH', 'BO', 'BR', 'CA', 'CH', 'CL', 'CO', 'CR', 'CY', 'CZ', 'DE', 'DK', 'DO', 'DZ', 'EC', 'EE', 'EG', 'ES', 'FI', 'FR', 'GB', 'GR', 'GT', 'HK', 'HN', 'HU', 'ID', 'IE', 'IL', 'IN', 'IS', 'IT', 'JO', 'JP', 'KW', 'LB', 'LI', 'LT', 'LU', 'LV', 'MA', 'MC', 'MT', 'MX', 'MY', 'NI', 'NL', 'NO', 'NZ', 'OM', 'PA', 'PE', 'PH', 'PL', 'PS', 'PT', 'PY', 'QA', 'RO', 'SA', 'SE', 'SG', 'SK', 'SV', 'TH', 'TN', 'TR', 'TW', 'US', 'UY', 'VN', 'ZA'], 'disc_number': 1, 'duration_ms': 205453, 'explicit': False, 'external_ids': {'isrc': 'QZ22S1800006'}, 'external_urls': {'spotify': 'https://open.spotify.com/track/5MwynWK9s4hlyKHqhkNn4A'}, 'href': 'https://api.spotify.com/v1/tracks/5MwynWK9s4hlyKHqhkNn4A', 'id': '5MwynWK9s4hlyKHqhkNn4A', 'is_local': False, 'name': \"Chasin' You\", 'popularity': 77, 'preview_url': 'https://p.scdn.co/mp3-preview/315a23892d7b637a14a15b45d411f8d28f604059?cid=37bf09c4a866456ebea69781382fb291', 'track_number': 9, 'type': 'track', 'uri': 'spotify:track:5MwynWK9s4hlyKHqhkNn4A'}, {'album': {'album_type': 'album', 'artists': [{'external_urls': {'spotify': 'https://open.spotify.com/artist/7z5WFjZAIYejWy0NI5lv4T'}, 'href': 'https://api.spotify.com/v1/artists/7z5WFjZAIYejWy0NI5lv4T', 'id': '7z5WFjZAIYejWy0NI5lv4T', 'name': 'Dan + Shay', 'type': 'artist', 'uri': 'spotify:artist:7z5WFjZAIYejWy0NI5lv4T'}], 'available_markets': ['AD', 'AE', 'AR', 'AT', 'AU', 'BE', 'BG', 'BH', 'BO', 'BR', 'CA', 'CH', 'CL', 'CO', 'CR', 'CY', 'CZ', 'DE', 'DK', 'DO', 'DZ', 'EC', 'EE', 'EG', 'ES', 'FI', 'FR', 'GB', 'GR', 'GT', 'HK', 'HN', 'HU', 'ID', 'IE', 'IL', 'IS', 'IT', 'JO', 'JP', 'KW', 'LB', 'LI', 'LT', 'LU', 'LV', 'MA', 'MC', 'MT', 'MX', 'MY', 'NI', 'NL', 'NO', 'NZ', 'OM', 'PA', 'PE', 'PH', 'PL', 'PS', 'PT', 'PY', 'QA', 'RO', 'SA', 'SE', 'SG', 'SK', 'SV', 'TH', 'TN', 'TR', 'TW', 'US', 'UY', 'VN', 'ZA'], 'external_urls': {'spotify': 'https://open.spotify.com/album/0g1F5eGVwX4Sxi1n8ojPkE'}, 'href': 'https://api.spotify.com/v1/albums/0g1F5eGVwX4Sxi1n8ojPkE', 'id': '0g1F5eGVwX4Sxi1n8ojPkE', 'images': [{'height': 640, 'url': 'https://i.scdn.co/image/ab67616d0000b27305e4408393e1c81a8ab1bf26', 'width': 640}, {'height': 300, 'url': 'https://i.scdn.co/image/ab67616d00001e0205e4408393e1c81a8ab1bf26', 'width': 300}, {'height': 64, 'url': 'https://i.scdn.co/image/ab67616d0000485105e4408393e1c81a8ab1bf26', 'width': 64}], 'name': 'Dan + Shay', 'release_date': '2018-06-22', 'release_date_precision': 'day', 'total_tracks': 11, 'type': 'album', 'uri': 'spotify:album:0g1F5eGVwX4Sxi1n8ojPkE'}, 'artists': [{'external_urls': {'spotify': 'https://open.spotify.com/artist/7z5WFjZAIYejWy0NI5lv4T'}, 'href': 'https://api.spotify.com/v1/artists/7z5WFjZAIYejWy0NI5lv4T', 'id': '7z5WFjZAIYejWy0NI5lv4T', 'name': 'Dan + Shay', 'type': 'artist', 'uri': 'spotify:artist:7z5WFjZAIYejWy0NI5lv4T'}], 'available_markets': ['AD', 'AE', 'AR', 'AT', 'AU', 'BE', 'BG', 'BH', 'BO', 'BR', 'CA', 'CH', 'CL', 'CO', 'CR', 'CY', 'CZ', 'DE', 'DK', 'DO', 'DZ', 'EC', 'EE', 'EG', 'ES', 'FI', 'FR', 'GB', 'GR', 'GT', 'HK', 'HN', 'HU', 'ID', 'IE', 'IL', 'IS', 'IT', 'JO', 'JP', 'KW', 'LB', 'LI', 'LT', 'LU', 'LV', 'MA', 'MC', 'MT', 'MX', 'MY', 'NI', 'NL', 'NO', 'NZ', 'OM', 'PA', 'PE', 'PH', 'PL', 'PS', 'PT', 'PY', 'QA', 'RO', 'SA', 'SE', 'SG', 'SK', 'SV', 'TH', 'TN', 'TR', 'TW', 'US', 'UY', 'VN', 'ZA'], 'disc_number': 1, 'duration_ms': 213386, 'explicit': False, 'external_ids': {'isrc': 'USWB11800928'}, 'external_urls': {'spotify': 'https://open.spotify.com/track/3GJ4hzg4lrGwU51Y3VARbF'}, 'href': 'https://api.spotify.com/v1/tracks/3GJ4hzg4lrGwU51Y3VARbF', 'id': '3GJ4hzg4lrGwU51Y3VARbF', 'is_local': False, 'name': 'Speechless', 'popularity': 78, 'preview_url': 'https://p.scdn.co/mp3-preview/69de5cae36cc21287d66bcb93f3ba178198615c5?cid=37bf09c4a866456ebea69781382fb291', 'track_number': 7, 'type': 'track', 'uri': 'spotify:track:3GJ4hzg4lrGwU51Y3VARbF'}, {'album': {'album_type': 'album', 'artists': [{'external_urls': {'spotify': 'https://open.spotify.com/artist/46SHBwWsqBkxI7EeeBEQG7'}, 'href': 'https://api.spotify.com/v1/artists/46SHBwWsqBkxI7EeeBEQG7', 'id': '46SHBwWsqBkxI7EeeBEQG7', 'name': 'Kodak Black', 'type': 'artist', 'uri': 'spotify:artist:46SHBwWsqBkxI7EeeBEQG7'}], 'available_markets': ['AD', 'AE', 'AR', 'AT', 'AU', 'BE', 'BG', 'BH', 'BO', 'BR', 'CA', 'CH', 'CL', 'CO', 'CR', 'CY', 'CZ', 'DE', 'DK', 'DO', 'DZ', 'EC', 'EE', 'EG', 'ES', 'FI', 'FR', 'GB', 'GR', 'GT', 'HK', 'HN', 'HU', 'ID', 'IE', 'IL', 'IS', 'IT', 'JO', 'JP', 'KW', 'LB', 'LI', 'LT', 'LU', 'LV', 'MA', 'MC', 'MT', 'MX', 'MY', 'NI', 'NL', 'NO', 'NZ', 'OM', 'PA', 'PE', 'PH', 'PL', 'PS', 'PT', 'PY', 'QA', 'RO', 'SA', 'SE', 'SG', 'SK', 'SV', 'TH', 'TN', 'TR', 'TW', 'US', 'UY', 'VN', 'ZA'], 'external_urls': {'spotify': 'https://open.spotify.com/album/5n1GSzC1Reao29ScnpLYqp'}, 'href': 'https://api.spotify.com/v1/albums/5n1GSzC1Reao29ScnpLYqp', 'id': '5n1GSzC1Reao29ScnpLYqp', 'images': [{'height': 640, 'url': 'https://i.scdn.co/image/ab67616d0000b273f9508eb3070b95ceeb82788b', 'width': 640}, {'height': 300, 'url': 'https://i.scdn.co/image/ab67616d00001e02f9508eb3070b95ceeb82788b', 'width': 300}, {'height': 64, 'url': 'https://i.scdn.co/image/ab67616d00004851f9508eb3070b95ceeb82788b', 'width': 64}], 'name': 'Dying to Live', 'release_date': '2018-12-14', 'release_date_precision': 'day', 'total_tracks': 16, 'type': 'album', 'uri': 'spotify:album:5n1GSzC1Reao29ScnpLYqp'}, 'artists': [{'external_urls': {'spotify': 'https://open.spotify.com/artist/46SHBwWsqBkxI7EeeBEQG7'}, 'href': 'https://api.spotify.com/v1/artists/46SHBwWsqBkxI7EeeBEQG7', 'id': '46SHBwWsqBkxI7EeeBEQG7', 'name': 'Kodak Black', 'type': 'artist', 'uri': 'spotify:artist:46SHBwWsqBkxI7EeeBEQG7'}, {'external_urls': {'spotify': 'https://open.spotify.com/artist/4DdkRBBYG6Yk9Ka8tdJ9BW'}, 'href': 'https://api.spotify.com/v1/artists/4DdkRBBYG6Yk9Ka8tdJ9BW', 'id': '4DdkRBBYG6Yk9Ka8tdJ9BW', 'name': 'Offset', 'type': 'artist', 'uri': 'spotify:artist:4DdkRBBYG6Yk9Ka8tdJ9BW'}, {'external_urls': {'spotify': 'https://open.spotify.com/artist/0Y5tJX1MQlPlqiwlOH1tJY'}, 'href': 'https://api.spotify.com/v1/artists/0Y5tJX1MQlPlqiwlOH1tJY', 'id': '0Y5tJX1MQlPlqiwlOH1tJY', 'name': 'Travis Scott', 'type': 'artist', 'uri': 'spotify:artist:0Y5tJX1MQlPlqiwlOH1tJY'}], 'available_markets': ['AD', 'AE', 'AR', 'AT', 'AU', 'BE', 'BG', 'BH', 'BO', 'BR', 'CA', 'CH', 'CL', 'CO', 'CR', 'CY', 'CZ', 'DE', 'DK', 'DO', 'DZ', 'EC', 'EE', 'EG', 'ES', 'FI', 'FR', 'GB', 'GR', 'GT', 'HK', 'HN', 'HU', 'ID', 'IE', 'IL', 'IS', 'IT', 'JO', 'JP', 'KW', 'LB', 'LI', 'LT', 'LU', 'LV', 'MA', 'MC', 'MT', 'MX', 'MY', 'NI', 'NL', 'NO', 'NZ', 'OM', 'PA', 'PE', 'PH', 'PL', 'PS', 'PT', 'PY', 'QA', 'RO', 'SA', 'SE', 'SG', 'SK', 'SV', 'TH', 'TN', 'TR', 'TW', 'US', 'UY', 'VN', 'ZA'], 'disc_number': 1, 'duration_ms': 228759, 'explicit': True, 'external_ids': {'isrc': 'USAT21811523'}, 'external_urls': {'spotify': 'https://open.spotify.com/track/0FZ4Dmg8jJJAPJnvBIzD9z'}, 'href': 'https://api.spotify.com/v1/tracks/0FZ4Dmg8jJJAPJnvBIzD9z', 'id': '0FZ4Dmg8jJJAPJnvBIzD9z', 'is_local': False, 'name': 'ZEZE', 'popularity': 82, 'preview_url': 'https://p.scdn.co/mp3-preview/6ccc75509be729ffb01b1df3a8183e4e88dc6303?cid=37bf09c4a866456ebea69781382fb291', 'track_number': 5, 'type': 'track', 'uri': 'spotify:track:0FZ4Dmg8jJJAPJnvBIzD9z'}, {'album': {'album_type': 'single', 'artists': [{'external_urls': {'spotify': 'https://open.spotify.com/artist/6USv9qhCn6zfxlBQIYJ9qs'}, 'href': 'https://api.spotify.com/v1/artists/6USv9qhCn6zfxlBQIYJ9qs', 'id': '6USv9qhCn6zfxlBQIYJ9qs', 'name': 'Dominic Fike', 'type': 'artist', 'uri': 'spotify:artist:6USv9qhCn6zfxlBQIYJ9qs'}], 'available_markets': ['AD', 'AE', 'AR', 'AT', 'AU', 'BE', 'BG', 'BH', 'BO', 'BR', 'CA', 'CH', 'CL', 'CO', 'CR', 'CY', 'CZ', 'DE', 'DK', 'DO', 'DZ', 'EC', 'EE', 'EG', 'ES', 'FI', 'FR', 'GB', 'GR', 'GT', 'HK', 'HN', 'HU', 'ID', 'IE', 'IL', 'IN', 'IS', 'IT', 'JO', 'JP', 'KW', 'LB', 'LI', 'LT', 'LU', 'LV', 'MA', 'MC', 'MT', 'MX', 'MY', 'NI', 'NL', 'NO', 'NZ', 'OM', 'PA', 'PE', 'PH', 'PL', 'PS', 'PT', 'PY', 'QA', 'RO', 'SA', 'SE', 'SG', 'SK', 'SV', 'TH', 'TN', 'TR', 'TW', 'US', 'UY', 'VN', 'ZA'], 'external_urls': {'spotify': 'https://open.spotify.com/album/1DNx0H5ZX1ax3yyRwtgT4S'}, 'href': 'https://api.spotify.com/v1/albums/1DNx0H5ZX1ax3yyRwtgT4S', 'id': '1DNx0H5ZX1ax3yyRwtgT4S', 'images': [{'height': 640, 'url': 'https://i.scdn.co/image/ab67616d0000b2734a42166d927b3acce345c5c0', 'width': 640}, {'height': 300, 'url': 'https://i.scdn.co/image/ab67616d00001e024a42166d927b3acce345c5c0', 'width': 300}, {'height': 64, 'url': 'https://i.scdn.co/image/ab67616d000048514a42166d927b3acce345c5c0', 'width': 64}], 'name': \"Don't Forget About Me, Demos\", 'release_date': '2018-10-16', 'release_date_precision': 'day', 'total_tracks': 6, 'type': 'album', 'uri': 'spotify:album:1DNx0H5ZX1ax3yyRwtgT4S'}, 'artists': [{'external_urls': {'spotify': 'https://open.spotify.com/artist/6USv9qhCn6zfxlBQIYJ9qs'}, 'href': 'https://api.spotify.com/v1/artists/6USv9qhCn6zfxlBQIYJ9qs', 'id': '6USv9qhCn6zfxlBQIYJ9qs', 'name': 'Dominic Fike', 'type': 'artist', 'uri': 'spotify:artist:6USv9qhCn6zfxlBQIYJ9qs'}], 'available_markets': ['AD', 'AE', 'AR', 'AT', 'AU', 'BE', 'BG', 'BH', 'BO', 'BR', 'CA', 'CH', 'CL', 'CO', 'CR', 'CY', 'CZ', 'DE', 'DK', 'DO', 'DZ', 'EC', 'EE', 'EG', 'ES', 'FI', 'FR', 'GB', 'GR', 'GT', 'HK', 'HN', 'HU', 'ID', 'IE', 'IL', 'IN', 'IS', 'IT', 'JO', 'JP', 'KW', 'LB', 'LI', 'LT', 'LU', 'LV', 'MA', 'MC', 'MT', 'MX', 'MY', 'NI', 'NL', 'NO', 'NZ', 'OM', 'PA', 'PE', 'PH', 'PL', 'PS', 'PT', 'PY', 'QA', 'RO', 'SA', 'SE', 'SG', 'SK', 'SV', 'TH', 'TN', 'TR', 'TW', 'US', 'UY', 'VN', 'ZA'], 'disc_number': 1, 'duration_ms': 177666, 'explicit': False, 'external_ids': {'isrc': 'USQX91802455'}, 'external_urls': {'spotify': 'https://open.spotify.com/track/1tNJrcVe6gwLEiZCtprs1u'}, 'href': 'https://api.spotify.com/v1/tracks/1tNJrcVe6gwLEiZCtprs1u', 'id': '1tNJrcVe6gwLEiZCtprs1u', 'is_local': False, 'name': '3 Nights', 'popularity': 85, 'preview_url': 'https://p.scdn.co/mp3-preview/4541d9fdce0a1a70103690863356bee8ca05d02b?cid=37bf09c4a866456ebea69781382fb291', 'track_number': 1, 'type': 'track', 'uri': 'spotify:track:1tNJrcVe6gwLEiZCtprs1u'}, {'album': {'album_type': 'album', 'artists': [{'external_urls': {'spotify': 'https://open.spotify.com/artist/31W5EY0aAly4Qieq6OFu6I'}, 'href': 'https://api.spotify.com/v1/artists/31W5EY0aAly4Qieq6OFu6I', 'id': '31W5EY0aAly4Qieq6OFu6I', 'name': 'A Boogie Wit da Hoodie', 'type': 'artist', 'uri': 'spotify:artist:31W5EY0aAly4Qieq6OFu6I'}], 'available_markets': ['AD', 'AE', 'AR', 'AT', 'AU', 'BE', 'BG', 'BH', 'BO', 'BR', 'CA', 'CH', 'CL', 'CO', 'CR', 'CY', 'CZ', 'DE', 'DK', 'DO', 'DZ', 'EC', 'EE', 'EG', 'ES', 'FI', 'FR', 'GB', 'GR', 'GT', 'HK', 'HN', 'HU', 'ID', 'IE', 'IL', 'IS', 'IT', 'JO', 'JP', 'KW', 'LB', 'LI', 'LT', 'LU', 'LV', 'MA', 'MC', 'MT', 'MX', 'MY', 'NI', 'NL', 'NO', 'NZ', 'OM', 'PA', 'PE', 'PH', 'PL', 'PS', 'PT', 'PY', 'QA', 'RO', 'SA', 'SE', 'SG', 'SK', 'SV', 'TH', 'TN', 'TR', 'TW', 'US', 'UY', 'VN', 'ZA'], 'external_urls': {'spotify': 'https://open.spotify.com/album/3r5hf3Cj3EMh1C2saQ8jyt'}, 'href': 'https://api.spotify.com/v1/albums/3r5hf3Cj3EMh1C2saQ8jyt', 'id': '3r5hf3Cj3EMh1C2saQ8jyt', 'images': [{'height': 640, 'url': 'https://i.scdn.co/image/ab67616d0000b273dcfadea246002a5c0fd7b1b8', 'width': 640}, {'height': 300, 'url': 'https://i.scdn.co/image/ab67616d00001e02dcfadea246002a5c0fd7b1b8', 'width': 300}, {'height': 64, 'url': 'https://i.scdn.co/image/ab67616d00004851dcfadea246002a5c0fd7b1b8', 'width': 64}], 'name': 'Hoodie SZN', 'release_date': '2018-12-21', 'release_date_precision': 'day', 'total_tracks': 20, 'type': 'album', 'uri': 'spotify:album:3r5hf3Cj3EMh1C2saQ8jyt'}, 'artists': [{'external_urls': {'spotify': 'https://open.spotify.com/artist/31W5EY0aAly4Qieq6OFu6I'}, 'href': 'https://api.spotify.com/v1/artists/31W5EY0aAly4Qieq6OFu6I', 'id': '31W5EY0aAly4Qieq6OFu6I', 'name': 'A Boogie Wit da Hoodie', 'type': 'artist', 'uri': 'spotify:artist:31W5EY0aAly4Qieq6OFu6I'}], 'available_markets': ['AD', 'AE', 'AR', 'AT', 'AU', 'BE', 'BG', 'BH', 'BO', 'BR', 'CA', 'CH', 'CL', 'CO', 'CR', 'CY', 'CZ', 'DE', 'DK', 'DO', 'DZ', 'EC', 'EE', 'EG', 'ES', 'FI', 'FR', 'GB', 'GR', 'GT', 'HK', 'HN', 'HU', 'ID', 'IE', 'IL', 'IS', 'IT', 'JO', 'JP', 'KW', 'LB', 'LI', 'LT', 'LU', 'LV', 'MA', 'MC', 'MT', 'MX', 'MY', 'NI', 'NL', 'NO', 'NZ', 'OM', 'PA', 'PE', 'PH', 'PL', 'PS', 'PT', 'PY', 'QA', 'RO', 'SA', 'SE', 'SG', 'SK', 'SV', 'TH', 'TN', 'TR', 'TW', 'US', 'UY', 'VN', 'ZA'], 'disc_number': 1, 'duration_ms': 179449, 'explicit': True, 'external_ids': {'isrc': 'USAT21812667'}, 'external_urls': {'spotify': 'https://open.spotify.com/track/3Ol2xnObFdKV9pmRD2t9x8'}, 'href': 'https://api.spotify.com/v1/tracks/3Ol2xnObFdKV9pmRD2t9x8', 'id': '3Ol2xnObFdKV9pmRD2t9x8', 'is_local': False, 'name': 'Look Back at It', 'popularity': 80, 'preview_url': 'https://p.scdn.co/mp3-preview/1791d957e2bad3063228db3750f1f71670764842?cid=37bf09c4a866456ebea69781382fb291', 'track_number': 11, 'type': 'track', 'uri': 'spotify:track:3Ol2xnObFdKV9pmRD2t9x8'}, {'album': {'album_type': 'album', 'artists': [{'external_urls': {'spotify': 'https://open.spotify.com/artist/2RDOrhPqAM4jzTRCEb19qX'}, 'href': 'https://api.spotify.com/v1/artists/2RDOrhPqAM4jzTRCEb19qX', 'id': '2RDOrhPqAM4jzTRCEb19qX', 'name': 'Sheck Wes', 'type': 'artist', 'uri': 'spotify:artist:2RDOrhPqAM4jzTRCEb19qX'}], 'available_markets': ['AD', 'AE', 'AR', 'AT', 'AU', 'BE', 'BG', 'BH', 'BO', 'BR', 'CA', 'CH', 'CL', 'CO', 'CR', 'CY', 'CZ', 'DE', 'DK', 'DO', 'DZ', 'EC', 'EE', 'EG', 'ES', 'FI', 'FR', 'GB', 'GR', 'GT', 'HK', 'HN', 'HU', 'ID', 'IE', 'IL', 'IN', 'IS', 'IT', 'JO', 'JP', 'KW', 'LB', 'LI', 'LT', 'LU', 'LV', 'MA', 'MC', 'MT', 'MX', 'MY', 'NI', 'NL', 'NO', 'NZ', 'OM', 'PA', 'PE', 'PH', 'PL', 'PS', 'PT', 'PY', 'QA', 'RO', 'SA', 'SE', 'SG', 'SK', 'SV', 'TH', 'TN', 'TR', 'TW', 'US', 'UY', 'VN', 'ZA'], 'external_urls': {'spotify': 'https://open.spotify.com/album/15Id9Jrqab8IwHFirdrrLp'}, 'href': 'https://api.spotify.com/v1/albums/15Id9Jrqab8IwHFirdrrLp', 'id': '15Id9Jrqab8IwHFirdrrLp', 'images': [{'height': 640, 'url': 'https://i.scdn.co/image/ab67616d0000b27359cd47039c5b10ed919fbaa8', 'width': 640}, {'height': 300, 'url': 'https://i.scdn.co/image/ab67616d00001e0259cd47039c5b10ed919fbaa8', 'width': 300}, {'height': 64, 'url': 'https://i.scdn.co/image/ab67616d0000485159cd47039c5b10ed919fbaa8', 'width': 64}], 'name': 'MUDBOY', 'release_date': '2018-10-05', 'release_date_precision': 'day', 'total_tracks': 14, 'type': 'album', 'uri': 'spotify:album:15Id9Jrqab8IwHFirdrrLp'}, 'artists': [{'external_urls': {'spotify': 'https://open.spotify.com/artist/2RDOrhPqAM4jzTRCEb19qX'}, 'href': 'https://api.spotify.com/v1/artists/2RDOrhPqAM4jzTRCEb19qX', 'id': '2RDOrhPqAM4jzTRCEb19qX', 'name': 'Sheck Wes', 'type': 'artist', 'uri': 'spotify:artist:2RDOrhPqAM4jzTRCEb19qX'}], 'available_markets': ['AD', 'AE', 'AR', 'AT', 'AU', 'BE', 'BG', 'BH', 'BO', 'BR', 'CA', 'CH', 'CL', 'CO', 'CR', 'CY', 'CZ', 'DE', 'DK', 'DO', 'DZ', 'EC', 'EE', 'EG', 'ES', 'FI', 'FR', 'GB', 'GR', 'GT', 'HK', 'HN', 'HU', 'ID', 'IE', 'IL', 'IN', 'IS', 'IT', 'JO', 'JP', 'KW', 'LB', 'LI', 'LT', 'LU', 'LV', 'MA', 'MC', 'MT', 'MX', 'MY', 'NI', 'NL', 'NO', 'NZ', 'OM', 'PA', 'PE', 'PH', 'PL', 'PS', 'PT', 'PY', 'QA', 'RO', 'SA', 'SE', 'SG', 'SK', 'SV', 'TH', 'TN', 'TR', 'TW', 'US', 'UY', 'VN', 'ZA'], 'disc_number': 1, 'duration_ms': 183906, 'explicit': True, 'external_ids': {'isrc': 'QM24S1703585'}, 'external_urls': {'spotify': 'https://open.spotify.com/track/1xzBco0xcoJEDXktl7Jxrr'}, 'href': 'https://api.spotify.com/v1/tracks/1xzBco0xcoJEDXktl7Jxrr', 'id': '1xzBco0xcoJEDXktl7Jxrr', 'is_local': False, 'name': 'Mo Bamba', 'popularity': 81, 'preview_url': None, 'track_number': 9, 'type': 'track', 'uri': 'spotify:track:1xzBco0xcoJEDXktl7Jxrr'}, {'album': {'album_type': 'album', 'artists': [{'external_urls': {'spotify': 'https://open.spotify.com/artist/3TVXtAsR1Inumwj472S9r4'}, 'href': 'https://api.spotify.com/v1/artists/3TVXtAsR1Inumwj472S9r4', 'id': '3TVXtAsR1Inumwj472S9r4', 'name': 'Drake', 'type': 'artist', 'uri': 'spotify:artist:3TVXtAsR1Inumwj472S9r4'}], 'available_markets': ['AD', 'AE', 'AR', 'AT', 'AU', 'BE', 'BG', 'BH', 'BO', 'BR', 'CA', 'CH', 'CL', 'CO', 'CR', 'CY', 'CZ', 'DE', 'DK', 'DO', 'DZ', 'EC', 'EE', 'EG', 'ES', 'FI', 'FR', 'GB', 'GR', 'GT', 'HK', 'HN', 'HU', 'ID', 'IE', 'IL', 'IN', 'IS', 'IT', 'JO', 'JP', 'KW', 'LB', 'LI', 'LT', 'LU', 'LV', 'MA', 'MC', 'MT', 'MX', 'MY', 'NI', 'NL', 'NO', 'NZ', 'OM', 'PA', 'PE', 'PH', 'PL', 'PS', 'PT', 'PY', 'QA', 'RO', 'SA', 'SE', 'SG', 'SK', 'SV', 'TH', 'TN', 'TR', 'TW', 'US', 'UY', 'VN', 'ZA'], 'external_urls': {'spotify': 'https://open.spotify.com/album/1ATL5GLyefJaxhQzSPVrLX'}, 'href': 'https://api.spotify.com/v1/albums/1ATL5GLyefJaxhQzSPVrLX', 'id': '1ATL5GLyefJaxhQzSPVrLX', 'images': [{'height': 640, 'url': 'https://i.scdn.co/image/e6d17a95cac4810507dfb0a8242e4463d4c32a30', 'width': 640}, {'height': 300, 'url': 'https://i.scdn.co/image/9f5fa5dfc5e084427eb4627a87bfafb2f200e3a4', 'width': 300}, {'height': 64, 'url': 'https://i.scdn.co/image/ed0e8b6ee4bcdb0565e99bdeb3465eabc8b25bb3', 'width': 64}], 'name': 'Scorpion', 'release_date': '2018-06-29', 'release_date_precision': 'day', 'total_tracks': 25, 'type': 'album', 'uri': 'spotify:album:1ATL5GLyefJaxhQzSPVrLX'}, 'artists': [{'external_urls': {'spotify': 'https://open.spotify.com/artist/3TVXtAsR1Inumwj472S9r4'}, 'href': 'https://api.spotify.com/v1/artists/3TVXtAsR1Inumwj472S9r4', 'id': '3TVXtAsR1Inumwj472S9r4', 'name': 'Drake', 'type': 'artist', 'uri': 'spotify:artist:3TVXtAsR1Inumwj472S9r4'}], 'available_markets': ['AD', 'AE', 'AR', 'AT', 'AU', 'BE', 'BG', 'BH', 'BO', 'BR', 'CA', 'CH', 'CL', 'CO', 'CR', 'CY', 'CZ', 'DE', 'DK', 'DO', 'DZ', 'EC', 'EE', 'EG', 'ES', 'FI', 'FR', 'GB', 'GR', 'GT', 'HK', 'HN', 'HU', 'ID', 'IE', 'IL', 'IN', 'IS', 'IT', 'JO', 'JP', 'KW', 'LB', 'LI', 'LT', 'LU', 'LV', 'MA', 'MC', 'MT', 'MX', 'MY', 'NI', 'NL', 'NO', 'NZ', 'OM', 'PA', 'PE', 'PH', 'PL', 'PS', 'PT', 'PY', 'QA', 'RO', 'SA', 'SE', 'SG', 'SK', 'SV', 'TH', 'TN', 'TR', 'TW', 'US', 'UY', 'VN', 'ZA'], 'disc_number': 1, 'duration_ms': 238614, 'explicit': True, 'external_ids': {'isrc': 'USCM51800191'}, 'external_urls': {'spotify': 'https://open.spotify.com/track/0TlLq3lA83rQOYtrqBqSct'}, 'href': 'https://api.spotify.com/v1/tracks/0TlLq3lA83rQOYtrqBqSct', 'id': '0TlLq3lA83rQOYtrqBqSct', 'is_local': False, 'name': 'Nonstop', 'popularity': 81, 'preview_url': None, 'track_number': 2, 'type': 'track', 'uri': 'spotify:track:0TlLq3lA83rQOYtrqBqSct'}, {'album': {'album_type': 'album', 'artists': [{'external_urls': {'spotify': 'https://open.spotify.com/artist/4MCBfE4596Uoi2O4DtmEMz'}, 'href': 'https://api.spotify.com/v1/artists/4MCBfE4596Uoi2O4DtmEMz', 'id': '4MCBfE4596Uoi2O4DtmEMz', 'name': 'Juice WRLD', 'type': 'artist', 'uri': 'spotify:artist:4MCBfE4596Uoi2O4DtmEMz'}], 'available_markets': ['AD', 'AE', 'AR', 'AT', 'AU', 'BE', 'BG', 'BH', 'BO', 'BR', 'CA', 'CH', 'CL', 'CO', 'CR', 'CY', 'CZ', 'DE', 'DK', 'DO', 'DZ', 'EC', 'EE', 'EG', 'ES', 'FI', 'FR', 'GB', 'GR', 'GT', 'HK', 'HN', 'HU', 'ID', 'IE', 'IL', 'IN', 'IS', 'IT', 'JO', 'JP', 'KW', 'LB', 'LI', 'LT', 'LU', 'LV', 'MA', 'MC', 'MT', 'MX', 'MY', 'NI', 'NL', 'NO', 'NZ', 'OM', 'PA', 'PE', 'PH', 'PL', 'PS', 'PT', 'PY', 'QA', 'RO', 'SA', 'SE', 'SG', 'SK', 'SV', 'TH', 'TN', 'TR', 'TW', 'US', 'UY', 'VN', 'ZA'], 'external_urls': {'spotify': 'https://open.spotify.com/album/6tkjU4Umpo79wwkgPMV3nZ'}, 'href': 'https://api.spotify.com/v1/albums/6tkjU4Umpo79wwkgPMV3nZ', 'id': '6tkjU4Umpo79wwkgPMV3nZ', 'images': [{'height': 640, 'url': 'https://i.scdn.co/image/94223e3a9f348e089dacd86dfecc444688d27bf1', 'width': 640}, {'height': 300, 'url': 'https://i.scdn.co/image/30d4742ff28b4323a2a0a5addf7d40dc2f54d97f', 'width': 300}, {'height': 64, 'url': 'https://i.scdn.co/image/b2c1b242db73e04d1f352a083c8bfe1d4682deb4', 'width': 64}], 'name': 'Goodbye & Good Riddance', 'release_date': '2018-12-10', 'release_date_precision': 'day', 'total_tracks': 17, 'type': 'album', 'uri': 'spotify:album:6tkjU4Umpo79wwkgPMV3nZ'}, 'artists': [{'external_urls': {'spotify': 'https://open.spotify.com/artist/4MCBfE4596Uoi2O4DtmEMz'}, 'href': 'https://api.spotify.com/v1/artists/4MCBfE4596Uoi2O4DtmEMz', 'id': '4MCBfE4596Uoi2O4DtmEMz', 'name': 'Juice WRLD', 'type': 'artist', 'uri': 'spotify:artist:4MCBfE4596Uoi2O4DtmEMz'}, {'external_urls': {'spotify': 'https://open.spotify.com/artist/4O15NlyKLIASxsJ0PrXPfz'}, 'href': 'https://api.spotify.com/v1/artists/4O15NlyKLIASxsJ0PrXPfz', 'id': '4O15NlyKLIASxsJ0PrXPfz', 'name': 'Lil Uzi Vert', 'type': 'artist', 'uri': 'spotify:artist:4O15NlyKLIASxsJ0PrXPfz'}], 'available_markets': ['AD', 'AE', 'AR', 'AT', 'AU', 'BE', 'BG', 'BH', 'BO', 'BR', 'CA', 'CH', 'CL', 'CO', 'CR', 'CY', 'CZ', 'DE', 'DK', 'DO', 'DZ', 'EC', 'EE', 'EG', 'ES', 'FI', 'FR', 'GB', 'GR', 'GT', 'HK', 'HN', 'HU', 'ID', 'IE', 'IL', 'IN', 'IS', 'IT', 'JO', 'JP', 'KW', 'LB', 'LI', 'LT', 'LU', 'LV', 'MA', 'MC', 'MT', 'MX', 'MY', 'NI', 'NL', 'NO', 'NZ', 'OM', 'PA', 'PE', 'PH', 'PL', 'PS', 'PT', 'PY', 'QA', 'RO', 'SA', 'SE', 'SG', 'SK', 'SV', 'TH', 'TN', 'TR', 'TW', 'US', 'UY', 'VN', 'ZA'], 'disc_number': 1, 'duration_ms': 258475, 'explicit': True, 'external_ids': {'isrc': 'USUG11800948'}, 'external_urls': {'spotify': 'https://open.spotify.com/track/1a7WZZZH7LzyvorhpOJFTe'}, 'href': 'https://api.spotify.com/v1/tracks/1a7WZZZH7LzyvorhpOJFTe', 'id': '1a7WZZZH7LzyvorhpOJFTe', 'is_local': False, 'name': 'Wasted (feat. Lil Uzi Vert)', 'popularity': 78, 'preview_url': None, 'track_number': 4, 'type': 'track', 'uri': 'spotify:track:1a7WZZZH7LzyvorhpOJFTe'}, {'album': {'album_type': 'single', 'artists': [{'external_urls': {'spotify': 'https://open.spotify.com/artist/5CiGnKThu5ctn9pBxv7DGa'}, 'href': 'https://api.spotify.com/v1/artists/5CiGnKThu5ctn9pBxv7DGa', 'id': '5CiGnKThu5ctn9pBxv7DGa', 'name': 'benny blanco', 'type': 'artist', 'uri': 'spotify:artist:5CiGnKThu5ctn9pBxv7DGa'}, {'external_urls': {'spotify': 'https://open.spotify.com/artist/26VFTg2z8YR0cCuwLzESi2'}, 'href': 'https://api.spotify.com/v1/artists/26VFTg2z8YR0cCuwLzESi2', 'id': '26VFTg2z8YR0cCuwLzESi2', 'name': 'Halsey', 'type': 'artist', 'uri': 'spotify:artist:26VFTg2z8YR0cCuwLzESi2'}, {'external_urls': {'spotify': 'https://open.spotify.com/artist/6LuN9FCkKOj5PcnpouEgny'}, 'href': 'https://api.spotify.com/v1/artists/6LuN9FCkKOj5PcnpouEgny', 'id': '6LuN9FCkKOj5PcnpouEgny', 'name': 'Khalid', 'type': 'artist', 'uri': 'spotify:artist:6LuN9FCkKOj5PcnpouEgny'}], 'available_markets': ['AD', 'AE', 'AR', 'AT', 'AU', 'BE', 'BG', 'BH', 'BO', 'BR', 'CA', 'CH', 'CL', 'CO', 'CR', 'CY', 'CZ', 'DE', 'DK', 'DO', 'DZ', 'EC', 'EE', 'EG', 'ES', 'FI', 'FR', 'GB', 'GR', 'GT', 'HK', 'HN', 'HU', 'ID', 'IE', 'IL', 'IN', 'IS', 'IT', 'JO', 'JP', 'KW', 'LB', 'LI', 'LT', 'LU', 'LV', 'MA', 'MC', 'MT', 'MX', 'MY', 'NI', 'NL', 'NO', 'NZ', 'OM', 'PA', 'PE', 'PH', 'PL', 'PS', 'PT', 'PY', 'QA', 'RO', 'SA', 'SE', 'SG', 'SK', 'SV', 'TH', 'TN', 'TR', 'TW', 'US', 'UY', 'VN', 'ZA'], 'external_urls': {'spotify': 'https://open.spotify.com/album/7pkLXlFdpQDfmHujT2AbBK'}, 'href': 'https://api.spotify.com/v1/albums/7pkLXlFdpQDfmHujT2AbBK', 'id': '7pkLXlFdpQDfmHujT2AbBK', 'images': [{'height': 640, 'url': 'https://i.scdn.co/image/f68c8e15dfe7338113ba062a493f87a7da648ac4', 'width': 640}, {'height': 300, 'url': 'https://i.scdn.co/image/ea0218385fdfc292c51bbab16ec1210c0ca27778', 'width': 300}, {'height': 64, 'url': 'https://i.scdn.co/image/1aef7707ee10c4f16f382926a3d1a75530b55367', 'width': 64}], 'name': 'Eastside (with Halsey & Khalid)', 'release_date': '2018-07-12', 'release_date_precision': 'day', 'total_tracks': 1, 'type': 'album', 'uri': 'spotify:album:7pkLXlFdpQDfmHujT2AbBK'}, 'artists': [{'external_urls': {'spotify': 'https://open.spotify.com/artist/5CiGnKThu5ctn9pBxv7DGa'}, 'href': 'https://api.spotify.com/v1/artists/5CiGnKThu5ctn9pBxv7DGa', 'id': '5CiGnKThu5ctn9pBxv7DGa', 'name': 'benny blanco', 'type': 'artist', 'uri': 'spotify:artist:5CiGnKThu5ctn9pBxv7DGa'}, {'external_urls': {'spotify': 'https://open.spotify.com/artist/26VFTg2z8YR0cCuwLzESi2'}, 'href': 'https://api.spotify.com/v1/artists/26VFTg2z8YR0cCuwLzESi2', 'id': '26VFTg2z8YR0cCuwLzESi2', 'name': 'Halsey', 'type': 'artist', 'uri': 'spotify:artist:26VFTg2z8YR0cCuwLzESi2'}, {'external_urls': {'spotify': 'https://open.spotify.com/artist/6LuN9FCkKOj5PcnpouEgny'}, 'href': 'https://api.spotify.com/v1/artists/6LuN9FCkKOj5PcnpouEgny', 'id': '6LuN9FCkKOj5PcnpouEgny', 'name': 'Khalid', 'type': 'artist', 'uri': 'spotify:artist:6LuN9FCkKOj5PcnpouEgny'}], 'available_markets': ['AD', 'AE', 'AR', 'AT', 'AU', 'BE', 'BG', 'BH', 'BO', 'BR', 'CA', 'CH', 'CL', 'CO', 'CR', 'CY', 'CZ', 'DE', 'DK', 'DO', 'DZ', 'EC', 'EE', 'EG', 'ES', 'FI', 'FR', 'GB', 'GR', 'GT', 'HK', 'HN', 'HU', 'ID', 'IE', 'IL', 'IN', 'IS', 'IT', 'JO', 'JP', 'KW', 'LB', 'LI', 'LT', 'LU', 'LV', 'MA', 'MC', 'MT', 'MX', 'MY', 'NI', 'NL', 'NO', 'NZ', 'OM', 'PA', 'PE', 'PH', 'PL', 'PS', 'PT', 'PY', 'QA', 'RO', 'SA', 'SE', 'SG', 'SK', 'SV', 'TH', 'TN', 'TR', 'TW', 'US', 'UY', 'VN', 'ZA'], 'disc_number': 1, 'duration_ms': 173799, 'explicit': False, 'external_ids': {'isrc': 'USUM71809132'}, 'external_urls': {'spotify': 'https://open.spotify.com/track/0d2iYfpKoM0QCKvcLCkBao'}, 'href': 'https://api.spotify.com/v1/tracks/0d2iYfpKoM0QCKvcLCkBao', 'id': '0d2iYfpKoM0QCKvcLCkBao', 'is_local': False, 'name': 'Eastside (with Halsey & Khalid)', 'popularity': 83, 'preview_url': None, 'track_number': 1, 'type': 'track', 'uri': 'spotify:track:0d2iYfpKoM0QCKvcLCkBao'}, {'album': {'album_type': 'album', 'artists': [{'external_urls': {'spotify': 'https://open.spotify.com/artist/757aE44tKEUQEqRuT6GnEB'}, 'href': 'https://api.spotify.com/v1/artists/757aE44tKEUQEqRuT6GnEB', 'id': '757aE44tKEUQEqRuT6GnEB', 'name': 'Roddy Ricch', 'type': 'artist', 'uri': 'spotify:artist:757aE44tKEUQEqRuT6GnEB'}], 'available_markets': ['AD', 'AE', 'AR', 'AT', 'AU', 'BE', 'BG', 'BH', 'BO', 'BR', 'CA', 'CH', 'CL', 'CO', 'CR', 'CY', 'CZ', 'DE', 'DK', 'DO', 'DZ', 'EC', 'EE', 'EG', 'ES', 'FI', 'FR', 'GB', 'GR', 'GT', 'HK', 'HN', 'HU', 'ID', 'IE', 'IL', 'IS', 'IT', 'JO', 'JP', 'KW', 'LB', 'LI', 'LT', 'LU', 'LV', 'MA', 'MC', 'MT', 'MX', 'MY', 'NI', 'NL', 'NO', 'NZ', 'OM', 'PA', 'PE', 'PH', 'PL', 'PS', 'PT', 'PY', 'QA', 'RO', 'SA', 'SE', 'SG', 'SK', 'SV', 'TH', 'TN', 'TR', 'TW', 'US', 'UY', 'VN', 'ZA'], 'external_urls': {'spotify': 'https://open.spotify.com/album/1jlIU9p7PChTK3AeqNpnsX'}, 'href': 'https://api.spotify.com/v1/albums/1jlIU9p7PChTK3AeqNpnsX', 'id': '1jlIU9p7PChTK3AeqNpnsX', 'images': [{'height': 640, 'url': 'https://i.scdn.co/image/ab67616d0000b273434f4eeb4231f6f4862cafd4', 'width': 640}, {'height': 300, 'url': 'https://i.scdn.co/image/ab67616d00001e02434f4eeb4231f6f4862cafd4', 'width': 300}, {'height': 64, 'url': 'https://i.scdn.co/image/ab67616d00004851434f4eeb4231f6f4862cafd4', 'width': 64}], 'name': 'Feed Tha Streets II', 'release_date': '2018-11-02', 'release_date_precision': 'day', 'total_tracks': 12, 'type': 'album', 'uri': 'spotify:album:1jlIU9p7PChTK3AeqNpnsX'}, 'artists': [{'external_urls': {'spotify': 'https://open.spotify.com/artist/757aE44tKEUQEqRuT6GnEB'}, 'href': 'https://api.spotify.com/v1/artists/757aE44tKEUQEqRuT6GnEB', 'id': '757aE44tKEUQEqRuT6GnEB', 'name': 'Roddy Ricch', 'type': 'artist', 'uri': 'spotify:artist:757aE44tKEUQEqRuT6GnEB'}], 'available_markets': ['AD', 'AE', 'AR', 'AT', 'AU', 'BE', 'BG', 'BH', 'BO', 'BR', 'CA', 'CH', 'CL', 'CO', 'CR', 'CY', 'CZ', 'DE', 'DK', 'DO', 'DZ', 'EC', 'EE', 'EG', 'ES', 'FI', 'FR', 'GB', 'GR', 'GT', 'HK', 'HN', 'HU', 'ID', 'IE', 'IL', 'IS', 'IT', 'JO', 'JP', 'KW', 'LB', 'LI', 'LT', 'LU', 'LV', 'MA', 'MC', 'MT', 'MX', 'MY', 'NI', 'NL', 'NO', 'NZ', 'OM', 'PA', 'PE', 'PH', 'PL', 'PS', 'PT', 'PY', 'QA', 'RO', 'SA', 'SE', 'SG', 'SK', 'SV', 'TH', 'TN', 'TR', 'TW', 'US', 'UY', 'VN', 'ZA'], 'disc_number': 1, 'duration_ms': 224002, 'explicit': True, 'external_ids': {'isrc': 'USAT21811792'}, 'external_urls': {'spotify': 'https://open.spotify.com/track/4SWWe2OYC4mqf40Gc2RSdl'}, 'href': 'https://api.spotify.com/v1/tracks/4SWWe2OYC4mqf40Gc2RSdl', 'id': '4SWWe2OYC4mqf40Gc2RSdl', 'is_local': False, 'name': 'Down Below', 'popularity': 78, 'preview_url': 'https://p.scdn.co/mp3-preview/4f7326642457c0452e1d46a97cbdea2a28f3e289?cid=37bf09c4a866456ebea69781382fb291', 'track_number': 11, 'type': 'track', 'uri': 'spotify:track:4SWWe2OYC4mqf40Gc2RSdl'}, {'album': {'album_type': 'album', 'artists': [{'external_urls': {'spotify': 'https://open.spotify.com/artist/2kCcBybjl3SAtIcwdWpUe3'}, 'href': 'https://api.spotify.com/v1/artists/2kCcBybjl3SAtIcwdWpUe3', 'id': '2kCcBybjl3SAtIcwdWpUe3', 'name': 'Lil Peep', 'type': 'artist', 'uri': 'spotify:artist:2kCcBybjl3SAtIcwdWpUe3'}], 'available_markets': ['AD', 'AE', 'AR', 'AT', 'AU', 'BE', 'BG', 'BH', 'BO', 'BR', 'CA', 'CH', 'CL', 'CO', 'CR', 'CY', 'CZ', 'DE', 'DK', 'DO', 'DZ', 'EC', 'EE', 'EG', 'ES', 'FI', 'FR', 'GB', 'GR', 'GT', 'HK', 'HN', 'HU', 'ID', 'IE', 'IL', 'IN', 'IS', 'IT', 'JO', 'JP', 'KW', 'LB', 'LI', 'LT', 'LU', 'LV', 'MA', 'MC', 'MT', 'MX', 'MY', 'NI', 'NL', 'NO', 'NZ', 'OM', 'PA', 'PE', 'PH', 'PL', 'PS', 'PT', 'PY', 'QA', 'RO', 'SA', 'SE', 'SG', 'SK', 'SV', 'TH', 'TN', 'TR', 'TW', 'US', 'UY', 'VN', 'ZA'], 'external_urls': {'spotify': 'https://open.spotify.com/album/52JymrguPgkmmwLaWIusst'}, 'href': 'https://api.spotify.com/v1/albums/52JymrguPgkmmwLaWIusst', 'id': '52JymrguPgkmmwLaWIusst', 'images': [{'height': 640, 'url': 'https://i.scdn.co/image/ab67616d0000b27355e36b0dc5b0ef008fc85319', 'width': 640}, {'height': 300, 'url': 'https://i.scdn.co/image/ab67616d00001e0255e36b0dc5b0ef008fc85319', 'width': 300}, {'height': 64, 'url': 'https://i.scdn.co/image/ab67616d0000485155e36b0dc5b0ef008fc85319', 'width': 64}], 'name': \"Come Over When You're Sober, Pt. 2\", 'release_date': '2018-11-09', 'release_date_precision': 'day', 'total_tracks': 13, 'type': 'album', 'uri': 'spotify:album:52JymrguPgkmmwLaWIusst'}, 'artists': [{'external_urls': {'spotify': 'https://open.spotify.com/artist/2kCcBybjl3SAtIcwdWpUe3'}, 'href': 'https://api.spotify.com/v1/artists/2kCcBybjl3SAtIcwdWpUe3', 'id': '2kCcBybjl3SAtIcwdWpUe3', 'name': 'Lil Peep', 'type': 'artist', 'uri': 'spotify:artist:2kCcBybjl3SAtIcwdWpUe3'}, {'external_urls': {'spotify': 'https://open.spotify.com/artist/15UsOTVnJzReFVN1VCnxy4'}, 'href': 'https://api.spotify.com/v1/artists/15UsOTVnJzReFVN1VCnxy4', 'id': '15UsOTVnJzReFVN1VCnxy4', 'name': 'XXXTENTACION', 'type': 'artist', 'uri': 'spotify:artist:15UsOTVnJzReFVN1VCnxy4'}], 'available_markets': ['AD', 'AE', 'AR', 'AT', 'AU', 'BE', 'BG', 'BH', 'BO', 'BR', 'CA', 'CH', 'CL', 'CO', 'CR', 'CY', 'CZ', 'DE', 'DK', 'DO', 'DZ', 'EC', 'EE', 'EG', 'ES', 'FI', 'FR', 'GB', 'GR', 'GT', 'HK', 'HN', 'HU', 'ID', 'IE', 'IL', 'IN', 'IS', 'IT', 'JO', 'JP', 'KW', 'LB', 'LI', 'LT', 'LU', 'LV', 'MA', 'MC', 'MT', 'MX', 'MY', 'NI', 'NL', 'NO', 'NZ', 'OM', 'PA', 'PE', 'PH', 'PL', 'PS', 'PT', 'PY', 'QA', 'RO', 'SA', 'SE', 'SG', 'SK', 'SV', 'TH', 'TN', 'TR', 'TW', 'US', 'UY', 'VN', 'ZA'], 'disc_number': 1, 'duration_ms': 196400, 'explicit': True, 'external_ids': {'isrc': 'USQX91802294'}, 'external_urls': {'spotify': 'https://open.spotify.com/track/4jvjzW7Hm0yK4LvvE0Paz9'}, 'href': 'https://api.spotify.com/v1/tracks/4jvjzW7Hm0yK4LvvE0Paz9', 'id': '4jvjzW7Hm0yK4LvvE0Paz9', 'is_local': False, 'name': 'Falling Down - Bonus Track', 'popularity': 82, 'preview_url': 'https://p.scdn.co/mp3-preview/2798c8f88316e54813b02e78803b9f44bf204b05?cid=37bf09c4a866456ebea69781382fb291', 'track_number': 12, 'type': 'track', 'uri': 'spotify:track:4jvjzW7Hm0yK4LvvE0Paz9'}]\n"
     ]
    }
   ],
   "source": [
    "tracks = track_results['tracks']\n",
    "for i in tracks:\n",
    "    print(i)\n",
    "print()\n",
    "\n",
    "print(tracks['items'])"
   ]
  },
  {
   "cell_type": "code",
   "execution_count": 58,
   "metadata": {},
   "outputs": [],
   "source": [
    "# for i in range(0,5000,50):\n",
    "#     track_results = sp.search(q='year:2018', type='track', limit=50,offset=i)\n",
    "#     for i, t in enumerate(track_results['tracks']['items']):\n",
    "#         artist_name.append(t['artists'][0]['name'])\n",
    "#         track_name.append(t['name'])\n",
    "#         track_id.append(t['id'])\n",
    "#         popularity.append(t['popularity'])\n",
    "\n",
    "pairs = []\n",
    "for i in range(0, 5000, 50):\n",
    "    artist_results = sp.search(q = \"aaaa\", type=\"artist\", limit=50, offset=i)\n",
    "    for j, t in enumerate(artist_results['artists']['items']):\n",
    "        new_pair = (t['name'], t['id'])\n",
    "        pairs.append(new_pair)\n",
    "    old_request = artist_results"
   ]
  },
  {
   "cell_type": "code",
   "execution_count": 72,
   "metadata": {},
   "outputs": [
    {
     "name": "stdout",
     "output_type": "stream",
     "text": [
      "10020\n"
     ]
    }
   ],
   "source": [
    "ar = sp.search(q = \"a\", type=\"artist\", offset = 0, limit=50)\n",
    "print(ar['artists']['total'])"
   ]
  },
  {
   "cell_type": "markdown",
   "metadata": {},
   "source": [
    "# 3. EDA + Data Preparation\n",
    "\n",
    "In the next few cells, I'm going to do some exploratory data analysis as well as data preparation of the newly gained data.\n",
    "\n",
    "A quick check for the track_id list:"
   ]
  },
  {
   "cell_type": "code",
   "execution_count": 15,
   "metadata": {},
   "outputs": [
    {
     "name": "stdout",
     "output_type": "stream",
     "text": [
      "number of elements in the track_id list: 5000\n"
     ]
    }
   ],
   "source": [
    "print('number of elements in the track_id list:', len(track_id))"
   ]
  },
  {
   "cell_type": "markdown",
   "metadata": {},
   "source": [
    "Looks good. Now loading the lists in a dataframe."
   ]
  },
  {
   "cell_type": "code",
   "execution_count": 16,
   "metadata": {},
   "outputs": [
    {
     "name": "stdout",
     "output_type": "stream",
     "text": [
      "(5000, 4)\n"
     ]
    },
    {
     "data": {
      "text/html": [
       "<div>\n",
       "<style scoped>\n",
       "    .dataframe tbody tr th:only-of-type {\n",
       "        vertical-align: middle;\n",
       "    }\n",
       "\n",
       "    .dataframe tbody tr th {\n",
       "        vertical-align: top;\n",
       "    }\n",
       "\n",
       "    .dataframe thead th {\n",
       "        text-align: right;\n",
       "    }\n",
       "</style>\n",
       "<table border=\"1\" class=\"dataframe\">\n",
       "  <thead>\n",
       "    <tr style=\"text-align: right;\">\n",
       "      <th></th>\n",
       "      <th>artist_name</th>\n",
       "      <th>track_name</th>\n",
       "      <th>track_id</th>\n",
       "      <th>popularity</th>\n",
       "    </tr>\n",
       "  </thead>\n",
       "  <tbody>\n",
       "    <tr>\n",
       "      <td>0</td>\n",
       "      <td>Trevor Daniel</td>\n",
       "      <td>Falling</td>\n",
       "      <td>4TnjEaWOeW0eKTKIEvJyCa</td>\n",
       "      <td>97</td>\n",
       "    </tr>\n",
       "    <tr>\n",
       "      <td>1</td>\n",
       "      <td>Juice WRLD</td>\n",
       "      <td>Lucid Dreams</td>\n",
       "      <td>285pBltuF7vW8TeWk8hdRR</td>\n",
       "      <td>91</td>\n",
       "    </tr>\n",
       "    <tr>\n",
       "      <td>2</td>\n",
       "      <td>Juice WRLD</td>\n",
       "      <td>All Girls Are The Same</td>\n",
       "      <td>4VXIryQMWpIdGgYR4TrjT1</td>\n",
       "      <td>85</td>\n",
       "    </tr>\n",
       "    <tr>\n",
       "      <td>3</td>\n",
       "      <td>Post Malone</td>\n",
       "      <td>Sunflower - Spider-Man: Into the Spider-Verse</td>\n",
       "      <td>3KkXRkHbMCARz0aVfEt68P</td>\n",
       "      <td>87</td>\n",
       "    </tr>\n",
       "    <tr>\n",
       "      <td>4</td>\n",
       "      <td>Billie Eilish</td>\n",
       "      <td>lovely (with Khalid)</td>\n",
       "      <td>0u2P5u6lvoDfwTYjAADbn4</td>\n",
       "      <td>89</td>\n",
       "    </tr>\n",
       "  </tbody>\n",
       "</table>\n",
       "</div>"
      ],
      "text/plain": [
       "     artist_name                                     track_name  \\\n",
       "0  Trevor Daniel                                        Falling   \n",
       "1     Juice WRLD                                   Lucid Dreams   \n",
       "2     Juice WRLD                         All Girls Are The Same   \n",
       "3    Post Malone  Sunflower - Spider-Man: Into the Spider-Verse   \n",
       "4  Billie Eilish                           lovely (with Khalid)   \n",
       "\n",
       "                 track_id  popularity  \n",
       "0  4TnjEaWOeW0eKTKIEvJyCa          97  \n",
       "1  285pBltuF7vW8TeWk8hdRR          91  \n",
       "2  4VXIryQMWpIdGgYR4TrjT1          85  \n",
       "3  3KkXRkHbMCARz0aVfEt68P          87  \n",
       "4  0u2P5u6lvoDfwTYjAADbn4          89  "
      ]
     },
     "execution_count": 16,
     "metadata": {},
     "output_type": "execute_result"
    }
   ],
   "source": [
    "import pandas as pd\n",
    "\n",
    "df_tracks = pd.DataFrame({'artist_name':artist_name,'track_name':track_name,'track_id':track_id,'popularity':popularity})\n",
    "print(df_tracks.shape)\n",
    "df_tracks.head()"
   ]
  },
  {
   "cell_type": "code",
   "execution_count": 17,
   "metadata": {},
   "outputs": [
    {
     "name": "stdout",
     "output_type": "stream",
     "text": [
      "<class 'pandas.core.frame.DataFrame'>\n",
      "RangeIndex: 5000 entries, 0 to 4999\n",
      "Data columns (total 4 columns):\n",
      "artist_name    5000 non-null object\n",
      "track_name     5000 non-null object\n",
      "track_id       5000 non-null object\n",
      "popularity     5000 non-null int64\n",
      "dtypes: int64(1), object(3)\n",
      "memory usage: 156.4+ KB\n"
     ]
    }
   ],
   "source": [
    "df_tracks.info()"
   ]
  },
  {
   "cell_type": "markdown",
   "metadata": {},
   "source": [
    "Sometimes, the same track is returned under different track IDs (single, as part of an album etc.).\n",
    "\n",
    "This needs to be checked for and corrected if needed."
   ]
  },
  {
   "cell_type": "code",
   "execution_count": 18,
   "metadata": {},
   "outputs": [
    {
     "data": {
      "text/plain": [
       "150"
      ]
     },
     "execution_count": 18,
     "metadata": {},
     "output_type": "execute_result"
    }
   ],
   "source": [
    "# group the entries by artist_name and track_name and check for duplicates\n",
    "\n",
    "grouped = df_tracks.groupby(['artist_name','track_name'], as_index=True).size()\n",
    "grouped[grouped > 1].count()"
   ]
  },
  {
   "cell_type": "markdown",
   "metadata": {},
   "source": [
    "There are 524 duplicate entries which will be dropped in the next cell:"
   ]
  },
  {
   "cell_type": "code",
   "execution_count": 19,
   "metadata": {},
   "outputs": [],
   "source": [
    "df_tracks.drop_duplicates(subset=['artist_name','track_name'], inplace=True)"
   ]
  },
  {
   "cell_type": "code",
   "execution_count": 20,
   "metadata": {},
   "outputs": [
    {
     "data": {
      "text/plain": [
       "0"
      ]
     },
     "execution_count": 20,
     "metadata": {},
     "output_type": "execute_result"
    }
   ],
   "source": [
    "# doing the same grouping as before to verify the solution\n",
    "grouped_after_dropping = df_tracks.groupby(['artist_name','track_name'], as_index=True).size()\n",
    "grouped_after_dropping[grouped_after_dropping > 1].count()"
   ]
  },
  {
   "cell_type": "markdown",
   "metadata": {},
   "source": [
    "This time the results are empty. Another way of checking this:"
   ]
  },
  {
   "cell_type": "code",
   "execution_count": 21,
   "metadata": {},
   "outputs": [
    {
     "data": {
      "text/plain": [
       "artist_name    0\n",
       "track_name     0\n",
       "track_id       0\n",
       "popularity     0\n",
       "dtype: int64"
      ]
     },
     "execution_count": 21,
     "metadata": {},
     "output_type": "execute_result"
    }
   ],
   "source": [
    "df_tracks[df_tracks.duplicated(subset=['artist_name','track_name'],keep=False)].count()"
   ]
  },
  {
   "cell_type": "markdown",
   "metadata": {},
   "source": [
    "Checking how many tracks are left now:"
   ]
  },
  {
   "cell_type": "code",
   "execution_count": 22,
   "metadata": {},
   "outputs": [
    {
     "data": {
      "text/plain": [
       "(4848, 4)"
      ]
     },
     "execution_count": 22,
     "metadata": {},
     "output_type": "execute_result"
    }
   ],
   "source": [
    "df_tracks.shape"
   ]
  },
  {
   "cell_type": "markdown",
   "metadata": {},
   "source": [
    "# 4: Get the Audio Features Data\n",
    "\n",
    "With the [audio features endpoint](https://beta.developer.spotify.com/documentation/web-api/reference/tracks/get-several-audio-features/) I will now get the audio features data for my 9460 track IDs.\n",
    "\n",
    "The limitation for this endpoint is that a maximum of 100 track IDs can be submitted per query.\n",
    "\n",
    "Again, I used a nested for loop. This time the outer loop was pulling track IDs in batches of size 100 and the inner for loop was doing the query and appending the results to the rows list.\n",
    "\n",
    "Additionaly, I had to implement a check when a track ID didn't return any audio features (i.e. None was returned) as this was causing issues."
   ]
  },
  {
   "cell_type": "code",
   "execution_count": 23,
   "metadata": {},
   "outputs": [
    {
     "name": "stdout",
     "output_type": "stream",
     "text": [
      "Number of tracks where no audio features were available: 0\n",
      "Time to run this code (in seconds): 2.8649849000000245\n"
     ]
    }
   ],
   "source": [
    "# again measuring the time\n",
    "start = timeit.default_timer()\n",
    "\n",
    "# empty list, batchsize and the counter for None results\n",
    "rows = []\n",
    "batchsize = 100\n",
    "None_counter = 0\n",
    "\n",
    "for i in range(0,len(df_tracks['track_id']),batchsize):\n",
    "    batch = df_tracks['track_id'][i:i+batchsize]\n",
    "    feature_results = sp.audio_features(batch)\n",
    "    for i, t in enumerate(feature_results):\n",
    "        if t == None:\n",
    "            None_counter = None_counter + 1\n",
    "        else:\n",
    "            rows.append(t)\n",
    "            \n",
    "print('Number of tracks where no audio features were available:',None_counter)\n",
    "\n",
    "stop = timeit.default_timer()\n",
    "print ('Time to run this code (in seconds):',stop - start)"
   ]
  },
  {
   "cell_type": "markdown",
   "metadata": {},
   "source": [
    "# 5. EDA + Data Preparation\n",
    "\n",
    "Same as with the first dataset, checking how the rows list looks like:"
   ]
  },
  {
   "cell_type": "code",
   "execution_count": 24,
   "metadata": {},
   "outputs": [
    {
     "name": "stdout",
     "output_type": "stream",
     "text": [
      "number of elements in the track_id list: 4848\n"
     ]
    }
   ],
   "source": [
    "print('number of elements in the track_id list:', len(rows))"
   ]
  },
  {
   "cell_type": "markdown",
   "metadata": {},
   "source": [
    "Finally, I will load the audio features in a dataframe."
   ]
  },
  {
   "cell_type": "code",
   "execution_count": 25,
   "metadata": {},
   "outputs": [
    {
     "name": "stdout",
     "output_type": "stream",
     "text": [
      "Shape of the dataset: (4848, 18)\n"
     ]
    },
    {
     "data": {
      "text/html": [
       "<div>\n",
       "<style scoped>\n",
       "    .dataframe tbody tr th:only-of-type {\n",
       "        vertical-align: middle;\n",
       "    }\n",
       "\n",
       "    .dataframe tbody tr th {\n",
       "        vertical-align: top;\n",
       "    }\n",
       "\n",
       "    .dataframe thead th {\n",
       "        text-align: right;\n",
       "    }\n",
       "</style>\n",
       "<table border=\"1\" class=\"dataframe\">\n",
       "  <thead>\n",
       "    <tr style=\"text-align: right;\">\n",
       "      <th></th>\n",
       "      <th>danceability</th>\n",
       "      <th>energy</th>\n",
       "      <th>key</th>\n",
       "      <th>loudness</th>\n",
       "      <th>mode</th>\n",
       "      <th>speechiness</th>\n",
       "      <th>acousticness</th>\n",
       "      <th>instrumentalness</th>\n",
       "      <th>liveness</th>\n",
       "      <th>valence</th>\n",
       "      <th>tempo</th>\n",
       "      <th>type</th>\n",
       "      <th>id</th>\n",
       "      <th>uri</th>\n",
       "      <th>track_href</th>\n",
       "      <th>analysis_url</th>\n",
       "      <th>duration_ms</th>\n",
       "      <th>time_signature</th>\n",
       "    </tr>\n",
       "  </thead>\n",
       "  <tbody>\n",
       "    <tr>\n",
       "      <td>0</td>\n",
       "      <td>0.784</td>\n",
       "      <td>0.430</td>\n",
       "      <td>10</td>\n",
       "      <td>-8.756</td>\n",
       "      <td>0</td>\n",
       "      <td>0.0364</td>\n",
       "      <td>0.1230</td>\n",
       "      <td>0.000000</td>\n",
       "      <td>0.0887</td>\n",
       "      <td>0.236</td>\n",
       "      <td>127.087</td>\n",
       "      <td>audio_features</td>\n",
       "      <td>4TnjEaWOeW0eKTKIEvJyCa</td>\n",
       "      <td>spotify:track:4TnjEaWOeW0eKTKIEvJyCa</td>\n",
       "      <td>https://api.spotify.com/v1/tracks/4TnjEaWOeW0e...</td>\n",
       "      <td>https://api.spotify.com/v1/audio-analysis/4Tnj...</td>\n",
       "      <td>159382</td>\n",
       "      <td>4</td>\n",
       "    </tr>\n",
       "    <tr>\n",
       "      <td>1</td>\n",
       "      <td>0.511</td>\n",
       "      <td>0.566</td>\n",
       "      <td>6</td>\n",
       "      <td>-7.230</td>\n",
       "      <td>0</td>\n",
       "      <td>0.2000</td>\n",
       "      <td>0.3490</td>\n",
       "      <td>0.000000</td>\n",
       "      <td>0.3400</td>\n",
       "      <td>0.218</td>\n",
       "      <td>83.903</td>\n",
       "      <td>audio_features</td>\n",
       "      <td>285pBltuF7vW8TeWk8hdRR</td>\n",
       "      <td>spotify:track:285pBltuF7vW8TeWk8hdRR</td>\n",
       "      <td>https://api.spotify.com/v1/tracks/285pBltuF7vW...</td>\n",
       "      <td>https://api.spotify.com/v1/audio-analysis/285p...</td>\n",
       "      <td>239836</td>\n",
       "      <td>4</td>\n",
       "    </tr>\n",
       "    <tr>\n",
       "      <td>2</td>\n",
       "      <td>0.671</td>\n",
       "      <td>0.529</td>\n",
       "      <td>0</td>\n",
       "      <td>-7.226</td>\n",
       "      <td>1</td>\n",
       "      <td>0.3070</td>\n",
       "      <td>0.0769</td>\n",
       "      <td>0.000335</td>\n",
       "      <td>0.0856</td>\n",
       "      <td>0.203</td>\n",
       "      <td>161.989</td>\n",
       "      <td>audio_features</td>\n",
       "      <td>4VXIryQMWpIdGgYR4TrjT1</td>\n",
       "      <td>spotify:track:4VXIryQMWpIdGgYR4TrjT1</td>\n",
       "      <td>https://api.spotify.com/v1/tracks/4VXIryQMWpId...</td>\n",
       "      <td>https://api.spotify.com/v1/audio-analysis/4VXI...</td>\n",
       "      <td>165820</td>\n",
       "      <td>4</td>\n",
       "    </tr>\n",
       "    <tr>\n",
       "      <td>3</td>\n",
       "      <td>0.760</td>\n",
       "      <td>0.479</td>\n",
       "      <td>2</td>\n",
       "      <td>-5.574</td>\n",
       "      <td>1</td>\n",
       "      <td>0.0466</td>\n",
       "      <td>0.5560</td>\n",
       "      <td>0.000000</td>\n",
       "      <td>0.0703</td>\n",
       "      <td>0.913</td>\n",
       "      <td>89.911</td>\n",
       "      <td>audio_features</td>\n",
       "      <td>3KkXRkHbMCARz0aVfEt68P</td>\n",
       "      <td>spotify:track:3KkXRkHbMCARz0aVfEt68P</td>\n",
       "      <td>https://api.spotify.com/v1/tracks/3KkXRkHbMCAR...</td>\n",
       "      <td>https://api.spotify.com/v1/audio-analysis/3KkX...</td>\n",
       "      <td>158040</td>\n",
       "      <td>4</td>\n",
       "    </tr>\n",
       "    <tr>\n",
       "      <td>4</td>\n",
       "      <td>0.351</td>\n",
       "      <td>0.296</td>\n",
       "      <td>4</td>\n",
       "      <td>-10.109</td>\n",
       "      <td>0</td>\n",
       "      <td>0.0333</td>\n",
       "      <td>0.9340</td>\n",
       "      <td>0.000000</td>\n",
       "      <td>0.0950</td>\n",
       "      <td>0.120</td>\n",
       "      <td>115.284</td>\n",
       "      <td>audio_features</td>\n",
       "      <td>0u2P5u6lvoDfwTYjAADbn4</td>\n",
       "      <td>spotify:track:0u2P5u6lvoDfwTYjAADbn4</td>\n",
       "      <td>https://api.spotify.com/v1/tracks/0u2P5u6lvoDf...</td>\n",
       "      <td>https://api.spotify.com/v1/audio-analysis/0u2P...</td>\n",
       "      <td>200186</td>\n",
       "      <td>4</td>\n",
       "    </tr>\n",
       "  </tbody>\n",
       "</table>\n",
       "</div>"
      ],
      "text/plain": [
       "   danceability  energy  key  loudness  mode  speechiness  acousticness  \\\n",
       "0         0.784   0.430   10    -8.756     0       0.0364        0.1230   \n",
       "1         0.511   0.566    6    -7.230     0       0.2000        0.3490   \n",
       "2         0.671   0.529    0    -7.226     1       0.3070        0.0769   \n",
       "3         0.760   0.479    2    -5.574     1       0.0466        0.5560   \n",
       "4         0.351   0.296    4   -10.109     0       0.0333        0.9340   \n",
       "\n",
       "   instrumentalness  liveness  valence    tempo            type  \\\n",
       "0          0.000000    0.0887    0.236  127.087  audio_features   \n",
       "1          0.000000    0.3400    0.218   83.903  audio_features   \n",
       "2          0.000335    0.0856    0.203  161.989  audio_features   \n",
       "3          0.000000    0.0703    0.913   89.911  audio_features   \n",
       "4          0.000000    0.0950    0.120  115.284  audio_features   \n",
       "\n",
       "                       id                                   uri  \\\n",
       "0  4TnjEaWOeW0eKTKIEvJyCa  spotify:track:4TnjEaWOeW0eKTKIEvJyCa   \n",
       "1  285pBltuF7vW8TeWk8hdRR  spotify:track:285pBltuF7vW8TeWk8hdRR   \n",
       "2  4VXIryQMWpIdGgYR4TrjT1  spotify:track:4VXIryQMWpIdGgYR4TrjT1   \n",
       "3  3KkXRkHbMCARz0aVfEt68P  spotify:track:3KkXRkHbMCARz0aVfEt68P   \n",
       "4  0u2P5u6lvoDfwTYjAADbn4  spotify:track:0u2P5u6lvoDfwTYjAADbn4   \n",
       "\n",
       "                                          track_href  \\\n",
       "0  https://api.spotify.com/v1/tracks/4TnjEaWOeW0e...   \n",
       "1  https://api.spotify.com/v1/tracks/285pBltuF7vW...   \n",
       "2  https://api.spotify.com/v1/tracks/4VXIryQMWpId...   \n",
       "3  https://api.spotify.com/v1/tracks/3KkXRkHbMCAR...   \n",
       "4  https://api.spotify.com/v1/tracks/0u2P5u6lvoDf...   \n",
       "\n",
       "                                        analysis_url  duration_ms  \\\n",
       "0  https://api.spotify.com/v1/audio-analysis/4Tnj...       159382   \n",
       "1  https://api.spotify.com/v1/audio-analysis/285p...       239836   \n",
       "2  https://api.spotify.com/v1/audio-analysis/4VXI...       165820   \n",
       "3  https://api.spotify.com/v1/audio-analysis/3KkX...       158040   \n",
       "4  https://api.spotify.com/v1/audio-analysis/0u2P...       200186   \n",
       "\n",
       "   time_signature  \n",
       "0               4  \n",
       "1               4  \n",
       "2               4  \n",
       "3               4  \n",
       "4               4  "
      ]
     },
     "execution_count": 25,
     "metadata": {},
     "output_type": "execute_result"
    }
   ],
   "source": [
    "df_audio_features = pd.DataFrame.from_dict(rows,orient='columns')\n",
    "print(\"Shape of the dataset:\", df_audio_features.shape)\n",
    "df_audio_features.head()"
   ]
  },
  {
   "cell_type": "code",
   "execution_count": 26,
   "metadata": {},
   "outputs": [
    {
     "name": "stdout",
     "output_type": "stream",
     "text": [
      "<class 'pandas.core.frame.DataFrame'>\n",
      "RangeIndex: 4848 entries, 0 to 4847\n",
      "Data columns (total 18 columns):\n",
      "danceability        4848 non-null float64\n",
      "energy              4848 non-null float64\n",
      "key                 4848 non-null int64\n",
      "loudness            4848 non-null float64\n",
      "mode                4848 non-null int64\n",
      "speechiness         4848 non-null float64\n",
      "acousticness        4848 non-null float64\n",
      "instrumentalness    4848 non-null float64\n",
      "liveness            4848 non-null float64\n",
      "valence             4848 non-null float64\n",
      "tempo               4848 non-null float64\n",
      "type                4848 non-null object\n",
      "id                  4848 non-null object\n",
      "uri                 4848 non-null object\n",
      "track_href          4848 non-null object\n",
      "analysis_url        4848 non-null object\n",
      "duration_ms         4848 non-null int64\n",
      "time_signature      4848 non-null int64\n",
      "dtypes: float64(9), int64(4), object(5)\n",
      "memory usage: 681.9+ KB\n"
     ]
    }
   ],
   "source": [
    "df_audio_features.info()"
   ]
  },
  {
   "cell_type": "markdown",
   "metadata": {},
   "source": [
    "Some columns are not needed for the analysis so I will drop them.\n",
    "\n",
    "Also the ID column will be renamed to track_id so that it matches the column name from the first dataframe."
   ]
  },
  {
   "cell_type": "code",
   "execution_count": 27,
   "metadata": {},
   "outputs": [
    {
     "data": {
      "text/plain": [
       "(4848, 14)"
      ]
     },
     "execution_count": 27,
     "metadata": {},
     "output_type": "execute_result"
    }
   ],
   "source": [
    "columns_to_drop = ['analysis_url','track_href','type','uri']\n",
    "df_audio_features.drop(columns_to_drop, axis=1,inplace=True)\n",
    "\n",
    "df_audio_features.rename(columns={'id': 'track_id'}, inplace=True)\n",
    "\n",
    "df_audio_features.shape"
   ]
  },
  {
   "cell_type": "code",
   "execution_count": 28,
   "metadata": {},
   "outputs": [
    {
     "name": "stdout",
     "output_type": "stream",
     "text": [
      "Shape of the dataset: (4848, 14)\n"
     ]
    },
    {
     "data": {
      "text/html": [
       "<div>\n",
       "<style scoped>\n",
       "    .dataframe tbody tr th:only-of-type {\n",
       "        vertical-align: middle;\n",
       "    }\n",
       "\n",
       "    .dataframe tbody tr th {\n",
       "        vertical-align: top;\n",
       "    }\n",
       "\n",
       "    .dataframe thead th {\n",
       "        text-align: right;\n",
       "    }\n",
       "</style>\n",
       "<table border=\"1\" class=\"dataframe\">\n",
       "  <thead>\n",
       "    <tr style=\"text-align: right;\">\n",
       "      <th></th>\n",
       "      <th>artist_name</th>\n",
       "      <th>track_name</th>\n",
       "      <th>track_id</th>\n",
       "      <th>popularity</th>\n",
       "      <th>danceability</th>\n",
       "      <th>energy</th>\n",
       "      <th>key</th>\n",
       "      <th>loudness</th>\n",
       "      <th>mode</th>\n",
       "      <th>speechiness</th>\n",
       "      <th>acousticness</th>\n",
       "      <th>instrumentalness</th>\n",
       "      <th>liveness</th>\n",
       "      <th>valence</th>\n",
       "      <th>tempo</th>\n",
       "      <th>duration_ms</th>\n",
       "      <th>time_signature</th>\n",
       "    </tr>\n",
       "  </thead>\n",
       "  <tbody>\n",
       "    <tr>\n",
       "      <td>0</td>\n",
       "      <td>Trevor Daniel</td>\n",
       "      <td>Falling</td>\n",
       "      <td>4TnjEaWOeW0eKTKIEvJyCa</td>\n",
       "      <td>97</td>\n",
       "      <td>0.784</td>\n",
       "      <td>0.430</td>\n",
       "      <td>10</td>\n",
       "      <td>-8.756</td>\n",
       "      <td>0</td>\n",
       "      <td>0.0364</td>\n",
       "      <td>0.1230</td>\n",
       "      <td>0.000000</td>\n",
       "      <td>0.0887</td>\n",
       "      <td>0.236</td>\n",
       "      <td>127.087</td>\n",
       "      <td>159382</td>\n",
       "      <td>4</td>\n",
       "    </tr>\n",
       "    <tr>\n",
       "      <td>1</td>\n",
       "      <td>Juice WRLD</td>\n",
       "      <td>Lucid Dreams</td>\n",
       "      <td>285pBltuF7vW8TeWk8hdRR</td>\n",
       "      <td>91</td>\n",
       "      <td>0.511</td>\n",
       "      <td>0.566</td>\n",
       "      <td>6</td>\n",
       "      <td>-7.230</td>\n",
       "      <td>0</td>\n",
       "      <td>0.2000</td>\n",
       "      <td>0.3490</td>\n",
       "      <td>0.000000</td>\n",
       "      <td>0.3400</td>\n",
       "      <td>0.218</td>\n",
       "      <td>83.903</td>\n",
       "      <td>239836</td>\n",
       "      <td>4</td>\n",
       "    </tr>\n",
       "    <tr>\n",
       "      <td>2</td>\n",
       "      <td>Juice WRLD</td>\n",
       "      <td>All Girls Are The Same</td>\n",
       "      <td>4VXIryQMWpIdGgYR4TrjT1</td>\n",
       "      <td>85</td>\n",
       "      <td>0.671</td>\n",
       "      <td>0.529</td>\n",
       "      <td>0</td>\n",
       "      <td>-7.226</td>\n",
       "      <td>1</td>\n",
       "      <td>0.3070</td>\n",
       "      <td>0.0769</td>\n",
       "      <td>0.000335</td>\n",
       "      <td>0.0856</td>\n",
       "      <td>0.203</td>\n",
       "      <td>161.989</td>\n",
       "      <td>165820</td>\n",
       "      <td>4</td>\n",
       "    </tr>\n",
       "    <tr>\n",
       "      <td>3</td>\n",
       "      <td>Post Malone</td>\n",
       "      <td>Sunflower - Spider-Man: Into the Spider-Verse</td>\n",
       "      <td>3KkXRkHbMCARz0aVfEt68P</td>\n",
       "      <td>87</td>\n",
       "      <td>0.760</td>\n",
       "      <td>0.479</td>\n",
       "      <td>2</td>\n",
       "      <td>-5.574</td>\n",
       "      <td>1</td>\n",
       "      <td>0.0466</td>\n",
       "      <td>0.5560</td>\n",
       "      <td>0.000000</td>\n",
       "      <td>0.0703</td>\n",
       "      <td>0.913</td>\n",
       "      <td>89.911</td>\n",
       "      <td>158040</td>\n",
       "      <td>4</td>\n",
       "    </tr>\n",
       "    <tr>\n",
       "      <td>4</td>\n",
       "      <td>Billie Eilish</td>\n",
       "      <td>lovely (with Khalid)</td>\n",
       "      <td>0u2P5u6lvoDfwTYjAADbn4</td>\n",
       "      <td>89</td>\n",
       "      <td>0.351</td>\n",
       "      <td>0.296</td>\n",
       "      <td>4</td>\n",
       "      <td>-10.109</td>\n",
       "      <td>0</td>\n",
       "      <td>0.0333</td>\n",
       "      <td>0.9340</td>\n",
       "      <td>0.000000</td>\n",
       "      <td>0.0950</td>\n",
       "      <td>0.120</td>\n",
       "      <td>115.284</td>\n",
       "      <td>200186</td>\n",
       "      <td>4</td>\n",
       "    </tr>\n",
       "  </tbody>\n",
       "</table>\n",
       "</div>"
      ],
      "text/plain": [
       "     artist_name                                     track_name  \\\n",
       "0  Trevor Daniel                                        Falling   \n",
       "1     Juice WRLD                                   Lucid Dreams   \n",
       "2     Juice WRLD                         All Girls Are The Same   \n",
       "3    Post Malone  Sunflower - Spider-Man: Into the Spider-Verse   \n",
       "4  Billie Eilish                           lovely (with Khalid)   \n",
       "\n",
       "                 track_id  popularity  danceability  energy  key  loudness  \\\n",
       "0  4TnjEaWOeW0eKTKIEvJyCa          97         0.784   0.430   10    -8.756   \n",
       "1  285pBltuF7vW8TeWk8hdRR          91         0.511   0.566    6    -7.230   \n",
       "2  4VXIryQMWpIdGgYR4TrjT1          85         0.671   0.529    0    -7.226   \n",
       "3  3KkXRkHbMCARz0aVfEt68P          87         0.760   0.479    2    -5.574   \n",
       "4  0u2P5u6lvoDfwTYjAADbn4          89         0.351   0.296    4   -10.109   \n",
       "\n",
       "   mode  speechiness  acousticness  instrumentalness  liveness  valence  \\\n",
       "0     0       0.0364        0.1230          0.000000    0.0887    0.236   \n",
       "1     0       0.2000        0.3490          0.000000    0.3400    0.218   \n",
       "2     1       0.3070        0.0769          0.000335    0.0856    0.203   \n",
       "3     1       0.0466        0.5560          0.000000    0.0703    0.913   \n",
       "4     0       0.0333        0.9340          0.000000    0.0950    0.120   \n",
       "\n",
       "     tempo  duration_ms  time_signature  \n",
       "0  127.087       159382               4  \n",
       "1   83.903       239836               4  \n",
       "2  161.989       165820               4  \n",
       "3   89.911       158040               4  \n",
       "4  115.284       200186               4  "
      ]
     },
     "execution_count": 28,
     "metadata": {},
     "output_type": "execute_result"
    }
   ],
   "source": [
    "# merge both dataframes\n",
    "# the 'inner' method will make sure that we only keep track IDs present in both datasets\n",
    "df = pd.merge(df_tracks,df_audio_features,on='track_id',how='inner')\n",
    "print(\"Shape of the dataset:\", df_audio_features.shape)\n",
    "df.head()"
   ]
  },
  {
   "cell_type": "code",
   "execution_count": 29,
   "metadata": {},
   "outputs": [
    {
     "name": "stdout",
     "output_type": "stream",
     "text": [
      "<class 'pandas.core.frame.DataFrame'>\n",
      "Int64Index: 4848 entries, 0 to 4847\n",
      "Data columns (total 17 columns):\n",
      "artist_name         4848 non-null object\n",
      "track_name          4848 non-null object\n",
      "track_id            4848 non-null object\n",
      "popularity          4848 non-null int64\n",
      "danceability        4848 non-null float64\n",
      "energy              4848 non-null float64\n",
      "key                 4848 non-null int64\n",
      "loudness            4848 non-null float64\n",
      "mode                4848 non-null int64\n",
      "speechiness         4848 non-null float64\n",
      "acousticness        4848 non-null float64\n",
      "instrumentalness    4848 non-null float64\n",
      "liveness            4848 non-null float64\n",
      "valence             4848 non-null float64\n",
      "tempo               4848 non-null float64\n",
      "duration_ms         4848 non-null int64\n",
      "time_signature      4848 non-null int64\n",
      "dtypes: float64(9), int64(5), object(3)\n",
      "memory usage: 681.8+ KB\n"
     ]
    }
   ],
   "source": [
    "df.info()"
   ]
  },
  {
   "cell_type": "markdown",
   "metadata": {},
   "source": [
    "Just in case, checking for any duplicate tracks:"
   ]
  },
  {
   "cell_type": "code",
   "execution_count": 30,
   "metadata": {},
   "outputs": [
    {
     "data": {
      "text/html": [
       "<div>\n",
       "<style scoped>\n",
       "    .dataframe tbody tr th:only-of-type {\n",
       "        vertical-align: middle;\n",
       "    }\n",
       "\n",
       "    .dataframe tbody tr th {\n",
       "        vertical-align: top;\n",
       "    }\n",
       "\n",
       "    .dataframe thead th {\n",
       "        text-align: right;\n",
       "    }\n",
       "</style>\n",
       "<table border=\"1\" class=\"dataframe\">\n",
       "  <thead>\n",
       "    <tr style=\"text-align: right;\">\n",
       "      <th></th>\n",
       "      <th>artist_name</th>\n",
       "      <th>track_name</th>\n",
       "      <th>track_id</th>\n",
       "      <th>popularity</th>\n",
       "      <th>danceability</th>\n",
       "      <th>energy</th>\n",
       "      <th>key</th>\n",
       "      <th>loudness</th>\n",
       "      <th>mode</th>\n",
       "      <th>speechiness</th>\n",
       "      <th>acousticness</th>\n",
       "      <th>instrumentalness</th>\n",
       "      <th>liveness</th>\n",
       "      <th>valence</th>\n",
       "      <th>tempo</th>\n",
       "      <th>duration_ms</th>\n",
       "      <th>time_signature</th>\n",
       "    </tr>\n",
       "  </thead>\n",
       "  <tbody>\n",
       "  </tbody>\n",
       "</table>\n",
       "</div>"
      ],
      "text/plain": [
       "Empty DataFrame\n",
       "Columns: [artist_name, track_name, track_id, popularity, danceability, energy, key, loudness, mode, speechiness, acousticness, instrumentalness, liveness, valence, tempo, duration_ms, time_signature]\n",
       "Index: []"
      ]
     },
     "execution_count": 30,
     "metadata": {},
     "output_type": "execute_result"
    }
   ],
   "source": [
    "df[df.duplicated(subset=['artist_name','track_name'],keep=False)]"
   ]
  },
  {
   "cell_type": "markdown",
   "metadata": {},
   "source": [
    "Everything seems to be fine so I will save the dataframe as a .csv file."
   ]
  },
  {
   "cell_type": "code",
   "execution_count": 31,
   "metadata": {},
   "outputs": [],
   "source": [
    "df.to_csv('SpotifyAudioFeatures08082018.csv')"
   ]
  },
  {
   "cell_type": "code",
   "execution_count": null,
   "metadata": {},
   "outputs": [],
   "source": []
  }
 ],
 "metadata": {
  "kernelspec": {
   "display_name": "Python 3",
   "language": "python",
   "name": "python3"
  },
  "language_info": {
   "codemirror_mode": {
    "name": "ipython",
    "version": 3
   },
   "file_extension": ".py",
   "mimetype": "text/x-python",
   "name": "python",
   "nbconvert_exporter": "python",
   "pygments_lexer": "ipython3",
   "version": "3.7.4"
  }
 },
 "nbformat": 4,
 "nbformat_minor": 2
}
